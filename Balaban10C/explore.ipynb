{
 "cells": [
  {
   "cell_type": "code",
   "execution_count": 11,
   "metadata": {},
   "outputs": [],
   "source": [
    "import networkx as nx\n",
    "import matplotlib.pyplot as plt\n",
    "from sage.all import *"
   ]
  },
  {
   "cell_type": "code",
   "execution_count": 12,
   "metadata": {},
   "outputs": [],
   "source": [
    "g = graphs.Balaban10Cage(embedding=1)"
   ]
  },
  {
   "cell_type": "code",
   "execution_count": 13,
   "metadata": {},
   "outputs": [],
   "source": [
    "NUM_VERTICES = g.num_verts()\n",
    "NUM_EDGES = g.size()\n",
    "VERTEX_DEGREE = g.degree()[0]"
   ]
  },
  {
   "cell_type": "code",
   "execution_count": 14,
   "metadata": {},
   "outputs": [],
   "source": [
    "adjacency_matrix = g.adjacency_matrix()\n",
    "adjacency_list = [ [0 for i in range(VERTEX_DEGREE)] for j in range(NUM_VERTICES)]\n",
    "for i in range(NUM_VERTICES):\n",
    "    d = 0\n",
    "    for j in range(NUM_VERTICES):\n",
    "        if adjacency_matrix[i][j] == 1:\n",
    "            adjacency_list[i][d] = j\n",
    "            d += 1"
   ]
  },
  {
   "cell_type": "code",
   "execution_count": 15,
   "metadata": {},
   "outputs": [],
   "source": [
    "# find the number of cycles of length k\n",
    "\n",
    "# https://ieeexplore.ieee.org/stamp/stamp.jsp?tp=&arnumber=1602189\n",
    "# We use a FIFO queue to store the open paths and a register to \n",
    "# record the length of the path. The register is not necessary, \n",
    "# because you can always get the length from the open path directly.\n",
    "# The algorithm starts with all vertices of the graph. First,\n",
    "# put all vertices into the queue and set the register to 0.\n",
    "# Then the iteration of main loop of the algorithm starts.\n",
    "# Fetch an open path from the queue. Its length is k which\n",
    "# is indicated by the register.\n",
    "# Verify if there is an edge which links the tail to the head\n",
    "# of the open path. If it is true, a cycle is enumerated, and\n",
    "# then output the cycle. When the register is 0 in such case, it\n",
    "# means the cycle is a selfloop.\n",
    "# Then get an adjacent edge of the tail whose end does not\n",
    "# occur in the open path and the order of its end is greater than\n",
    "# the order of the head. This edge and the k length open path\n",
    "# construct a new k + 1 length open path. Put this new open\n",
    "# path into the queue.\n",
    "# After having generated all the k + 1 length open paths\n",
    "# from the k length open path, if this open path is the last k\n",
    "# length open path of the queue, set register to k + 1.\n",
    "# If the queue is empty, the algorithm finishes, else jumps\n",
    "# to where the main loop starts.\n",
    "\n",
    "def find_cycles(k):\n",
    "    cycles = []\n",
    "    queue = []\n",
    "    for i in range(NUM_VERTICES):\n",
    "        queue.append([i])\n",
    "    while len(queue) > 0:\n",
    "        path = queue.pop(0)\n",
    "        if len(path) == k:\n",
    "            if path[0] in adjacency_list[path[-1]]:\n",
    "                cycle = path + [path[0]]\n",
    "                cycles.append(cycle)\n",
    "            continue\n",
    "        for i in adjacency_list[path[-1]]:\n",
    "            if i not in path and i > path[0]:\n",
    "                queue.append(path + [i])\n",
    "    return cycles\n",
    "\n",
    "assert len(find_cycles(9)) == 0\n",
    "assert len(find_cycles(10)) == 528\n",
    "assert len(find_cycles(11)) == len([ c for c in g.to_directed().all_simple_cycles(max_length=11) if len(c) == 11 + 1 ])\n",
    "assert len(find_cycles(12)) == len([ c for c in g.to_directed().all_simple_cycles(max_length=12) if len(c) == 12 + 1 ])\n",
    "assert len(find_cycles(13)) == len([ c for c in g.to_directed().all_simple_cycles(max_length=13) if len(c) == 13 + 1 ])\n",
    "assert len(find_cycles(14)) == len([ c for c in g.to_directed().all_simple_cycles(max_length=14) if len(c) == 14 + 1 ])\n",
    "assert len(find_cycles(15)) == len([ c for c in g.to_directed().all_simple_cycles(max_length=15) if len(c) == 15 + 1 ])\n",
    "assert len(find_cycles(16)) == len([ c for c in g.to_directed().all_simple_cycles(max_length=16) if len(c) == 16 + 1 ])\n",
    "assert len(find_cycles(17)) == len([ c for c in g.to_directed().all_simple_cycles(max_length=17) if len(c) == 17 + 1 ])"
   ]
  },
  {
   "cell_type": "code",
   "execution_count": 16,
   "metadata": {},
   "outputs": [
    {
     "data": {
      "text/plain": [
       "2160"
      ]
     },
     "execution_count": 16,
     "metadata": {},
     "output_type": "execute_result"
    }
   ],
   "source": [
    "len(find_cycles(14))"
   ]
  },
  {
   "cell_type": "code",
   "execution_count": 17,
   "metadata": {},
   "outputs": [
    {
     "data": {
      "text/plain": [
       "2160"
      ]
     },
     "execution_count": 17,
     "metadata": {},
     "output_type": "execute_result"
    }
   ],
   "source": [
    "len([ c for c in g.to_directed().all_simple_cycles(max_length=14) if len(c) == 14 + 1 ])"
   ]
  },
  {
   "cell_type": "code",
   "execution_count": 18,
   "metadata": {},
   "outputs": [
    {
     "data": {
      "text/plain": [
       "4200"
      ]
     },
     "execution_count": 18,
     "metadata": {},
     "output_type": "execute_result"
    }
   ],
   "source": [
    "(14 + 13 + 12 + 11 + 10) * 70"
   ]
  },
  {
   "cell_type": "code",
   "execution_count": 19,
   "metadata": {},
   "outputs": [
    {
     "data": {
      "text/plain": [
       "0"
      ]
     },
     "execution_count": 19,
     "metadata": {},
     "output_type": "execute_result"
    }
   ],
   "source": [
    "len(find_cycles(9))"
   ]
  }
 ],
 "metadata": {
  "kernelspec": {
   "display_name": "SageMath 10.3",
   "language": "sage",
   "name": "SageMath-10.3"
  },
  "language_info": {
   "codemirror_mode": {
    "name": "ipython",
    "version": 3
   },
   "file_extension": ".py",
   "mimetype": "text/x-python",
   "name": "python",
   "nbconvert_exporter": "python",
   "pygments_lexer": "ipython3",
   "version": "3.11.8"
  }
 },
 "nbformat": 4,
 "nbformat_minor": 2
}
