{
 "cells": [
  {
   "cell_type": "code",
   "execution_count": 1,
   "metadata": {
    "vscode": {
     "languageId": "python"
    }
   },
   "outputs": [],
   "source": [
    "import networkx as nx\n",
    "import matplotlib.pyplot as plt\n",
    "from sage.all import *\n",
    "from math import ceil\n",
    "import plotly.graph_objects as go\n",
    "import numpy as np\n",
    "from time import perf_counter"
   ]
  },
  {
   "cell_type": "markdown",
   "metadata": {},
   "source": [
    "## Experiment with Cycle Calculation Algorithm"
   ]
  },
  {
   "cell_type": "code",
   "execution_count": 2,
   "metadata": {
    "vscode": {
     "languageId": "python"
    }
   },
   "outputs": [],
   "source": [
    "g = graphs.Balaban10Cage(embedding=1)"
   ]
  },
  {
   "cell_type": "code",
   "execution_count": 6,
   "metadata": {
    "vscode": {
     "languageId": "python"
    }
   },
   "outputs": [],
   "source": [
    "NUM_VERTICES = g.num_verts()\n",
    "NUM_EDGES = g.size()\n",
    "VERTEX_DEGREE = g.degree()[0]"
   ]
  },
  {
   "cell_type": "code",
   "execution_count": 8,
   "metadata": {
    "vscode": {
     "languageId": "python"
    }
   },
   "outputs": [],
   "source": [
    "adjacency_matrix = g.adjacency_matrix()\n",
    "adjacency_list = [ [0 for i in range(VERTEX_DEGREE)] for j in range(NUM_VERTICES)]\n",
    "for i in range(NUM_VERTICES):\n",
    "    d = 0\n",
    "    for j in range(NUM_VERTICES):\n",
    "        if adjacency_matrix[i][j] == 1:\n",
    "            adjacency_list[i][d] = j\n",
    "            d += 1"
   ]
  },
  {
   "cell_type": "code",
   "execution_count": 28,
   "metadata": {
    "vscode": {
     "languageId": "python"
    }
   },
   "outputs": [],
   "source": [
    "# find the number of cycles of length k\n",
    "\n",
    "# https://ieeexplore.ieee.org/stamp/stamp.jsp?tp=&arnumber=1602189\n",
    "# We use a FIFO queue to store the open paths and a register to \n",
    "# record the length of the path. The register is not necessary, \n",
    "# because you can always get the length from the open path directly.\n",
    "# The algorithm starts with all vertices of the graph. First,\n",
    "# put all vertices into the queue and set the register to 0.\n",
    "# Then the iteration of main loop of the algorithm starts.\n",
    "# Fetch an open path from the queue. Its length is k which\n",
    "# is indicated by the register.\n",
    "# Verify if there is an edge which links the tail to the head\n",
    "# of the open path. If it is true, a cycle is enumerated, and\n",
    "# then output the cycle. When the register is 0 in such case, it\n",
    "# means the cycle is a selfloop.\n",
    "# Then get an adjacent edge of the tail whose end does not\n",
    "# occur in the open path and the order of its end is greater than\n",
    "# the order of the head. This edge and the k length open path\n",
    "# construct a new k + 1 length open path. Put this new open\n",
    "# path into the queue.\n",
    "# After having generated all the k + 1 length open paths\n",
    "# from the k length open path, if this open path is the last k\n",
    "# length open path of the queue, set register to k + 1.\n",
    "# If the queue is empty, the algorithm finishes, else jumps\n",
    "# to where the main loop starts.\n",
    "\n",
    "def find_cycles(k):\n",
    "    cycles = []\n",
    "    queue = []\n",
    "    for i in range(NUM_VERTICES):\n",
    "        queue.append([i])\n",
    "    while len(queue) > 0:\n",
    "        path = queue.pop(0)\n",
    "        if len(path) == k:\n",
    "            if path[0] in adjacency_list[path[-1]]:\n",
    "                cycle = path + [path[0]]\n",
    "                cycles.append(cycle)\n",
    "            continue\n",
    "        for i in adjacency_list[path[-1]]:\n",
    "            if i not in path and i > path[0]:\n",
    "                queue.append(path + [i])\n",
    "    return cycles"
   ]
  },
  {
   "cell_type": "code",
   "execution_count": null,
   "metadata": {
    "vscode": {
     "languageId": "python"
    }
   },
   "outputs": [],
   "source": [
    "assert len(find_cycles(9)) == 0\n",
    "assert len(find_cycles(10)) == 528\n",
    "assert len(find_cycles(11)) == len([ c for c in g.to_directed().all_simple_cycles(max_length=11) if len(c) == 11 + 1 ])\n",
    "assert len(find_cycles(12)) == len([ c for c in g.to_directed().all_simple_cycles(max_length=12) if len(c) == 12 + 1 ])\n",
    "assert len(find_cycles(13)) == len([ c for c in g.to_directed().all_simple_cycles(max_length=13) if len(c) == 13 + 1 ])\n",
    "assert len(find_cycles(14)) == len([ c for c in g.to_directed().all_simple_cycles(max_length=14) if len(c) == 14 + 1 ])\n",
    "assert len(find_cycles(15)) == len([ c for c in g.to_directed().all_simple_cycles(max_length=15) if len(c) == 15 + 1 ])\n",
    "assert len(find_cycles(16)) == len([ c for c in g.to_directed().all_simple_cycles(max_length=16) if len(c) == 16 + 1 ])\n",
    "assert len(find_cycles(17)) == len([ c for c in g.to_directed().all_simple_cycles(max_length=17) if len(c) == 17 + 1 ])"
   ]
  },
  {
   "cell_type": "code",
   "execution_count": null,
   "metadata": {
    "vscode": {
     "languageId": "python"
    }
   },
   "outputs": [],
   "source": [
    "len(find_cycles(14))"
   ]
  },
  {
   "cell_type": "code",
   "execution_count": null,
   "metadata": {
    "vscode": {
     "languageId": "python"
    }
   },
   "outputs": [],
   "source": [
    "len([ c for c in g.to_directed().all_simple_cycles(max_length=14) if len(c) == 14 + 1 ])"
   ]
  },
  {
   "cell_type": "code",
   "execution_count": null,
   "metadata": {
    "vscode": {
     "languageId": "python"
    }
   },
   "outputs": [],
   "source": [
    "(14 + 13 + 12 + 11 + 10) * 70"
   ]
  },
  {
   "cell_type": "code",
   "execution_count": null,
   "metadata": {
    "vscode": {
     "languageId": "python"
    }
   },
   "outputs": [],
   "source": [
    "len([ c for c in g.to_directed().all_simple_cycles(max_length=12) if len(c) == 12 + 1 ])"
   ]
  },
  {
   "cell_type": "code",
   "execution_count": null,
   "metadata": {
    "vscode": {
     "languageId": "python"
    }
   },
   "outputs": [],
   "source": [
    "len([ c for c in g.to_directed().all_simple_cycles(max_length=13) if len(c) == 13 + 1 ])"
   ]
  },
  {
   "cell_type": "code",
   "execution_count": null,
   "metadata": {
    "vscode": {
     "languageId": "python"
    }
   },
   "outputs": [],
   "source": [
    "len([ c for c in g.to_directed().all_simple_cycles(max_length=16) if len(c) == 16 + 1 ])"
   ]
  },
  {
   "cell_type": "code",
   "execution_count": null,
   "metadata": {
    "vscode": {
     "languageId": "python"
    }
   },
   "outputs": [],
   "source": [
    "len([ c for c in g.to_directed().all_simple_cycles(max_length=17) if len(c) == 17 + 1 ])"
   ]
  },
  {
   "cell_type": "markdown",
   "metadata": {},
   "source": [
    "## Generate Adjacency Lists"
   ]
  },
  {
   "cell_type": "code",
   "execution_count": 28,
   "metadata": {
    "vscode": {
     "languageId": "python"
    }
   },
   "outputs": [],
   "source": [
    "g = graphs.TutteCoxeterGraph()\n",
    "adjacency_list = [ [] for j in range(len(g.vertices()))]\n",
    "for e in g.edges():\n",
    "    adjacency_list[e[0]].append(e[1])\n",
    "    adjacency_list[e[1]].append(e[0])\n",
    "\n",
    "with open('adjacency_lists/tutte_coxeter_graph.txt', 'w') as f:\n",
    "    f.write(f'{len(g.vertices())} {len(g.edges())}\\n')\n",
    "    for i in range(len(g.vertices())):\n",
    "        f.write(f'{\" \".join(map(str, adjacency_list[i]))}\\n')"
   ]
  },
  {
   "cell_type": "code",
   "execution_count": 30,
   "metadata": {
    "vscode": {
     "languageId": "python"
    }
   },
   "outputs": [],
   "source": [
    "g = graphs.HarriesGraph()\n",
    "adjacency_list = [ [] for j in range(len(g.vertices()))]\n",
    "for e in g.edges():\n",
    "    adjacency_list[e[0]].append(e[1])\n",
    "    adjacency_list[e[1]].append(e[0])\n",
    "\n",
    "with open('adjacency_lists/harries_10_cage.txt', 'w') as f:\n",
    "    f.write(f'{len(g.vertices())} {len(g.edges())}\\n')\n",
    "    for i in range(len(g.vertices())):\n",
    "        f.write(f'{\" \".join(map(str, adjacency_list[i]))}\\n')"
   ]
  },
  {
   "cell_type": "code",
   "execution_count": 33,
   "metadata": {
    "vscode": {
     "languageId": "python"
    }
   },
   "outputs": [],
   "source": [
    "g = graphs.HarriesWongGraph()\n",
    "adjacency_list = [ [] for j in range(len(g.vertices()))]\n",
    "for e in g.edges():\n",
    "    adjacency_list[e[0]].append(e[1])\n",
    "    adjacency_list[e[1]].append(e[0])\n",
    "\n",
    "with open('adjacency_lists/harries_wong_10_cage.txt', 'w') as f:\n",
    "    f.write(f'{len(g.vertices())} {len(g.edges())}\\n')\n",
    "    for i in range(len(g.vertices())):\n",
    "        f.write(f'{\" \".join(map(str, adjacency_list[i]))}\\n')"
   ]
  },
  {
   "cell_type": "code",
   "execution_count": 27,
   "metadata": {
    "vscode": {
     "languageId": "python"
    }
   },
   "outputs": [],
   "source": [
    "for k in range(3, 10):\n",
    "    g = graphs.CompleteGraph(k)\n",
    "    adjacency_list = [ [] for j in range(len(g.vertices()))]\n",
    "    for e in g.edges():\n",
    "        adjacency_list[e[0]].append(e[1])\n",
    "        adjacency_list[e[1]].append(e[0])\n",
    "\n",
    "    with open(f'adjacency_lists/k{k}.txt', 'w') as f:\n",
    "        f.write(f'{len(g.vertices())} {len(g.edges())}\\n')\n",
    "        for i in range(len(g.vertices())):\n",
    "            f.write(f'{\" \".join(map(str, adjacency_list[i]))}\\n')"
   ]
  },
  {
   "cell_type": "code",
   "execution_count": null,
   "metadata": {
    "vscode": {
     "languageId": "python"
    }
   },
   "outputs": [],
   "source": [
    "# formula (Ringel and Youngs 1968; Harary 1994, p. 118)\n",
    "for k in range(3, 10):\n",
    "    print(f\"Complete graph k_{k} has genus {ceil((k-3)*(k-4)/12)}\")"
   ]
  },
  {
   "cell_type": "code",
   "execution_count": 34,
   "metadata": {
    "vscode": {
     "languageId": "python"
    }
   },
   "outputs": [],
   "source": [
    "for k in range(3, 10):\n",
    "    g = graphs.CompleteBipartiteGraph(k, k)\n",
    "    adjacency_list = [ [] for j in range(len(g.vertices()))]\n",
    "    for e in g.edges():\n",
    "        adjacency_list[e[0]].append(e[1])\n",
    "        adjacency_list[e[1]].append(e[0])\n",
    "\n",
    "    with open(f'adjacency_lists/k{k}-{k}.txt', 'w') as f:\n",
    "        f.write(f'{len(g.vertices())} {len(g.edges())}\\n')\n",
    "        for i in range(len(g.vertices())):\n",
    "            f.write(f'{\" \".join(map(str, adjacency_list[i]))}\\n')"
   ]
  },
  {
   "cell_type": "code",
   "execution_count": null,
   "metadata": {
    "vscode": {
     "languageId": "python"
    }
   },
   "outputs": [],
   "source": [
    "# formula (Ringel 1965; Beineke and Harary 1965; Harary 1994, p. 119).\n",
    "for n in range(3, 10):\n",
    "    m = n\n",
    "    print(f\"Complete bipartite graph k_{m},{n} has genus {ceil((m-2)*(n-2)/4)}\")"
   ]
  },
  {
   "cell_type": "code",
   "execution_count": 35,
   "metadata": {
    "vscode": {
     "languageId": "python"
    }
   },
   "outputs": [],
   "source": [
    "g = graphs.Tutte12Cage()\n",
    "adjacency_list = [ [] for j in range(len(g.vertices()))]\n",
    "for e in g.edges():\n",
    "    adjacency_list[e[0]].append(e[1])\n",
    "    adjacency_list[e[1]].append(e[0])\n",
    "\n",
    "with open('adjacency_lists/tutte12.txt', 'w') as f:\n",
    "    f.write(f'{len(g.vertices())} {len(g.edges())}\\n')\n",
    "    for i in range(len(g.vertices())):\n",
    "        f.write(f'{\" \".join(map(str, adjacency_list[i]))}\\n')"
   ]
  },
  {
   "cell_type": "code",
   "execution_count": 34,
   "metadata": {
    "vscode": {
     "languageId": "python"
    }
   },
   "outputs": [],
   "source": [
    "g = graphs.Balaban11Cage()\n",
    "# relabel vertices from 0 to num verts\n",
    "g.relabel()\n",
    "adjacency_list = [ [] for j in range(len(g.vertices()))]\n",
    "for e in g.edges():\n",
    "    u, v = int(e[0]), int(e[1])\n",
    "    adjacency_list[u].append(v)\n",
    "    adjacency_list[v].append(u)\n",
    "\n",
    "with open('adjacency_lists/balaban11.txt', 'w') as f:\n",
    "    f.write(f'{len(g.vertices())} {len(g.edges())}\\n')\n",
    "    for i in range(len(g.vertices())):\n",
    "        f.write(f'{\" \".join(map(str, adjacency_list[i]))}\\n')"
   ]
  },
  {
   "cell_type": "code",
   "execution_count": 184,
   "metadata": {
    "vscode": {
     "languageId": "python"
    }
   },
   "outputs": [],
   "source": [
    "g = graphs.GrayGraph()\n",
    "adjacency_list = [ [] for j in range(len(g.vertices()))]\n",
    "for e in g.edges():\n",
    "    adjacency_list[e[0]].append(e[1])\n",
    "    adjacency_list[e[1]].append(e[0])\n",
    "\n",
    "with open('adjacency_lists/gray.txt', 'w') as f:\n",
    "    f.write(f'{len(g.vertices())} {len(g.edges())}\\n')\n",
    "    for i in range(len(g.vertices())):\n",
    "        f.write(f'{\" \".join(map(str, adjacency_list[i]))}\\n')"
   ]
  },
  {
   "cell_type": "code",
   "execution_count": 91,
   "metadata": {
    "vscode": {
     "languageId": "python"
    }
   },
   "outputs": [],
   "source": [
    "# convert from https://www.win.tue.nl/~aeb/graphs/cages/cages.html format to own format\n",
    "new_content = ''\n",
    "file = 'adjacency_lists/7-6-cage.txt'\n",
    "with open(file, 'r') as f:\n",
    "    lines = f.readlines()\n",
    "    num_vertices = int(lines[0].strip()[1:])\n",
    "    adjacency_matrix = [ [0 for i in range(num_vertices)] for j in range(num_vertices)]\n",
    "    for i in range(1, len(lines)):\n",
    "        line = lines[i].strip()[:-1]\n",
    "        for j in line.split(','):\n",
    "            adjacency_matrix[i - 1][int(j)] = 1\n",
    "    num_edges = sum([ sum(row) for row in adjacency_matrix ]) // 2\n",
    "\n",
    "    new_content = f'{num_vertices} {num_edges}\\n'\n",
    "    for i in range(1, len(lines)):\n",
    "        line = lines[i].strip()[:-1].replace(',', ' ')\n",
    "        new_content += f'{line}\\n'\n",
    "\n",
    "with open(file, 'w') as f:\n",
    "    f.write(new_content)"
   ]
  },
  {
   "cell_type": "code",
   "execution_count": 6,
   "metadata": {
    "vscode": {
     "languageId": "python"
    }
   },
   "outputs": [],
   "source": [
    "# K_2,...,2 graphs\n",
    "for k in range(2, 6):\n",
    "    g = graphs.CompleteMultipartiteGraph([2] * k)\n",
    "    adjacency_list = [ [] for j in range(len(g.vertices()))]\n",
    "    for e in g.edges():\n",
    "        adjacency_list[e[0]].append(e[1])\n",
    "        adjacency_list[e[1]].append(e[0])\n",
    "    with open('adjacency_lists/k' + \"-\".join(['2'] * k) + '.txt', 'w') as f:\n",
    "        f.write(f'{len(g.vertices())} {len(g.edges())}\\n')\n",
    "        for i in range(len(g.vertices())):\n",
    "            f.write(f'{\" \".join(map(str, adjacency_list[i]))}\\n')"
   ]
  },
  {
   "cell_type": "markdown",
   "metadata": {},
   "source": [
    "# Test Algo on Rome dataset\n",
    "https://visdunneright.github.io/gd_benchmark_sets/#moveToRome-Lib"
   ]
  },
  {
   "cell_type": "code",
   "execution_count": 18,
   "metadata": {
    "vscode": {
     "languageId": "python"
    }
   },
   "outputs": [],
   "source": [
    "import subprocess, threading\n",
    "import os,signal\n",
    "class Command(object):\n",
    "    def __init__(self, cmd):\n",
    "        self.cmd = cmd\n",
    "        self.process = None\n",
    "\n",
    "        self.stdout = None\n",
    "        self.stderr = None\n",
    "\n",
    "    def run(self, timeout, hide_output=True):\n",
    "        def target():\n",
    "            if hide_output:\n",
    "                self.process = subprocess.Popen(self.cmd, shell=True, stdout=subprocess.DEVNULL, stderr=subprocess.DEVNULL, preexec_fn=os.setsid)\n",
    "            else:\n",
    "                self.process = subprocess.Popen(self.cmd, shell=True, stdout=subprocess.PIPE, stderr=subprocess.PIPE, preexec_fn=os.setsid)\n",
    "            self.stdout, self.stderr = self.process.communicate()\n",
    "\n",
    "        thread = threading.Thread(target=target)\n",
    "        thread.start()\n",
    "\n",
    "        thread.join(timeout)\n",
    "        if thread.is_alive():\n",
    "            os.killpg(self.process.pid, signal.SIGTERM)\n",
    "            thread.join()\n",
    "        \n",
    "        return self.process.returncode\n",
    "\n",
    "# command = Command(\"echo 'Process started'; sleep 2; echo 'Process finished'\")\n",
    "# print(command.run(timeout=3))\n",
    "# print(command.run(timeout=1))"
   ]
  },
  {
   "cell_type": "code",
   "execution_count": null,
   "metadata": {
    "vscode": {
     "languageId": "python"
    }
   },
   "outputs": [],
   "source": [
    "import tarfile\n",
    "import networkx as nx\n",
    "from time import sleep\n",
    "\n",
    "valid = 0\n",
    "successfull = 0\n",
    "with tarfile.open('adjacency_lists/rome-graphml.tgz', 'r:gz') as tar:\n",
    "    for name in tar.getnames():\n",
    "        if not name.endswith('.graphml'):\n",
    "            continue\n",
    "\n",
    "        f = tar.extractfile(name)\n",
    "\n",
    "        # load as sage graph\n",
    "        g = Graph(nx.read_graphml(f))\n",
    "        obscure = int(name.split('.')[1]) != g.num_verts()\n",
    "        \n",
    "        # print(\"Obscure:\", obscure)\n",
    "        # print(\"Connected:\", g.is_connected())\n",
    "        # print(\"Planar:\", g.is_planar())\n",
    "        # print(\"Regular:\", g.is_regular())\n",
    "        # print(\"Max Degree:\", max(g.degree()))\n",
    "        if max(g.degree()) > 4:\n",
    "            continue\n",
    "\n",
    "        if not obscure and g.is_connected() and not g.is_planar():\n",
    "            valid += 1\n",
    "\n",
    "            while min(g.degree()) <= 1:\n",
    "                g.delete_vertices([ v for v in g.vertices() if g.degree(v) <= 1 ]) # remove nodes with only one edge \n",
    "            for v in g.vertices():\n",
    "                if g.degree(v) == 2:\n",
    "                    # replace with a single edge\n",
    "                    g.add_edge(g.neighbors(v))\n",
    "                    g.delete_vertex(v)\n",
    "            g.relabel() # relabel edges to numbers\n",
    "            adjacency_list = [ [] for j in range(len(g.vertices()))]\n",
    "            for e in g.edges():\n",
    "                adjacency_list[e[0]].append(e[1])\n",
    "                adjacency_list[e[1]].append(e[0])\n",
    "            max_degree = max(g.degree())\n",
    "            for i in range(len(g.vertices())): # pad adjacency list\n",
    "                while len(adjacency_list[i]) < max_degree:\n",
    "                    adjacency_list[i].append(65536)\n",
    "            with open('adjacency_lists/rome_temp.txt', 'w') as f:\n",
    "                f.write(f'{len(g.vertices())} {len(g.edges())}\\n')\n",
    "                for i in range(len(g.vertices())):\n",
    "                    f.write(f'{\" \".join(map(str, adjacency_list[i]))}\\n')\n",
    "\n",
    "            command = Command(f'S=\"0\" DEG=\"{max_degree}\" ADJ=\"adjacency_lists/rome_temp.txt\" make run')\n",
    "            terminated = command.run(timeout=10) == -15\n",
    "            if not terminated:\n",
    "                successfull += 1\n",
    "            break\n",
    "\n",
    "sleep(2)\n",
    "print(valid, successfull)"
   ]
  },
  {
   "cell_type": "markdown",
   "metadata": {},
   "source": [
    "# Test on graphs generated with Nauty"
   ]
  },
  {
   "cell_type": "code",
   "execution_count": 13,
   "metadata": {
    "vscode": {
     "languageId": "python"
    }
   },
   "outputs": [],
   "source": [
    "def to_adj_list(g, filename):\n",
    "    adjacency_list = [ [] for _ in range(len(g.vertices()))]\n",
    "    for e in g.edges():\n",
    "        adjacency_list[e[0]].append(e[1])\n",
    "        adjacency_list[e[1]].append(e[0])\n",
    "    max_degree = max(g.degree())\n",
    "    for i in range(len(g.vertices())): # pad adjacency list\n",
    "        while len(adjacency_list[i]) < max_degree:\n",
    "            adjacency_list[i].append(65536)\n",
    "    with open(filename, 'w') as f:\n",
    "        f.write(f'{len(g.vertices())} {len(g.edges())}\\n')\n",
    "        for i in range(len(g.vertices())):\n",
    "            f.write(f'{\" \".join(map(str, adjacency_list[i]))}\\n')\n",
    "\n",
    "    return adjacency_list, max_degree"
   ]
  },
  {
   "cell_type": "code",
   "execution_count": 14,
   "metadata": {
    "vscode": {
     "languageId": "python"
    }
   },
   "outputs": [],
   "source": [
    "def to_multi_code(adj_list, filename):\n",
    "    with open(filename, \"wb\") as file:\n",
    "        num_vertices = len(adj_list)\n",
    "        min_vertex_id = min(min(neighbors) for neighbors in adj_list)\n",
    "        num_bytes = 1 if num_vertices < 256 else 2\n",
    "        file.write(num_vertices.to_bytes(num_bytes, byteorder=\"little\"))\n",
    "        for v in range(num_vertices):\n",
    "            for u in adj_list[v]:\n",
    "                if u == 65536:\n",
    "                    continue\n",
    "                u = u - min_vertex_id\n",
    "                if u > v:\n",
    "                    file.write((u + 1).to_bytes(num_bytes, byteorder=\"little\"))\n",
    "            if v < num_vertices - 1:\n",
    "                file.write((0).to_bytes(num_bytes, byteorder=\"little\"))\n",
    "        file.flush()"
   ]
  },
  {
   "cell_type": "code",
   "execution_count": 15,
   "metadata": {
    "vscode": {
     "languageId": "python"
    }
   },
   "outputs": [],
   "source": [
    "import re\n",
    "def run_page(max_degree, filename, timeout=100):\n",
    "    command = Command(f'S=\"0\" DEG=\"{max_degree}\" ADJ=\"{filename}\" make run')\n",
    "    returncode = command.run(timeout=timeout, hide_output=False)\n",
    "    if returncode != 0:\n",
    "        raise Exception(f\"Error with {g}: \" + '\\n'.join(command.stderr.decode().split('\\n')[-3:]))\n",
    "    else:\n",
    "        reg = re.search(r'The genus is (\\d+)', command.stderr.decode())\n",
    "        genus = None\n",
    "        if reg:\n",
    "            genus = int(reg.group(1))\n",
    "        return genus"
   ]
  },
  {
   "cell_type": "code",
   "execution_count": 16,
   "metadata": {
    "vscode": {
     "languageId": "python"
    }
   },
   "outputs": [],
   "source": [
    "def run_multi_genus(filename, timeout=100):\n",
    "    command = Command(f'cat {filename} | ../MultiGenus/multi_genus_longtype_128 w')\n",
    "    returncode = command.run(timeout=timeout, hide_output=False)\n",
    "    if returncode != 0:\n",
    "        raise Exception(f\"Error with {g}: \" + command.stderr.decode())\n",
    "    else:\n",
    "        reg = re.search(r'with genus (\\d+)', command.stderr.decode())\n",
    "        genus = None\n",
    "        if reg:\n",
    "            genus = int(reg.group(1))\n",
    "        return genus"
   ]
  },
  {
   "cell_type": "code",
   "execution_count": null,
   "metadata": {
    "vscode": {
     "languageId": "python"
    }
   },
   "outputs": [],
   "source": [
    "USE_PLANARITY_CHECK = False\n",
    "ONLY_CONNECTED = True\n",
    "# ALGORITHM = \"PAGE\"\n",
    "ALGORITHM = \"MULTI\"\n",
    "\n",
    "# K_REGULAR = 3\n",
    "# IS_REGULAR = True\n",
    "K_REGULAR = \"possibly\"\n",
    "IS_REGULAR = False\n",
    "\n",
    "assert K_REGULAR == \"possibly\" or K_REGULAR >= 3\n",
    "for num_vertices in range(3, 13):\n",
    "    min_edges = (3 * num_vertices + 1) // 2\n",
    "    max_edges = 6 + 3 * num_vertices\n",
    "    max_possible_edges = (num_vertices * K_REGULAR // 2) if IS_REGULAR else (num_vertices * (num_vertices - 1) // 2)\n",
    "    if min_edges > max_possible_edges:\n",
    "        print(f\"No {K_REGULAR}-regular graphs with {num_vertices} vertices satisfy the constraint of at least {min_edges} edges\") \n",
    "        continue\n",
    "    non_isomorphic_graphs = list(graphs.nauty_geng(f\"{num_vertices} {min_edges}:{max_edges} {'-c' if ONLY_CONNECTED else ''} -d{K_REGULAR if IS_REGULAR else 3} -D{K_REGULAR if IS_REGULAR else num_vertices}\"))\n",
    "    print(f\"Found {len(non_isomorphic_graphs)} non-isomorphic connected {K_REGULAR}-regular graphs with {num_vertices} vertices and {min_edges} to {max_edges} edges\")\n",
    "    for g in non_isomorphic_graphs:\n",
    "        if USE_PLANARITY_CHECK and g.is_planar():\n",
    "            print(\"Skipping planar graph\")\n",
    "            continue\n",
    "\n",
    "        def run_algorithm(graph):\n",
    "            filename = 'adjacency_lists/nauty_temp.txt'\n",
    "            adjacency_list, max_degree = to_adj_list(graph, filename)\n",
    "\n",
    "            if ALGORITHM == \"PAGE\":\n",
    "                genus = run_page(max_degree, filename)\n",
    "            elif ALGORITHM == \"MULTI\":\n",
    "                multi_filename = '../MultiGenus/graphs/nauty_temp.mc'\n",
    "                to_multi_code(adjacency_list, multi_filename)\n",
    "                genus = run_multi_genus(multi_filename)\n",
    "            else:\n",
    "                raise Exception(\"Invalid algorithm\")\n",
    "            \n",
    "            return genus\n",
    "        \n",
    "        try:\n",
    "            if run_algorithm(g) == 2:\n",
    "                # G - e must embed on the torus\n",
    "                is_torus_obstruction = True\n",
    "                for e in g.edges():\n",
    "                    g.delete_edge(e)\n",
    "                    if run_algorithm(g) == 2:\n",
    "                        is_torus_obstruction = False\n",
    "                        break\n",
    "                    g.add_edge(e)\n",
    "                if not is_torus_obstruction:\n",
    "                    continue\n",
    "                # to be a a minor order obstruction, G contract e must embed on the torus\n",
    "                is_minor_obstruction = True\n",
    "                for e in g.edges():\n",
    "                    g_contracted = g.copy()\n",
    "                    g_contracted.contract_edge(e)\n",
    "                    g_contracted.relabel()\n",
    "                    if run_algorithm(g_contracted) == 2:\n",
    "                        is_minor_obstruction = False\n",
    "                        break\n",
    "                if not is_minor_obstruction:\n",
    "                    continue\n",
    "\n",
    "                # print in upper triangular form\n",
    "                adjacency_matrix = g.adjacency_matrix()\n",
    "                print(g.num_verts(), end=' ')\n",
    "                for i in range(g.num_verts()):\n",
    "                    for j in range(i + 1, g.num_verts()):\n",
    "                        print(adjacency_matrix[i][j], end='')\n",
    "                print()\n",
    "        except Exception as e:\n",
    "            g.show()\n",
    "            raise e\n",
    "\n",
    "        "
   ]
  },
  {
   "cell_type": "markdown",
   "metadata": {},
   "source": [
    "## Performance of builtin SageMath Genus Calculation"
   ]
  },
  {
   "cell_type": "code",
   "execution_count": null,
   "metadata": {
    "vscode": {
     "languageId": "python"
    }
   },
   "outputs": [],
   "source": [
    "START_INDEX = 1\n",
    "starttime = perf_counter()\n",
    "\n",
    "# load adjacency list from file\n",
    "adjacency_list = []\n",
    "with open('adjacency_lists/Johnson5-2.txt', 'r') as f:\n",
    "    lines = f.readlines()\n",
    "    num_vertices, num_edges = map(int, lines[0].strip().split())\n",
    "    for i in range(1, len(lines)):\n",
    "        neighbors = list(map(lambda x: int(x) - START_INDEX, lines[i].strip().split()))\n",
    "        adjacency_list.append(list(filter(lambda x: x != 65536 - START_INDEX, neighbors)))\n",
    "    assert len(adjacency_list) == num_vertices\n",
    "print(num_vertices, num_edges, adjacency_list)\n",
    "\n",
    "# convert from adjacency list to adjacency matrix\n",
    "adjacency_matrix = [ [0 for i in range(num_vertices)] for j in range(num_vertices)]\n",
    "for i in range(num_vertices):\n",
    "    for j in adjacency_list[i]:\n",
    "        adjacency_matrix[i][j] = 1\n",
    "        adjacency_matrix[j][i] = 1\n",
    "print(adjacency_matrix)\n",
    "\n",
    "# load into sagemath and calculate the genus\n",
    "g = Graph(matrix(adjacency_matrix), format='adjacency_matrix')\n",
    "print(f\"genus = {g.genus()}\")\n",
    "\n",
    "print(f'genus calculation took {perf_counter() - starttime} seconds')"
   ]
  },
  {
   "cell_type": "markdown",
   "metadata": {},
   "source": [
    "## Vizualize Cell Embedding"
   ]
  },
  {
   "cell_type": "code",
   "execution_count": 80,
   "metadata": {
    "vscode": {
     "languageId": "python"
    }
   },
   "outputs": [],
   "source": [
    "# fitting = [\n",
    "#     [0, 63, 15, 73, 3, 72, 7, 66, 1, 67, 31, 64, 0],\n",
    "#     [0, 64, 32, 106, 19, 86, 9, 87, 21, 110, 48, 65, 0],\n",
    "#     [1, 66, 8, 85, 37, 112, 48, 110, 38, 97, 40, 68, 1],\n",
    "#     [1, 68, 39, 76, 41, 107, 62, 92, 11, 91, 33, 67, 1],\n",
    "#     [2, 70, 34, 120, 28, 121, 42, 82, 6, 81, 23, 69, 2],\n",
    "#     [2, 71, 56, 122, 29, 123, 51, 108, 32, 64, 31, 70, 2],\n",
    "#     [3, 73, 17, 96, 13, 97, 38, 115, 24, 69, 23, 74, 3],\n",
    "#     [3, 74, 25, 93, 12, 95, 54, 121, 28, 87, 9, 72, 3],\n",
    "#     [4, 75, 18, 105, 45, 85, 8, 84, 46, 109, 57, 77, 4],\n",
    "#     [4, 76, 39, 82, 42, 123, 29, 90, 17, 73, 15, 75, 4],\n",
    "#     [4, 77, 55, 80, 5, 78, 10, 89, 60, 113, 41, 76, 4],\n",
    "#     [5, 79, 49, 92, 62, 114, 35, 84, 8, 66, 7, 78, 5],\n",
    "#     [5, 80, 58, 95, 12, 94, 43, 125, 50, 83, 47, 79, 5],\n",
    "#     [6, 83, 50, 119, 27, 118, 60, 89, 53, 116, 26, 81, 6],\n",
    "#     [7, 72, 9, 86, 30, 125, 43, 104, 61, 88, 10, 78, 7],\n",
    "#     [10, 88, 51, 123, 42, 121, 54, 102, 16, 103, 53, 89, 10],\n",
    "#     [11, 90, 29, 122, 37, 85, 45, 117, 26, 116, 44, 91, 11],\n",
    "#     [11, 92, 49, 101, 59, 120, 34, 118, 27, 96, 17, 90, 11],\n",
    "#     [12, 93, 22, 113, 60, 118, 34, 70, 31, 67, 33, 94, 12],\n",
    "#     [13, 96, 27, 119, 46, 84, 35, 102, 54, 95, 58, 98, 13],\n",
    "#     [13, 98, 52, 117, 45, 105, 59, 101, 14, 100, 40, 97, 13],\n",
    "#     [14, 99, 20, 109, 46, 119, 50, 125, 30, 124, 36, 100, 14],\n",
    "#     [14, 101, 49, 79, 47, 65, 48, 112, 22, 93, 25, 99, 14],\n",
    "#     [15, 63, 16, 102, 35, 114, 24, 115, 61, 104, 18, 75, 15],\n",
    "#     [19, 107, 41, 113, 22, 112, 37, 122, 56, 124, 30, 86, 19],\n",
    "#     [20, 99, 25, 74, 23, 81, 26, 117, 52, 106, 32, 108, 20],\n",
    "#     [20, 108, 51, 88, 61, 115, 38, 110, 21, 111, 57, 109, 20],\n",
    "#     [36, 124, 56, 71, 55, 77, 57, 111, 44, 116, 53, 103, 36],\n",
    "#     [0, 65, 47, 83, 6, 82, 39, 68, 40, 100, 36, 103, 16, 63, 0],\n",
    "#     [2, 69, 24, 114, 62, 107, 19, 106, 52, 98, 58, 80, 55, 71, 2],\n",
    "#     [18, 104, 43, 94, 33, 91, 44, 111, 21, 87, 28, 120, 59, 105, 18],\n",
    "# ]\n",
    "# fitting = [\n",
    "#     [0, 15, 3, 18, 1, 19, 7, 16, 0], \n",
    "#     [0, 16, 8, 26, 5, 27, 12, 17, 0], \n",
    "#     [1, 18, 5, 26, 14, 23, 11, 20, 1], \n",
    "#     [2, 21, 3, 15, 4, 25, 10, 22, 2], \n",
    "#     [2, 23, 14, 24, 9, 29, 6, 21, 2], \n",
    "#     [4, 24, 14, 26, 8, 28, 13, 25, 4], \n",
    "#     [0, 17, 11, 23, 2, 22, 7, 19, 9, 24, 4, 15, 0], \n",
    "#     [3, 21, 6, 28, 8, 16, 7, 22, 10, 27, 5, 18, 3], \n",
    "# ]\n",
    "fitting = [\n",
    "    [0, 1, 4, 6, 2, 0], \n",
    "    [0, 2, 7, 8, 3, 0], \n",
    "    [0, 3, 9, 5, 1, 0], \n",
    "    [1, 5, 7, 2, 6, 9, 3, 8, 4, 1]\n",
    "]"
   ]
  },
  {
   "cell_type": "code",
   "execution_count": 100,
   "metadata": {
    "vscode": {
     "languageId": "python"
    }
   },
   "outputs": [],
   "source": [
    "flat = [item for sublist in fitting for item in sublist]\n",
    "vertices = list(set(flat))"
   ]
  },
  {
   "cell_type": "code",
   "execution_count": 101,
   "metadata": {
    "vscode": {
     "languageId": "python"
    }
   },
   "outputs": [],
   "source": [
    "m = [ [0 for i in range(len(vertices))] for j in range(len(vertices))]\n",
    "for cycle in fitting:\n",
    "    for i in range(len(cycle) - 2):\n",
    "        u, v = cycle[i], cycle[i + 1]\n",
    "        m[u][v] = 1\n",
    "        m[v][u] = 1"
   ]
  },
  {
   "cell_type": "code",
   "execution_count": 103,
   "metadata": {
    "vscode": {
     "languageId": "python"
    }
   },
   "outputs": [],
   "source": [
    "g = Graph(matrix(m), format='adjacency_matrix')"
   ]
  },
  {
   "cell_type": "code",
   "execution_count": 105,
   "metadata": {
    "vscode": {
     "languageId": "python"
    }
   },
   "outputs": [],
   "source": [
    "ng = g.networkx_graph()     "
   ]
  },
  {
   "cell_type": "code",
   "execution_count": 120,
   "metadata": {
    "vscode": {
     "languageId": "python"
    }
   },
   "outputs": [],
   "source": [
    "def plot(pos, labels, adjacency_matrix, fitting):\n",
    "    Xn=[pos[k][0] for k in range(len(pos))]  # x-coordinates of nodes\n",
    "    Yn=[pos[k][1] for k in range(len(pos))]  # y-coordinates\n",
    "    Zn=[pos[k][2] for k in range(len(pos))]  # z-coordinates\n",
    "    Xe=[]\n",
    "    Ye=[]\n",
    "    Ze=[]\n",
    "    for i in range(len(pos)):\n",
    "        for j in range(len(pos)):\n",
    "            if adjacency_matrix[i][j] == 1:\n",
    "                Xe+=[pos[i][0],pos[j][0], None]  # x-coordinates of edge ends\n",
    "                Ye+=[pos[i][1],pos[j][1], None]  # y-coordinates of edge ends\n",
    "                Ze+=[pos[i][2],pos[j][2], None]  # z-coordinates of edge ends\n",
    "\n",
    "    fig = go.Figure()\n",
    "    fig.add_trace(go.Scatter3d(\n",
    "        x=Xe,\n",
    "        y=Ye,\n",
    "        z=Ze,\n",
    "        mode='lines',\n",
    "        name='edges',\n",
    "        line=dict(color='rgb(125,125,125)', width=1),\n",
    "        hoverinfo='none'\n",
    "    ))\n",
    "    fig.add_trace(go.Scatter3d(\n",
    "        x=Xn,\n",
    "        y=Yn,\n",
    "        z=Zn,\n",
    "        mode='markers',\n",
    "        name='vertices',\n",
    "        marker=dict(\n",
    "            symbol='circle',\n",
    "            size=6,\n",
    "            color='blue',\n",
    "            line=dict(color='rgb(50,50,50)', width=0.5)\n",
    "        ),\n",
    "        text=labels,\n",
    "        hoverinfo='text'\n",
    "    ))\n",
    "\n",
    "    for c, cycle in enumerate(fitting):\n",
    "        fig.add_trace(go.Mesh3d(\n",
    "            x=[pos[v][0] for v in cycle],\n",
    "            y=[pos[v][1] for v in cycle],\n",
    "            z=[pos[v][2] for v in cycle],\n",
    "            opacity=1,\n",
    "            color=f'rgb({c*50 % 255}, {c*100 % 255}, {c*150 % 255})',\n",
    "            name=f'cycle {c}',\n",
    "            hoverinfo='name'\n",
    "        ))\n",
    "\n",
    "    fig.update_layout(\n",
    "        showlegend=False,\n",
    "        scene=dict(\n",
    "            xaxis=dict(visible=False),\n",
    "            yaxis=dict(visible=False),\n",
    "            zaxis=dict(visible=False)\n",
    "        )\n",
    "    )\n",
    "    fig.show()"
   ]
  },
  {
   "cell_type": "code",
   "execution_count": null,
   "metadata": {
    "vscode": {
     "languageId": "python"
    }
   },
   "outputs": [],
   "source": [
    "pos = nx.random_layout(ng, dim=3)\n",
    "# nx.draw(ng, pos, with_labels=True, font_weight='bold')\n",
    "plot(pos, vertices, m, fitting)"
   ]
  },
  {
   "cell_type": "code",
   "execution_count": null,
   "metadata": {
    "vscode": {
     "languageId": "python"
    }
   },
   "outputs": [],
   "source": [
    "# position based on the fitting\n",
    "pos = {}\n",
    "\n",
    "# layout the first cycle in a circle\n",
    "cycle = fitting[0]\n",
    "num_vertices = len(cycle)\n",
    "for i, v in enumerate(cycle):\n",
    "    if v not in pos:\n",
    "        pos[v] = [np.cos(2 * np.pi * i / num_vertices), np.sin(2 * np.pi * i / num_vertices), 0]\n",
    "\n",
    "for i, cycle in enumerate(fitting):\n",
    "    for j, v in enumerate(cycle[:-1]):\n",
    "        if v not in pos:\n",
    "            pos[v] = [i, j, i * j]\n",
    "plot(pos, vertices, m, fitting)"
   ]
  },
  {
   "cell_type": "code",
   "execution_count": null,
   "metadata": {
    "vscode": {
     "languageId": "python"
    }
   },
   "outputs": [],
   "source": [
    "pos = nx.spring_layout(ng, dim=3, pos=pos)\n",
    "# nx.draw(ng, pos, with_labels=True, font_weight='bold')\n",
    "plot(pos, vertices, m, fitting)"
   ]
  },
  {
   "cell_type": "markdown",
   "metadata": {},
   "source": [
    "## Experiment with Graph Generation"
   ]
  },
  {
   "cell_type": "code",
   "execution_count": null,
   "metadata": {
    "vscode": {
     "languageId": "python"
    }
   },
   "outputs": [],
   "source": [
    "for n in range(3, 26):\n",
    "    num_graphs = sum([1 for _ in graphs.nauty_geng(f\"{n} {n}:{3 * n}\")])\n",
    "    print(f\"number of possibly toroidal graphs with {n} vertices = {num_graphs}\")"
   ]
  },
  {
   "cell_type": "markdown",
   "metadata": {},
   "source": [
    "## Experiment with Cycle Distribution Traversal"
   ]
  },
  {
   "cell_type": "code",
   "execution_count": null,
   "metadata": {
    "vscode": {
     "languageId": "python"
    }
   },
   "outputs": [],
   "source": [
    "# https://stackoverflow.com/questions/11916974/efficient-iteration-over-sorted-partial-sums\n",
    "import heapq\n",
    "\n",
    "def sorted_subsets(L):\n",
    "  candidates = [(L[0], (0,))]\n",
    "\n",
    "  while True:\n",
    "    try:\n",
    "      top = heapq.heappop(candidates)\n",
    "    except IndexError:\n",
    "      return\n",
    "    yield tuple(L[i] for i in top[1])\n",
    "    i = top[1][-1]\n",
    "    if i+1 < len(L):\n",
    "      heapq.heappush(candidates, (top[0] + L[i+1], top[1] + (i+1,)))\n",
    "      heapq.heappush(candidates, (top[0] - L[i] + L[i+1], top[1][:-1] + (i+1,)))\n",
    "      \n",
    "# time complexity: O(k\\log k) where k is the number of subsets requested from the iterator\n",
    "\n",
    "it = sorted_subsets([1, 2, 5, 10, 11])\n",
    "for j in range(8):\n",
    "    print(next(it))"
   ]
  },
  {
   "cell_type": "code",
   "execution_count": null,
   "metadata": {
    "vscode": {
     "languageId": "python"
    }
   },
   "outputs": [],
   "source": [
    "def recursive_sorted_subsets(L, i):\n",
    "    if i == 1:\n",
    "        yield (L[0], (L[0],))\n",
    "        yield (L[1], (L[1],))\n",
    "        yield (L[0] + L[1], (L[0], L[1]))\n",
    "        return\n",
    "\n",
    "    iter1 = recursive_sorted_subsets(L, i - 1)\n",
    "    iter2 = recursive_sorted_subsets(L, i - 1)\n",
    "    sb, lb = L[i], (L[i],)\n",
    "    for sa, la in iter1:\n",
    "        while sb < sa:\n",
    "            yield (sb, lb)\n",
    "            _sb, _lb = next(iter2)\n",
    "            sb, lb = _sb + L[i], _lb + (L[i],)\n",
    "        yield (sa, la)\n",
    "    yield (sb, lb)\n",
    "    for _sb, _lb in iter2:\n",
    "        sb, lb = _sb + L[i], _lb + (L[i],)\n",
    "        yield (sb, lb)\n",
    "\n",
    "# time complexity: O(inefficient)\n",
    "\n",
    "it = recursive_sorted_subsets([1, 2, 5, 10, 11], 4)\n",
    "for j in range(8):\n",
    "    print(next(it))"
   ]
  },
  {
   "cell_type": "code",
   "execution_count": null,
   "metadata": {
    "vscode": {
     "languageId": "python"
    }
   },
   "outputs": [],
   "source": [
    "random_list = sorted(list(np.random.randint(1, 100, 10)))\n",
    "for a, b in zip(sorted_subsets(random_list), recursive_sorted_subsets(random_list, len(random_list) - 1)):\n",
    "    b = b[1]\n",
    "    print(a, b)\n",
    "    assert sum(a) == sum(b), f'{a} != {b}'"
   ]
  },
  {
   "cell_type": "code",
   "execution_count": null,
   "metadata": {
    "vscode": {
     "languageId": "python"
    }
   },
   "outputs": [],
   "source": [
    "from heapq import merge\n",
    "\n",
    "def merge_sorted_subsets(L):\n",
    "  subsets = [()]\n",
    "  def add(number):\n",
    "      for subset in subsets:\n",
    "          if not subset or number > subset[-1]:\n",
    "              yield subset + (number,)\n",
    "  for subset in merge(*map(add, L), key=sum):\n",
    "      yield subset\n",
    "      subsets.append(subset)\n",
    "      \n",
    "it = merge_sorted_subsets([1, 2, 5, 10, 11])\n",
    "for j in range(8):\n",
    "    print(next(it))"
   ]
  },
  {
   "cell_type": "code",
   "execution_count": 7,
   "metadata": {
    "vscode": {
     "languageId": "python"
    }
   },
   "outputs": [],
   "source": [
    "TRIALS = 1000\n",
    "SIZE = 1000\n",
    "DEPTH = 500 # 2 ** SIZE - 1\n",
    "RANGE = (1, 100)"
   ]
  },
  {
   "cell_type": "code",
   "execution_count": null,
   "metadata": {
    "vscode": {
     "languageId": "python"
    }
   },
   "outputs": [],
   "source": [
    "total_time = 0\n",
    "for _ in range(TRIALS):\n",
    "    random_list = sorted(list(np.random.randint(RANGE[0], RANGE[1], SIZE)))\n",
    "    start = perf_counter()\n",
    "    it = recursive_sorted_subsets(random_list, len(random_list) - 1)\n",
    "    for _ in range(DEPTH):\n",
    "        next(it)\n",
    "    total_time += perf_counter() - start\n",
    "print(f\"recursive_sorted_subsets took {total_time / TRIALS} seconds\")"
   ]
  },
  {
   "cell_type": "code",
   "execution_count": null,
   "metadata": {
    "vscode": {
     "languageId": "python"
    }
   },
   "outputs": [],
   "source": [
    "total_time = 0\n",
    "for _ in range(TRIALS):\n",
    "    random_list = sorted(list(np.random.randint(RANGE[0], RANGE[1], SIZE)))\n",
    "    start = perf_counter()\n",
    "    it = sorted_subsets(random_list)\n",
    "    for _ in range(DEPTH):\n",
    "        next(it)\n",
    "    total_time += perf_counter() - start\n",
    "print(f'sorted_subsets took {total_time / TRIALS} seconds')"
   ]
  },
  {
   "cell_type": "code",
   "execution_count": null,
   "metadata": {
    "vscode": {
     "languageId": "python"
    }
   },
   "outputs": [],
   "source": [
    "total_time = 0\n",
    "for _ in range(TRIALS):\n",
    "    random_list = sorted(list(np.random.randint(RANGE[0], RANGE[1], SIZE)))\n",
    "    start = perf_counter()\n",
    "    it = merge_sorted_subsets(random_list)\n",
    "    for _ in range(DEPTH):\n",
    "        next(it)\n",
    "    total_time += perf_counter() - start\n",
    "print(f'merge_sorted_subsets took {total_time / TRIALS} seconds')"
   ]
  },
  {
   "cell_type": "code",
   "execution_count": 11,
   "metadata": {
    "vscode": {
     "languageId": "python"
    }
   },
   "outputs": [],
   "source": [
    "def enum_dist_recursive(counts, num):\n",
    "    if len(counts) == 1:\n",
    "        for i in range(1, num + 1):\n",
    "            yield counts[0][0] * i, tuple([counts[0][0]] * i)\n",
    "        return\n",
    "\n",
    "    iter1 = enum_dist_recursive(counts[:-1], counts[-2][1]) if num == 1 else enum_dist_recursive(counts, num - 1)\n",
    "    iter2 = enum_dist_recursive(counts[:-1], counts[-2][1]) if num == 1 else enum_dist_recursive(counts, num - 1)\n",
    "    sb, lb = counts[-1][0] * num, tuple([counts[-1][0]] * num)\n",
    "    for sa, la in iter1:\n",
    "        while sb < sa:\n",
    "            yield sb, lb\n",
    "            _sb, _lb = next(iter2)\n",
    "            while counts[-1][0] in _lb:\n",
    "                _sb, _lb = next(iter2)\n",
    "            sb, lb = _sb + num * counts[-1][0], _lb + tuple([counts[-1][0]] * num)\n",
    "        yield sa, la\n",
    "    yield sb, lb\n",
    "    for _sb, _lb in iter2:\n",
    "        if counts[-1][0] in _lb:\n",
    "            continue\n",
    "        sb, lb = _sb + num * counts[-1][0], _lb + tuple([counts[-1][0]] * num)\n",
    "        yield sb, lb"
   ]
  },
  {
   "cell_type": "code",
   "execution_count": null,
   "metadata": {
    "vscode": {
     "languageId": "python"
    }
   },
   "outputs": [],
   "source": [
    "population = [(1, 2), (2, 2), (5, 1), (10, 1), (11, 1)]\n",
    "it = enum_dist_recursive(population, population[-1][1])\n",
    "for j in range(28):\n",
    "    print(next(it))"
   ]
  },
  {
   "cell_type": "code",
   "execution_count": 39,
   "metadata": {
    "vscode": {
     "languageId": "python"
    }
   },
   "outputs": [],
   "source": [
    "def enum_dist_iterative(counts):\n",
    "    k = 0\n",
    "\n",
    "    arr = [[]] # arr[i][j-1] = sorted subsets of counts[:i+1] with up to j elements of counts[i]\n",
    "    for j in range(1, counts[0][1] + 1):\n",
    "        arr[0].append([(counts[0][0] * n, tuple([counts[0][0]] * n)) for n in range(1, j + 1)])\n",
    "\n",
    "    for i in range(1, len(counts)):\n",
    "        arr.append([])\n",
    "        for j in range(1, counts[i][1] + 1):\n",
    "            row = []\n",
    "\n",
    "            lookback = arr[i - 1][-1] if j == 1 else arr[i][j - 2]\n",
    "            sb, lb = counts[i][0] * j, tuple([counts[i][0]] * j)\n",
    "            b = iter(lookback)\n",
    "            for sa, la in lookback:\n",
    "                while sb < sa:\n",
    "                    row.append((sb, lb))\n",
    "                    _sb, _lb = next(b)\n",
    "                    while counts[i][0] in _lb:\n",
    "                        _sb, _lb = next(b)\n",
    "                    sb, lb = _sb + j * counts[i][0], _lb + tuple([counts[i][0]] * j)\n",
    "                row.append((sa, la))\n",
    "            row.append((sb, lb))\n",
    "            for _sb, _lb in b:\n",
    "                if counts[i][0] in _lb:\n",
    "                    continue\n",
    "                sb, lb = _sb + j * counts[i][0], _lb + tuple([counts[i][0]] * j)\n",
    "                row.append((sb, lb))\n",
    "\n",
    "            arr[i].append(row)\n",
    "        \n",
    "        while k < len(arr[i][-1]) and (i == len(counts) - 1 or arr[i][-1][k][0] < counts[i + 1][0]):\n",
    "            yield arr[i][-1][k]\n",
    "            k += 1"
   ]
  },
  {
   "cell_type": "code",
   "execution_count": null,
   "metadata": {
    "vscode": {
     "languageId": "python"
    }
   },
   "outputs": [],
   "source": [
    "population = [(1, 2), (2, 2), (5, 1), (10, 1), (11, 1)]\n",
    "it = enum_dist_iterative(population)\n",
    "for j in range(28):\n",
    "    print(next(it))"
   ]
  },
  {
   "cell_type": "code",
   "execution_count": null,
   "metadata": {
    "vscode": {
     "languageId": "python"
    }
   },
   "outputs": [],
   "source": [
    "for k in range(10, 200, 10):\n",
    "    total_time = 0\n",
    "    for _ in range(TRIALS):\n",
    "        random_list = sorted(list(np.random.randint(RANGE[0], RANGE[1], SIZE)))\n",
    "        population = list(map(lambda x: (x, 1), random_list))\n",
    "        # unique, counts = np.unique(random_list, return_counts=True)\n",
    "        # population = list(zip(unique, counts))\n",
    "        start = perf_counter()\n",
    "        it = enum_dist_iterative(population)\n",
    "        for _ in range(k):\n",
    "            next(it)\n",
    "        total_time += perf_counter() - start\n",
    "    print(f'enum_dist_iterative took {total_time / TRIALS} seconds with k = {k}')"
   ]
  },
  {
   "cell_type": "code",
   "execution_count": 207,
   "metadata": {
    "vscode": {
     "languageId": "python"
    }
   },
   "outputs": [],
   "source": [
    "def enum_dist_iterative_as_counts(counts, target_sum=None):\n",
    "    k = 0\n",
    "\n",
    "    arr = [[]] # arr[i][j-1] = sorted subsets of counts[:i+1] with up to j elements of counts[i]\n",
    "    for j in range(1, counts[0][1] + 1):\n",
    "        if target_sum and counts[0][0] * j > target_sum:\n",
    "            break\n",
    "        arr[0].append([(counts[0][0] * n, [(counts[0][0], n)]) for n in range(1, j + 1)])\n",
    "\n",
    "    for i in range(1, len(counts)):\n",
    "        arr.append([])\n",
    "        for j in range(1, counts[i][1] + 1):\n",
    "            row = []\n",
    "\n",
    "            lookback = arr[i - 1][-1] if j == 1 else arr[i][j - 2]\n",
    "            sb, lb = counts[i][0] * j, [(counts[i][0], j)]\n",
    "            b = iter(lookback)\n",
    "            for sa, la in lookback:\n",
    "                while sb < sa:\n",
    "                    row.append((sb, lb))\n",
    "                    _sb, _lb = next(b)\n",
    "                    while counts[i][0] == _lb[-1][0]:\n",
    "                        _sb, _lb = next(b)\n",
    "                    sb, lb = _sb + j * counts[i][0], _lb + [(counts[i][0], j)]\n",
    "                if target_sum and sa > target_sum:\n",
    "                    break\n",
    "                row.append((sa, la))\n",
    "            row.append((sb, lb))\n",
    "            for _sb, _lb in b:\n",
    "                if target_sum and _sb > target_sum:\n",
    "                    break\n",
    "                if counts[i][0] == _lb[-1][0]:\n",
    "                    continue\n",
    "                sb, lb = _sb + j * counts[i][0], _lb + [(counts[i][0], j)]\n",
    "                row.append((sb, lb))\n",
    "\n",
    "            arr[i].append(row)\n",
    "        \n",
    "        while k < len(arr[i][-1]) and (i == len(counts) - 1 or arr[i][-1][k][0] < counts[i + 1][0]):\n",
    "            yield arr[i][-1][k]\n",
    "            k += 1"
   ]
  },
  {
   "cell_type": "code",
   "execution_count": null,
   "metadata": {
    "vscode": {
     "languageId": "python"
    }
   },
   "outputs": [],
   "source": [
    "population = [(1, 2), (2, 2), (5, 1), (10, 1), (11, 1)]\n",
    "it = enum_dist_iterative_as_counts(population)\n",
    "for j in range(28):\n",
    "    s, l = next(it)\n",
    "    print((s, tuple(item for row in [[x] * n for x, n in l] for item in row), l))"
   ]
  },
  {
   "cell_type": "code",
   "execution_count": null,
   "metadata": {
    "vscode": {
     "languageId": "python"
    }
   },
   "outputs": [],
   "source": [
    "population = [[11, 512], [12, 1056], [13, 384], [14, 1024], [15, 1792], [16, 3912], [17, 7296]]\n",
    "directed_edges = 168 * 2\n",
    "for i, (v, c) in enumerate(population):\n",
    "    population[i][1] = min(directed_edges // v, c)\n",
    "\n",
    "# first = population.pop(0)\n",
    "# it = enum_dist_iterative_as_counts(population, directed_edges)\n",
    "# for j in range(50000):\n",
    "#     s, l = next(it)\n",
    "#     subset = tuple(item for row in [[x] * n for x, n in l] for item in row)\n",
    "#     num_needed, fits = divmod(directed_edges - s, first[0])\n",
    "#     if fits == 0 and num_needed <= first[1]:\n",
    "#         print([(first[0], num_needed)] + l, first[0] * num_needed + s, len(subset) + num_needed)\n",
    "\n",
    "# it = enum_dist_iterative_as_counts(population, directed_edges)\n",
    "# for j in range(50000):\n",
    "#     s, l = next(it)\n",
    "#     subset = tuple(item for row in [[x] * n for x, n in l] for item in row)\n",
    "#     if s == directed_edges:\n",
    "#         print(l, s, len(subset))\n",
    "\n",
    "first = population.pop(0)\n",
    "for f in range(first[1], -1, -1):\n",
    "    target = directed_edges - f * first[0]\n",
    "    it = enum_dist_iterative_as_counts(population, target)\n",
    "    s = population[0][0]\n",
    "    while s <= target:\n",
    "        try:\n",
    "            s, l = next(it)\n",
    "            subset = tuple(item for row in [[x] * n for x, n in l] for item in row)\n",
    "            if s == target:\n",
    "                print([(first[0], f)] + l, first[0] * f + s, len(subset) + f)\n",
    "        except StopIteration:\n",
    "            break"
   ]
  },
  {
   "cell_type": "code",
   "execution_count": null,
   "metadata": {
    "vscode": {
     "languageId": "python"
    }
   },
   "outputs": [],
   "source": [
    "def dist_matching_sum(population, s):\n",
    "    array = [[()]] + [[] for _ in range(s)]\n",
    "    for v, c in population:\n",
    "        for j in range(1, c + 1):\n",
    "            for num in range(s - j * v, -1, -1):\n",
    "                if array[num]:\n",
    "                    for subset in array[num]:\n",
    "                        if v in subset:\n",
    "                            continue\n",
    "                        array[num + j * v] += [subset + tuple([v] * j)]\n",
    "                        if num + j * v == s:\n",
    "                            yield array[num + j * v][-1], sum(array[num + j * v][-1]), len(array[num + j * v][-1])\n",
    "\n",
    "it = dist_matching_sum(population, directed_edges)\n",
    "# for j in range(500):\n",
    "#     print(next(it))\n",
    "for d in it:\n",
    "    print(d)"
   ]
  },
  {
   "cell_type": "code",
   "execution_count": 190,
   "metadata": {
    "vscode": {
     "languageId": "python"
    }
   },
   "outputs": [],
   "source": [
    "def knapsack(items, quantities, size):\n",
    "    # Initialize the DP array\n",
    "    f = [0] * (size + 1)\n",
    "    \n",
    "    cnt = 0   # Number after packaging into a large item\n",
    "    w = []\n",
    "    v = []\n",
    "    \n",
    "    for length, quantity in zip(items, quantities):\n",
    "        k = 1  # Pack k small items into one large item\n",
    "        while k <= quantity:\n",
    "            cnt += 1  # Number of large items\n",
    "            w.append(length * k)   # Weight of large items\n",
    "            v.append(length * k)    # Value of large items\n",
    "            quantity -= k\n",
    "            k *= 2\n",
    "        \n",
    "        # Pack the remaining items into one large item\n",
    "        if quantity > 0:\n",
    "            cnt += 1\n",
    "            w.append(length * quantity) \n",
    "            v.append(length * quantity)\n",
    "    \n",
    "    # One-dimensional transformation of 0/1 knapsack problem\n",
    "    for i in range(cnt):\n",
    "        for j in range(size, w[i] - 1, -1):\n",
    "            f[j] = max(f[j], f[j - w[i]] + v[i])\n",
    "    \n",
    "    print(f)\n",
    "    return f[size]"
   ]
  },
  {
   "cell_type": "code",
   "execution_count": null,
   "metadata": {
    "vscode": {
     "languageId": "python"
    }
   },
   "outputs": [],
   "source": [
    "knapsack([1, 2, 5, 10, 11], [1, 1, 1, 1, 1], 4)"
   ]
  }
 ],
 "metadata": {
  "kernelspec": {
   "display_name": "SageMath 10.3",
   "language": "sage",
   "name": "SageMath-10.3"
  },
  "language_info": {
   "codemirror_mode": {
    "name": "ipython",
    "version": 3
   },
   "file_extension": ".py",
   "mimetype": "text/x-python",
   "name": "sage",
   "nbconvert_exporter": "python",
   "pygments_lexer": "ipython3",
   "version": "3.11.8"
  }
 },
 "nbformat": 4,
 "nbformat_minor": 2
}
