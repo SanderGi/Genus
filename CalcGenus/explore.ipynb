{
 "cells": [
  {
   "cell_type": "code",
   "execution_count": 29,
   "metadata": {},
   "outputs": [],
   "source": [
    "import networkx as nx\n",
    "import matplotlib.pyplot as plt\n",
    "from sage.all import *\n",
    "from math import ceil\n",
    "import plotly.graph_objects as go\n",
    "import numpy as np"
   ]
  },
  {
   "cell_type": "markdown",
   "metadata": {},
   "source": [
    "## Experiment with Cycle Calculation Algorithm"
   ]
  },
  {
   "cell_type": "code",
   "execution_count": 5,
   "metadata": {},
   "outputs": [],
   "source": [
    "g = graphs.Balaban10Cage(embedding=1)"
   ]
  },
  {
   "cell_type": "code",
   "execution_count": 6,
   "metadata": {},
   "outputs": [],
   "source": [
    "NUM_VERTICES = g.num_verts()\n",
    "NUM_EDGES = g.size()\n",
    "VERTEX_DEGREE = g.degree()[0]"
   ]
  },
  {
   "cell_type": "code",
   "execution_count": 8,
   "metadata": {},
   "outputs": [],
   "source": [
    "adjacency_matrix = g.adjacency_matrix()\n",
    "adjacency_list = [ [0 for i in range(VERTEX_DEGREE)] for j in range(NUM_VERTICES)]\n",
    "for i in range(NUM_VERTICES):\n",
    "    d = 0\n",
    "    for j in range(NUM_VERTICES):\n",
    "        if adjacency_matrix[i][j] == 1:\n",
    "            adjacency_list[i][d] = j\n",
    "            d += 1"
   ]
  },
  {
   "cell_type": "code",
   "execution_count": 28,
   "metadata": {},
   "outputs": [],
   "source": [
    "# find the number of cycles of length k\n",
    "\n",
    "# https://ieeexplore.ieee.org/stamp/stamp.jsp?tp=&arnumber=1602189\n",
    "# We use a FIFO queue to store the open paths and a register to \n",
    "# record the length of the path. The register is not necessary, \n",
    "# because you can always get the length from the open path directly.\n",
    "# The algorithm starts with all vertices of the graph. First,\n",
    "# put all vertices into the queue and set the register to 0.\n",
    "# Then the iteration of main loop of the algorithm starts.\n",
    "# Fetch an open path from the queue. Its length is k which\n",
    "# is indicated by the register.\n",
    "# Verify if there is an edge which links the tail to the head\n",
    "# of the open path. If it is true, a cycle is enumerated, and\n",
    "# then output the cycle. When the register is 0 in such case, it\n",
    "# means the cycle is a selfloop.\n",
    "# Then get an adjacent edge of the tail whose end does not\n",
    "# occur in the open path and the order of its end is greater than\n",
    "# the order of the head. This edge and the k length open path\n",
    "# construct a new k + 1 length open path. Put this new open\n",
    "# path into the queue.\n",
    "# After having generated all the k + 1 length open paths\n",
    "# from the k length open path, if this open path is the last k\n",
    "# length open path of the queue, set register to k + 1.\n",
    "# If the queue is empty, the algorithm finishes, else jumps\n",
    "# to where the main loop starts.\n",
    "\n",
    "def find_cycles(k):\n",
    "    cycles = []\n",
    "    queue = []\n",
    "    for i in range(NUM_VERTICES):\n",
    "        queue.append([i])\n",
    "    while len(queue) > 0:\n",
    "        path = queue.pop(0)\n",
    "        if len(path) == k:\n",
    "            if path[0] in adjacency_list[path[-1]]:\n",
    "                cycle = path + [path[0]]\n",
    "                cycles.append(cycle)\n",
    "            continue\n",
    "        for i in adjacency_list[path[-1]]:\n",
    "            if i not in path and i > path[0]:\n",
    "                queue.append(path + [i])\n",
    "    return cycles"
   ]
  },
  {
   "cell_type": "code",
   "execution_count": null,
   "metadata": {},
   "outputs": [],
   "source": [
    "assert len(find_cycles(9)) == 0\n",
    "assert len(find_cycles(10)) == 528\n",
    "assert len(find_cycles(11)) == len([ c for c in g.to_directed().all_simple_cycles(max_length=11) if len(c) == 11 + 1 ])\n",
    "assert len(find_cycles(12)) == len([ c for c in g.to_directed().all_simple_cycles(max_length=12) if len(c) == 12 + 1 ])\n",
    "assert len(find_cycles(13)) == len([ c for c in g.to_directed().all_simple_cycles(max_length=13) if len(c) == 13 + 1 ])\n",
    "assert len(find_cycles(14)) == len([ c for c in g.to_directed().all_simple_cycles(max_length=14) if len(c) == 14 + 1 ])\n",
    "assert len(find_cycles(15)) == len([ c for c in g.to_directed().all_simple_cycles(max_length=15) if len(c) == 15 + 1 ])\n",
    "assert len(find_cycles(16)) == len([ c for c in g.to_directed().all_simple_cycles(max_length=16) if len(c) == 16 + 1 ])\n",
    "assert len(find_cycles(17)) == len([ c for c in g.to_directed().all_simple_cycles(max_length=17) if len(c) == 17 + 1 ])"
   ]
  },
  {
   "cell_type": "code",
   "execution_count": 11,
   "metadata": {},
   "outputs": [
    {
     "data": {
      "text/plain": [
       "2160"
      ]
     },
     "execution_count": 11,
     "metadata": {},
     "output_type": "execute_result"
    }
   ],
   "source": [
    "len(find_cycles(14))"
   ]
  },
  {
   "cell_type": "code",
   "execution_count": 17,
   "metadata": {},
   "outputs": [
    {
     "data": {
      "text/plain": [
       "2160"
      ]
     },
     "execution_count": 17,
     "metadata": {},
     "output_type": "execute_result"
    }
   ],
   "source": [
    "len([ c for c in g.to_directed().all_simple_cycles(max_length=14) if len(c) == 14 + 1 ])"
   ]
  },
  {
   "cell_type": "code",
   "execution_count": 18,
   "metadata": {},
   "outputs": [
    {
     "data": {
      "text/plain": [
       "4200"
      ]
     },
     "execution_count": 18,
     "metadata": {},
     "output_type": "execute_result"
    }
   ],
   "source": [
    "(14 + 13 + 12 + 11 + 10) * 70"
   ]
  },
  {
   "cell_type": "code",
   "execution_count": 12,
   "metadata": {},
   "outputs": [
    {
     "data": {
      "text/plain": [
       "640"
      ]
     },
     "execution_count": 12,
     "metadata": {},
     "output_type": "execute_result"
    }
   ],
   "source": [
    "len([ c for c in g.to_directed().all_simple_cycles(max_length=12) if len(c) == 12 + 1 ])"
   ]
  },
  {
   "cell_type": "code",
   "execution_count": 13,
   "metadata": {},
   "outputs": [
    {
     "data": {
      "text/plain": [
       "0"
      ]
     },
     "execution_count": 13,
     "metadata": {},
     "output_type": "execute_result"
    }
   ],
   "source": [
    "len([ c for c in g.to_directed().all_simple_cycles(max_length=13) if len(c) == 13 + 1 ])"
   ]
  },
  {
   "cell_type": "code",
   "execution_count": 14,
   "metadata": {},
   "outputs": [
    {
     "data": {
      "text/plain": [
       "7800"
      ]
     },
     "execution_count": 14,
     "metadata": {},
     "output_type": "execute_result"
    }
   ],
   "source": [
    "len([ c for c in g.to_directed().all_simple_cycles(max_length=16) if len(c) == 16 + 1 ])"
   ]
  },
  {
   "cell_type": "code",
   "execution_count": 15,
   "metadata": {},
   "outputs": [
    {
     "data": {
      "text/plain": [
       "0"
      ]
     },
     "execution_count": 15,
     "metadata": {},
     "output_type": "execute_result"
    }
   ],
   "source": [
    "len([ c for c in g.to_directed().all_simple_cycles(max_length=17) if len(c) == 17 + 1 ])"
   ]
  },
  {
   "cell_type": "markdown",
   "metadata": {},
   "source": [
    "## Generate Adjacency Lists"
   ]
  },
  {
   "cell_type": "code",
   "execution_count": 28,
   "metadata": {},
   "outputs": [],
   "source": [
    "g = graphs.TutteCoxeterGraph()\n",
    "adjacency_list = [ [] for j in range(len(g.vertices()))]\n",
    "for e in g.edges():\n",
    "    adjacency_list[e[0]].append(e[1])\n",
    "    adjacency_list[e[1]].append(e[0])\n",
    "\n",
    "with open('adjacency_lists/tutte_coxeter_graph.txt', 'w') as f:\n",
    "    f.write(f'{len(g.vertices())} {len(g.edges())}\\n')\n",
    "    for i in range(len(g.vertices())):\n",
    "        f.write(f'{\" \".join(map(str, adjacency_list[i]))}\\n')"
   ]
  },
  {
   "cell_type": "code",
   "execution_count": 30,
   "metadata": {},
   "outputs": [],
   "source": [
    "g = graphs.HarriesGraph()\n",
    "adjacency_list = [ [] for j in range(len(g.vertices()))]\n",
    "for e in g.edges():\n",
    "    adjacency_list[e[0]].append(e[1])\n",
    "    adjacency_list[e[1]].append(e[0])\n",
    "\n",
    "with open('adjacency_lists/harries_10_cage.txt', 'w') as f:\n",
    "    f.write(f'{len(g.vertices())} {len(g.edges())}\\n')\n",
    "    for i in range(len(g.vertices())):\n",
    "        f.write(f'{\" \".join(map(str, adjacency_list[i]))}\\n')"
   ]
  },
  {
   "cell_type": "code",
   "execution_count": 33,
   "metadata": {},
   "outputs": [],
   "source": [
    "g = graphs.HarriesWongGraph()\n",
    "adjacency_list = [ [] for j in range(len(g.vertices()))]\n",
    "for e in g.edges():\n",
    "    adjacency_list[e[0]].append(e[1])\n",
    "    adjacency_list[e[1]].append(e[0])\n",
    "\n",
    "with open('adjacency_lists/harries_wong_10_cage.txt', 'w') as f:\n",
    "    f.write(f'{len(g.vertices())} {len(g.edges())}\\n')\n",
    "    for i in range(len(g.vertices())):\n",
    "        f.write(f'{\" \".join(map(str, adjacency_list[i]))}\\n')"
   ]
  },
  {
   "cell_type": "code",
   "execution_count": 27,
   "metadata": {},
   "outputs": [],
   "source": [
    "for k in range(3, 10):\n",
    "    g = graphs.CompleteGraph(k)\n",
    "    adjacency_list = [ [] for j in range(len(g.vertices()))]\n",
    "    for e in g.edges():\n",
    "        adjacency_list[e[0]].append(e[1])\n",
    "        adjacency_list[e[1]].append(e[0])\n",
    "\n",
    "    with open(f'adjacency_lists/k{k}.txt', 'w') as f:\n",
    "        f.write(f'{len(g.vertices())} {len(g.edges())}\\n')\n",
    "        for i in range(len(g.vertices())):\n",
    "            f.write(f'{\" \".join(map(str, adjacency_list[i]))}\\n')"
   ]
  },
  {
   "cell_type": "code",
   "execution_count": null,
   "metadata": {},
   "outputs": [],
   "source": [
    "# formula (Ringel and Youngs 1968; Harary 1994, p. 118)\n",
    "for k in range(3, 10):\n",
    "    print(f\"Complete graph k_{k} has genus {ceil((k-3)*(k-4)/12)}\")"
   ]
  },
  {
   "cell_type": "code",
   "execution_count": 34,
   "metadata": {},
   "outputs": [],
   "source": [
    "for k in range(3, 10):\n",
    "    g = graphs.CompleteBipartiteGraph(k, k)\n",
    "    adjacency_list = [ [] for j in range(len(g.vertices()))]\n",
    "    for e in g.edges():\n",
    "        adjacency_list[e[0]].append(e[1])\n",
    "        adjacency_list[e[1]].append(e[0])\n",
    "\n",
    "    with open(f'adjacency_lists/k{k}-{k}.txt', 'w') as f:\n",
    "        f.write(f'{len(g.vertices())} {len(g.edges())}\\n')\n",
    "        for i in range(len(g.vertices())):\n",
    "            f.write(f'{\" \".join(map(str, adjacency_list[i]))}\\n')"
   ]
  },
  {
   "cell_type": "code",
   "execution_count": null,
   "metadata": {},
   "outputs": [],
   "source": [
    "# formula (Ringel 1965; Beineke and Harary 1965; Harary 1994, p. 119).\n",
    "for n in range(3, 10):\n",
    "    m = n\n",
    "    print(f\"Complete bipartite graph k_{m},{n} has genus {ceil((m-2)*(n-2)/4)}\")"
   ]
  },
  {
   "cell_type": "code",
   "execution_count": 35,
   "metadata": {},
   "outputs": [],
   "source": [
    "g = graphs.Tutte12Cage()\n",
    "adjacency_list = [ [] for j in range(len(g.vertices()))]\n",
    "for e in g.edges():\n",
    "    adjacency_list[e[0]].append(e[1])\n",
    "    adjacency_list[e[1]].append(e[0])\n",
    "\n",
    "with open('adjacency_lists/tutte12.txt', 'w') as f:\n",
    "    f.write(f'{len(g.vertices())} {len(g.edges())}\\n')\n",
    "    for i in range(len(g.vertices())):\n",
    "        f.write(f'{\" \".join(map(str, adjacency_list[i]))}\\n')"
   ]
  },
  {
   "cell_type": "code",
   "execution_count": 34,
   "metadata": {},
   "outputs": [],
   "source": [
    "g = graphs.Balaban11Cage()\n",
    "# relabel vertices from 0 to num verts\n",
    "g.relabel()\n",
    "adjacency_list = [ [] for j in range(len(g.vertices()))]\n",
    "for e in g.edges():\n",
    "    u, v = int(e[0]), int(e[1])\n",
    "    adjacency_list[u].append(v)\n",
    "    adjacency_list[v].append(u)\n",
    "\n",
    "with open('adjacency_lists/balaban11.txt', 'w') as f:\n",
    "    f.write(f'{len(g.vertices())} {len(g.edges())}\\n')\n",
    "    for i in range(len(g.vertices())):\n",
    "        f.write(f'{\" \".join(map(str, adjacency_list[i]))}\\n')"
   ]
  },
  {
   "cell_type": "code",
   "execution_count": 91,
   "metadata": {},
   "outputs": [],
   "source": [
    "# convert from https://www.win.tue.nl/~aeb/graphs/cages/cages.html format to own format\n",
    "new_content = ''\n",
    "file = 'adjacency_lists/7-6-cage.txt'\n",
    "with open(file, 'r') as f:\n",
    "    lines = f.readlines()\n",
    "    num_vertices = int(lines[0].strip()[1:])\n",
    "    adjacency_matrix = [ [0 for i in range(num_vertices)] for j in range(num_vertices)]\n",
    "    for i in range(1, len(lines)):\n",
    "        line = lines[i].strip()[:-1]\n",
    "        for j in line.split(','):\n",
    "            adjacency_matrix[i - 1][int(j)] = 1\n",
    "    num_edges = sum([ sum(row) for row in adjacency_matrix ]) // 2\n",
    "\n",
    "    new_content = f'{num_vertices} {num_edges}\\n'\n",
    "    for i in range(1, len(lines)):\n",
    "        line = lines[i].strip()[:-1].replace(',', ' ')\n",
    "        new_content += f'{line}\\n'\n",
    "\n",
    "with open(file, 'w') as f:\n",
    "    f.write(new_content)"
   ]
  },
  {
   "cell_type": "markdown",
   "metadata": {},
   "source": [
    "## Performance of builtin SageMath Genus Calculation"
   ]
  },
  {
   "cell_type": "code",
   "execution_count": null,
   "metadata": {},
   "outputs": [],
   "source": [
    "\n",
    "from time import perf_counter\n",
    "starttime = perf_counter()\n",
    "\n",
    "# load adjacency list from file\n",
    "adjacency_list = []\n",
    "with open('adjacency_lists/5-5-cage1.txt', 'r') as f:\n",
    "    lines = f.readlines()\n",
    "    num_vertices, num_edges = map(int, lines[0].strip().split())\n",
    "    for i in range(1, len(lines)):\n",
    "        adjacency_list.append(list(map(int, lines[i].strip().split())))\n",
    "    assert len(adjacency_list) == num_vertices\n",
    "print(num_vertices, num_edges, adjacency_list)\n",
    "\n",
    "# convert from adjacency list to adjacency matrix\n",
    "adjacency_matrix = [ [0 for i in range(num_vertices)] for j in range(num_vertices)]\n",
    "for i in range(num_vertices):\n",
    "    for j in adjacency_list[i]:\n",
    "        adjacency_matrix[i][j] = 1\n",
    "        adjacency_matrix[j][i] = 1\n",
    "print(adjacency_matrix)\n",
    "\n",
    "# load into sagemath and calculate the genus\n",
    "g = Graph(matrix(adjacency_matrix), format='adjacency_matrix')\n",
    "print(f\"genus = {g.genus()}\")\n",
    "\n",
    "print(f'genus calculation took {perf_counter() - starttime} seconds')"
   ]
  },
  {
   "cell_type": "markdown",
   "metadata": {},
   "source": [
    "## Vizualize Cell Embedding"
   ]
  },
  {
   "cell_type": "code",
   "execution_count": 80,
   "metadata": {},
   "outputs": [],
   "source": [
    "# fitting = [\n",
    "#     [0, 63, 15, 73, 3, 72, 7, 66, 1, 67, 31, 64, 0],\n",
    "#     [0, 64, 32, 106, 19, 86, 9, 87, 21, 110, 48, 65, 0],\n",
    "#     [1, 66, 8, 85, 37, 112, 48, 110, 38, 97, 40, 68, 1],\n",
    "#     [1, 68, 39, 76, 41, 107, 62, 92, 11, 91, 33, 67, 1],\n",
    "#     [2, 70, 34, 120, 28, 121, 42, 82, 6, 81, 23, 69, 2],\n",
    "#     [2, 71, 56, 122, 29, 123, 51, 108, 32, 64, 31, 70, 2],\n",
    "#     [3, 73, 17, 96, 13, 97, 38, 115, 24, 69, 23, 74, 3],\n",
    "#     [3, 74, 25, 93, 12, 95, 54, 121, 28, 87, 9, 72, 3],\n",
    "#     [4, 75, 18, 105, 45, 85, 8, 84, 46, 109, 57, 77, 4],\n",
    "#     [4, 76, 39, 82, 42, 123, 29, 90, 17, 73, 15, 75, 4],\n",
    "#     [4, 77, 55, 80, 5, 78, 10, 89, 60, 113, 41, 76, 4],\n",
    "#     [5, 79, 49, 92, 62, 114, 35, 84, 8, 66, 7, 78, 5],\n",
    "#     [5, 80, 58, 95, 12, 94, 43, 125, 50, 83, 47, 79, 5],\n",
    "#     [6, 83, 50, 119, 27, 118, 60, 89, 53, 116, 26, 81, 6],\n",
    "#     [7, 72, 9, 86, 30, 125, 43, 104, 61, 88, 10, 78, 7],\n",
    "#     [10, 88, 51, 123, 42, 121, 54, 102, 16, 103, 53, 89, 10],\n",
    "#     [11, 90, 29, 122, 37, 85, 45, 117, 26, 116, 44, 91, 11],\n",
    "#     [11, 92, 49, 101, 59, 120, 34, 118, 27, 96, 17, 90, 11],\n",
    "#     [12, 93, 22, 113, 60, 118, 34, 70, 31, 67, 33, 94, 12],\n",
    "#     [13, 96, 27, 119, 46, 84, 35, 102, 54, 95, 58, 98, 13],\n",
    "#     [13, 98, 52, 117, 45, 105, 59, 101, 14, 100, 40, 97, 13],\n",
    "#     [14, 99, 20, 109, 46, 119, 50, 125, 30, 124, 36, 100, 14],\n",
    "#     [14, 101, 49, 79, 47, 65, 48, 112, 22, 93, 25, 99, 14],\n",
    "#     [15, 63, 16, 102, 35, 114, 24, 115, 61, 104, 18, 75, 15],\n",
    "#     [19, 107, 41, 113, 22, 112, 37, 122, 56, 124, 30, 86, 19],\n",
    "#     [20, 99, 25, 74, 23, 81, 26, 117, 52, 106, 32, 108, 20],\n",
    "#     [20, 108, 51, 88, 61, 115, 38, 110, 21, 111, 57, 109, 20],\n",
    "#     [36, 124, 56, 71, 55, 77, 57, 111, 44, 116, 53, 103, 36],\n",
    "#     [0, 65, 47, 83, 6, 82, 39, 68, 40, 100, 36, 103, 16, 63, 0],\n",
    "#     [2, 69, 24, 114, 62, 107, 19, 106, 52, 98, 58, 80, 55, 71, 2],\n",
    "#     [18, 104, 43, 94, 33, 91, 44, 111, 21, 87, 28, 120, 59, 105, 18],\n",
    "# ]\n",
    "# fitting = [\n",
    "#     [0, 15, 3, 18, 1, 19, 7, 16, 0], \n",
    "#     [0, 16, 8, 26, 5, 27, 12, 17, 0], \n",
    "#     [1, 18, 5, 26, 14, 23, 11, 20, 1], \n",
    "#     [2, 21, 3, 15, 4, 25, 10, 22, 2], \n",
    "#     [2, 23, 14, 24, 9, 29, 6, 21, 2], \n",
    "#     [4, 24, 14, 26, 8, 28, 13, 25, 4], \n",
    "#     [0, 17, 11, 23, 2, 22, 7, 19, 9, 24, 4, 15, 0], \n",
    "#     [3, 21, 6, 28, 8, 16, 7, 22, 10, 27, 5, 18, 3], \n",
    "# ]\n",
    "fitting = [\n",
    "    [0, 1, 4, 6, 2, 0], \n",
    "    [0, 2, 7, 8, 3, 0], \n",
    "    [0, 3, 9, 5, 1, 0], \n",
    "    [1, 5, 7, 2, 6, 9, 3, 8, 4, 1]\n",
    "]"
   ]
  },
  {
   "cell_type": "code",
   "execution_count": 100,
   "metadata": {},
   "outputs": [],
   "source": [
    "flat = [item for sublist in fitting for item in sublist]\n",
    "vertices = list(set(flat))"
   ]
  },
  {
   "cell_type": "code",
   "execution_count": 101,
   "metadata": {},
   "outputs": [],
   "source": [
    "m = [ [0 for i in range(len(vertices))] for j in range(len(vertices))]\n",
    "for cycle in fitting:\n",
    "    for i in range(len(cycle) - 2):\n",
    "        u, v = cycle[i], cycle[i + 1]\n",
    "        m[u][v] = 1\n",
    "        m[v][u] = 1"
   ]
  },
  {
   "cell_type": "code",
   "execution_count": 103,
   "metadata": {},
   "outputs": [],
   "source": [
    "g = Graph(matrix(m), format='adjacency_matrix')"
   ]
  },
  {
   "cell_type": "code",
   "execution_count": 105,
   "metadata": {},
   "outputs": [],
   "source": [
    "ng = g.networkx_graph()     "
   ]
  },
  {
   "cell_type": "code",
   "execution_count": 120,
   "metadata": {},
   "outputs": [],
   "source": [
    "def plot(pos, labels, adjacency_matrix, fitting):\n",
    "    Xn=[pos[k][0] for k in range(len(pos))]  # x-coordinates of nodes\n",
    "    Yn=[pos[k][1] for k in range(len(pos))]  # y-coordinates\n",
    "    Zn=[pos[k][2] for k in range(len(pos))]  # z-coordinates\n",
    "    Xe=[]\n",
    "    Ye=[]\n",
    "    Ze=[]\n",
    "    for i in range(len(pos)):\n",
    "        for j in range(len(pos)):\n",
    "            if adjacency_matrix[i][j] == 1:\n",
    "                Xe+=[pos[i][0],pos[j][0], None]  # x-coordinates of edge ends\n",
    "                Ye+=[pos[i][1],pos[j][1], None]  # y-coordinates of edge ends\n",
    "                Ze+=[pos[i][2],pos[j][2], None]  # z-coordinates of edge ends\n",
    "\n",
    "    fig = go.Figure()\n",
    "    fig.add_trace(go.Scatter3d(\n",
    "        x=Xe,\n",
    "        y=Ye,\n",
    "        z=Ze,\n",
    "        mode='lines',\n",
    "        name='edges',\n",
    "        line=dict(color='rgb(125,125,125)', width=1),\n",
    "        hoverinfo='none'\n",
    "    ))\n",
    "    fig.add_trace(go.Scatter3d(\n",
    "        x=Xn,\n",
    "        y=Yn,\n",
    "        z=Zn,\n",
    "        mode='markers',\n",
    "        name='vertices',\n",
    "        marker=dict(\n",
    "            symbol='circle',\n",
    "            size=6,\n",
    "            color='blue',\n",
    "            line=dict(color='rgb(50,50,50)', width=0.5)\n",
    "        ),\n",
    "        text=labels,\n",
    "        hoverinfo='text'\n",
    "    ))\n",
    "\n",
    "    for c, cycle in enumerate(fitting):\n",
    "        fig.add_trace(go.Mesh3d(\n",
    "            x=[pos[v][0] for v in cycle],\n",
    "            y=[pos[v][1] for v in cycle],\n",
    "            z=[pos[v][2] for v in cycle],\n",
    "            opacity=1,\n",
    "            color=f'rgb({c*50 % 255}, {c*100 % 255}, {c*150 % 255})',\n",
    "            name=f'cycle {c}',\n",
    "            hoverinfo='name'\n",
    "        ))\n",
    "\n",
    "    fig.update_layout(\n",
    "        showlegend=False,\n",
    "        scene=dict(\n",
    "            xaxis=dict(visible=False),\n",
    "            yaxis=dict(visible=False),\n",
    "            zaxis=dict(visible=False)\n",
    "        )\n",
    "    )\n",
    "    fig.show()"
   ]
  },
  {
   "cell_type": "code",
   "execution_count": 121,
   "metadata": {},
   "outputs": [
    {
     "data": {
      "application/vnd.plotly.v1+json": {
       "config": {
        "plotlyServerURL": "https://plot.ly"
       },
       "data": [
        {
         "hoverinfo": "none",
         "line": {
          "color": "rgb(125,125,125)",
          "width": 1
         },
         "mode": "lines",
         "name": "edges",
         "type": "scatter3d",
         "x": [
          0.6635197401046753,
          0.11630195379257202,
          null,
          0.6635197401046753,
          0.963976263999939,
          null,
          0.6635197401046753,
          0.22125664353370667,
          null,
          0.11630195379257202,
          0.6635197401046753,
          null,
          0.11630195379257202,
          0.32051363587379456,
          null,
          0.11630195379257202,
          0.7197538614273071,
          null,
          0.963976263999939,
          0.6635197401046753,
          null,
          0.963976263999939,
          0.18853028118610382,
          null,
          0.963976263999939,
          0.7743993401527405,
          null,
          0.22125664353370667,
          0.6635197401046753,
          null,
          0.22125664353370667,
          0.10914452373981476,
          null,
          0.22125664353370667,
          0.957137942314148,
          null,
          0.32051363587379456,
          0.11630195379257202,
          null,
          0.32051363587379456,
          0.18853028118610382,
          null,
          0.32051363587379456,
          0.10914452373981476,
          null,
          0.7197538614273071,
          0.11630195379257202,
          null,
          0.7197538614273071,
          0.7743993401527405,
          null,
          0.7197538614273071,
          0.957137942314148,
          null,
          0.18853028118610382,
          0.963976263999939,
          null,
          0.18853028118610382,
          0.32051363587379456,
          null,
          0.18853028118610382,
          0.957137942314148,
          null,
          0.7743993401527405,
          0.963976263999939,
          null,
          0.7743993401527405,
          0.7197538614273071,
          null,
          0.7743993401527405,
          0.10914452373981476,
          null,
          0.10914452373981476,
          0.22125664353370667,
          null,
          0.10914452373981476,
          0.32051363587379456,
          null,
          0.10914452373981476,
          0.7743993401527405,
          null,
          0.957137942314148,
          0.22125664353370667,
          null,
          0.957137942314148,
          0.7197538614273071,
          null,
          0.957137942314148,
          0.18853028118610382,
          null
         ],
         "y": [
          0.7816795110702515,
          0.6775946021080017,
          null,
          0.7816795110702515,
          0.22852452099323273,
          null,
          0.7816795110702515,
          0.903229832649231,
          null,
          0.6775946021080017,
          0.7816795110702515,
          null,
          0.6775946021080017,
          0.27490708231925964,
          null,
          0.6775946021080017,
          0.6279485821723938,
          null,
          0.22852452099323273,
          0.7816795110702515,
          null,
          0.22852452099323273,
          0.4689596891403198,
          null,
          0.22852452099323273,
          0.12344382703304291,
          null,
          0.903229832649231,
          0.7816795110702515,
          null,
          0.903229832649231,
          0.2789439260959625,
          null,
          0.903229832649231,
          0.26735520362854004,
          null,
          0.27490708231925964,
          0.6775946021080017,
          null,
          0.27490708231925964,
          0.4689596891403198,
          null,
          0.27490708231925964,
          0.2789439260959625,
          null,
          0.6279485821723938,
          0.6775946021080017,
          null,
          0.6279485821723938,
          0.12344382703304291,
          null,
          0.6279485821723938,
          0.26735520362854004,
          null,
          0.4689596891403198,
          0.22852452099323273,
          null,
          0.4689596891403198,
          0.27490708231925964,
          null,
          0.4689596891403198,
          0.26735520362854004,
          null,
          0.12344382703304291,
          0.22852452099323273,
          null,
          0.12344382703304291,
          0.6279485821723938,
          null,
          0.12344382703304291,
          0.2789439260959625,
          null,
          0.2789439260959625,
          0.903229832649231,
          null,
          0.2789439260959625,
          0.27490708231925964,
          null,
          0.2789439260959625,
          0.12344382703304291,
          null,
          0.26735520362854004,
          0.903229832649231,
          null,
          0.26735520362854004,
          0.6279485821723938,
          null,
          0.26735520362854004,
          0.4689596891403198,
          null
         ],
         "z": [
          0.020041167736053467,
          0.9142940044403076,
          null,
          0.020041167736053467,
          0.9618251323699951,
          null,
          0.020041167736053467,
          0.373264878988266,
          null,
          0.9142940044403076,
          0.020041167736053467,
          null,
          0.9142940044403076,
          0.9543418884277344,
          null,
          0.9142940044403076,
          0.7549676299095154,
          null,
          0.9618251323699951,
          0.020041167736053467,
          null,
          0.9618251323699951,
          0.5250416994094849,
          null,
          0.9618251323699951,
          0.9225139021873474,
          null,
          0.373264878988266,
          0.020041167736053467,
          null,
          0.373264878988266,
          0.7228439450263977,
          null,
          0.373264878988266,
          0.4843011498451233,
          null,
          0.9543418884277344,
          0.9142940044403076,
          null,
          0.9543418884277344,
          0.5250416994094849,
          null,
          0.9543418884277344,
          0.7228439450263977,
          null,
          0.7549676299095154,
          0.9142940044403076,
          null,
          0.7549676299095154,
          0.9225139021873474,
          null,
          0.7549676299095154,
          0.4843011498451233,
          null,
          0.5250416994094849,
          0.9618251323699951,
          null,
          0.5250416994094849,
          0.9543418884277344,
          null,
          0.5250416994094849,
          0.4843011498451233,
          null,
          0.9225139021873474,
          0.9618251323699951,
          null,
          0.9225139021873474,
          0.7549676299095154,
          null,
          0.9225139021873474,
          0.7228439450263977,
          null,
          0.7228439450263977,
          0.373264878988266,
          null,
          0.7228439450263977,
          0.9543418884277344,
          null,
          0.7228439450263977,
          0.9225139021873474,
          null,
          0.4843011498451233,
          0.373264878988266,
          null,
          0.4843011498451233,
          0.7549676299095154,
          null,
          0.4843011498451233,
          0.5250416994094849,
          null
         ]
        },
        {
         "hoverinfo": "text",
         "marker": {
          "color": "blue",
          "line": {
           "color": "rgb(50,50,50)",
           "width": 0.5
          },
          "size": 6,
          "symbol": "circle"
         },
         "mode": "markers",
         "name": "vertices",
         "text": [
          "0",
          "1",
          "2",
          "3",
          "4",
          "5",
          "6",
          "7",
          "8",
          "9"
         ],
         "type": "scatter3d",
         "x": [
          0.6635197401046753,
          0.11630195379257202,
          0.963976263999939,
          0.22125664353370667,
          0.32051363587379456,
          0.7197538614273071,
          0.18853028118610382,
          0.7743993401527405,
          0.10914452373981476,
          0.957137942314148
         ],
         "y": [
          0.7816795110702515,
          0.6775946021080017,
          0.22852452099323273,
          0.903229832649231,
          0.27490708231925964,
          0.6279485821723938,
          0.4689596891403198,
          0.12344382703304291,
          0.2789439260959625,
          0.26735520362854004
         ],
         "z": [
          0.020041167736053467,
          0.9142940044403076,
          0.9618251323699951,
          0.373264878988266,
          0.9543418884277344,
          0.7549676299095154,
          0.5250416994094849,
          0.9225139021873474,
          0.7228439450263977,
          0.4843011498451233
         ]
        },
        {
         "color": "rgb(0, 0, 0)",
         "hoverinfo": "name",
         "name": "cycle 0",
         "opacity": 1,
         "type": "mesh3d",
         "x": [
          0.6635197401046753,
          0.11630195379257202,
          0.32051363587379456,
          0.18853028118610382,
          0.963976263999939,
          0.6635197401046753
         ],
         "y": [
          0.7816795110702515,
          0.6775946021080017,
          0.27490708231925964,
          0.4689596891403198,
          0.22852452099323273,
          0.7816795110702515
         ],
         "z": [
          0.020041167736053467,
          0.9142940044403076,
          0.9543418884277344,
          0.5250416994094849,
          0.9618251323699951,
          0.020041167736053467
         ]
        },
        {
         "color": "rgb(50, 100, 150)",
         "hoverinfo": "name",
         "name": "cycle 1",
         "opacity": 1,
         "type": "mesh3d",
         "x": [
          0.6635197401046753,
          0.963976263999939,
          0.7743993401527405,
          0.10914452373981476,
          0.22125664353370667,
          0.6635197401046753
         ],
         "y": [
          0.7816795110702515,
          0.22852452099323273,
          0.12344382703304291,
          0.2789439260959625,
          0.903229832649231,
          0.7816795110702515
         ],
         "z": [
          0.020041167736053467,
          0.9618251323699951,
          0.9225139021873474,
          0.7228439450263977,
          0.373264878988266,
          0.020041167736053467
         ]
        },
        {
         "color": "rgb(100, 200, 45)",
         "hoverinfo": "name",
         "name": "cycle 2",
         "opacity": 1,
         "type": "mesh3d",
         "x": [
          0.6635197401046753,
          0.22125664353370667,
          0.957137942314148,
          0.7197538614273071,
          0.11630195379257202,
          0.6635197401046753
         ],
         "y": [
          0.7816795110702515,
          0.903229832649231,
          0.26735520362854004,
          0.6279485821723938,
          0.6775946021080017,
          0.7816795110702515
         ],
         "z": [
          0.020041167736053467,
          0.373264878988266,
          0.4843011498451233,
          0.7549676299095154,
          0.9142940044403076,
          0.020041167736053467
         ]
        },
        {
         "color": "rgb(150, 45, 195)",
         "hoverinfo": "name",
         "name": "cycle 3",
         "opacity": 1,
         "type": "mesh3d",
         "x": [
          0.11630195379257202,
          0.7197538614273071,
          0.7743993401527405,
          0.963976263999939,
          0.18853028118610382,
          0.957137942314148,
          0.22125664353370667,
          0.10914452373981476,
          0.32051363587379456,
          0.11630195379257202
         ],
         "y": [
          0.6775946021080017,
          0.6279485821723938,
          0.12344382703304291,
          0.22852452099323273,
          0.4689596891403198,
          0.26735520362854004,
          0.903229832649231,
          0.2789439260959625,
          0.27490708231925964,
          0.6775946021080017
         ],
         "z": [
          0.9142940044403076,
          0.7549676299095154,
          0.9225139021873474,
          0.9618251323699951,
          0.5250416994094849,
          0.4843011498451233,
          0.373264878988266,
          0.7228439450263977,
          0.9543418884277344,
          0.9142940044403076
         ]
        }
       ],
       "layout": {
        "scene": {
         "xaxis": {
          "visible": false
         },
         "yaxis": {
          "visible": false
         },
         "zaxis": {
          "visible": false
         }
        },
        "showlegend": false,
        "template": {
         "data": {
          "bar": [
           {
            "error_x": {
             "color": "#2a3f5f"
            },
            "error_y": {
             "color": "#2a3f5f"
            },
            "marker": {
             "line": {
              "color": "#E5ECF6",
              "width": 0.5
             },
             "pattern": {
              "fillmode": "overlay",
              "size": 10,
              "solidity": 0.2
             }
            },
            "type": "bar"
           }
          ],
          "barpolar": [
           {
            "marker": {
             "line": {
              "color": "#E5ECF6",
              "width": 0.5
             },
             "pattern": {
              "fillmode": "overlay",
              "size": 10,
              "solidity": 0.2
             }
            },
            "type": "barpolar"
           }
          ],
          "carpet": [
           {
            "aaxis": {
             "endlinecolor": "#2a3f5f",
             "gridcolor": "white",
             "linecolor": "white",
             "minorgridcolor": "white",
             "startlinecolor": "#2a3f5f"
            },
            "baxis": {
             "endlinecolor": "#2a3f5f",
             "gridcolor": "white",
             "linecolor": "white",
             "minorgridcolor": "white",
             "startlinecolor": "#2a3f5f"
            },
            "type": "carpet"
           }
          ],
          "choropleth": [
           {
            "colorbar": {
             "outlinewidth": 0,
             "ticks": ""
            },
            "type": "choropleth"
           }
          ],
          "contour": [
           {
            "colorbar": {
             "outlinewidth": 0,
             "ticks": ""
            },
            "colorscale": [
             [
              0,
              "#0d0887"
             ],
             [
              0.1111111111111111,
              "#46039f"
             ],
             [
              0.2222222222222222,
              "#7201a8"
             ],
             [
              0.3333333333333333,
              "#9c179e"
             ],
             [
              0.4444444444444444,
              "#bd3786"
             ],
             [
              0.5555555555555556,
              "#d8576b"
             ],
             [
              0.6666666666666666,
              "#ed7953"
             ],
             [
              0.7777777777777778,
              "#fb9f3a"
             ],
             [
              0.8888888888888888,
              "#fdca26"
             ],
             [
              1,
              "#f0f921"
             ]
            ],
            "type": "contour"
           }
          ],
          "contourcarpet": [
           {
            "colorbar": {
             "outlinewidth": 0,
             "ticks": ""
            },
            "type": "contourcarpet"
           }
          ],
          "heatmap": [
           {
            "colorbar": {
             "outlinewidth": 0,
             "ticks": ""
            },
            "colorscale": [
             [
              0,
              "#0d0887"
             ],
             [
              0.1111111111111111,
              "#46039f"
             ],
             [
              0.2222222222222222,
              "#7201a8"
             ],
             [
              0.3333333333333333,
              "#9c179e"
             ],
             [
              0.4444444444444444,
              "#bd3786"
             ],
             [
              0.5555555555555556,
              "#d8576b"
             ],
             [
              0.6666666666666666,
              "#ed7953"
             ],
             [
              0.7777777777777778,
              "#fb9f3a"
             ],
             [
              0.8888888888888888,
              "#fdca26"
             ],
             [
              1,
              "#f0f921"
             ]
            ],
            "type": "heatmap"
           }
          ],
          "heatmapgl": [
           {
            "colorbar": {
             "outlinewidth": 0,
             "ticks": ""
            },
            "colorscale": [
             [
              0,
              "#0d0887"
             ],
             [
              0.1111111111111111,
              "#46039f"
             ],
             [
              0.2222222222222222,
              "#7201a8"
             ],
             [
              0.3333333333333333,
              "#9c179e"
             ],
             [
              0.4444444444444444,
              "#bd3786"
             ],
             [
              0.5555555555555556,
              "#d8576b"
             ],
             [
              0.6666666666666666,
              "#ed7953"
             ],
             [
              0.7777777777777778,
              "#fb9f3a"
             ],
             [
              0.8888888888888888,
              "#fdca26"
             ],
             [
              1,
              "#f0f921"
             ]
            ],
            "type": "heatmapgl"
           }
          ],
          "histogram": [
           {
            "marker": {
             "pattern": {
              "fillmode": "overlay",
              "size": 10,
              "solidity": 0.2
             }
            },
            "type": "histogram"
           }
          ],
          "histogram2d": [
           {
            "colorbar": {
             "outlinewidth": 0,
             "ticks": ""
            },
            "colorscale": [
             [
              0,
              "#0d0887"
             ],
             [
              0.1111111111111111,
              "#46039f"
             ],
             [
              0.2222222222222222,
              "#7201a8"
             ],
             [
              0.3333333333333333,
              "#9c179e"
             ],
             [
              0.4444444444444444,
              "#bd3786"
             ],
             [
              0.5555555555555556,
              "#d8576b"
             ],
             [
              0.6666666666666666,
              "#ed7953"
             ],
             [
              0.7777777777777778,
              "#fb9f3a"
             ],
             [
              0.8888888888888888,
              "#fdca26"
             ],
             [
              1,
              "#f0f921"
             ]
            ],
            "type": "histogram2d"
           }
          ],
          "histogram2dcontour": [
           {
            "colorbar": {
             "outlinewidth": 0,
             "ticks": ""
            },
            "colorscale": [
             [
              0,
              "#0d0887"
             ],
             [
              0.1111111111111111,
              "#46039f"
             ],
             [
              0.2222222222222222,
              "#7201a8"
             ],
             [
              0.3333333333333333,
              "#9c179e"
             ],
             [
              0.4444444444444444,
              "#bd3786"
             ],
             [
              0.5555555555555556,
              "#d8576b"
             ],
             [
              0.6666666666666666,
              "#ed7953"
             ],
             [
              0.7777777777777778,
              "#fb9f3a"
             ],
             [
              0.8888888888888888,
              "#fdca26"
             ],
             [
              1,
              "#f0f921"
             ]
            ],
            "type": "histogram2dcontour"
           }
          ],
          "mesh3d": [
           {
            "colorbar": {
             "outlinewidth": 0,
             "ticks": ""
            },
            "type": "mesh3d"
           }
          ],
          "parcoords": [
           {
            "line": {
             "colorbar": {
              "outlinewidth": 0,
              "ticks": ""
             }
            },
            "type": "parcoords"
           }
          ],
          "pie": [
           {
            "automargin": true,
            "type": "pie"
           }
          ],
          "scatter": [
           {
            "fillpattern": {
             "fillmode": "overlay",
             "size": 10,
             "solidity": 0.2
            },
            "type": "scatter"
           }
          ],
          "scatter3d": [
           {
            "line": {
             "colorbar": {
              "outlinewidth": 0,
              "ticks": ""
             }
            },
            "marker": {
             "colorbar": {
              "outlinewidth": 0,
              "ticks": ""
             }
            },
            "type": "scatter3d"
           }
          ],
          "scattercarpet": [
           {
            "marker": {
             "colorbar": {
              "outlinewidth": 0,
              "ticks": ""
             }
            },
            "type": "scattercarpet"
           }
          ],
          "scattergeo": [
           {
            "marker": {
             "colorbar": {
              "outlinewidth": 0,
              "ticks": ""
             }
            },
            "type": "scattergeo"
           }
          ],
          "scattergl": [
           {
            "marker": {
             "colorbar": {
              "outlinewidth": 0,
              "ticks": ""
             }
            },
            "type": "scattergl"
           }
          ],
          "scattermapbox": [
           {
            "marker": {
             "colorbar": {
              "outlinewidth": 0,
              "ticks": ""
             }
            },
            "type": "scattermapbox"
           }
          ],
          "scatterpolar": [
           {
            "marker": {
             "colorbar": {
              "outlinewidth": 0,
              "ticks": ""
             }
            },
            "type": "scatterpolar"
           }
          ],
          "scatterpolargl": [
           {
            "marker": {
             "colorbar": {
              "outlinewidth": 0,
              "ticks": ""
             }
            },
            "type": "scatterpolargl"
           }
          ],
          "scatterternary": [
           {
            "marker": {
             "colorbar": {
              "outlinewidth": 0,
              "ticks": ""
             }
            },
            "type": "scatterternary"
           }
          ],
          "surface": [
           {
            "colorbar": {
             "outlinewidth": 0,
             "ticks": ""
            },
            "colorscale": [
             [
              0,
              "#0d0887"
             ],
             [
              0.1111111111111111,
              "#46039f"
             ],
             [
              0.2222222222222222,
              "#7201a8"
             ],
             [
              0.3333333333333333,
              "#9c179e"
             ],
             [
              0.4444444444444444,
              "#bd3786"
             ],
             [
              0.5555555555555556,
              "#d8576b"
             ],
             [
              0.6666666666666666,
              "#ed7953"
             ],
             [
              0.7777777777777778,
              "#fb9f3a"
             ],
             [
              0.8888888888888888,
              "#fdca26"
             ],
             [
              1,
              "#f0f921"
             ]
            ],
            "type": "surface"
           }
          ],
          "table": [
           {
            "cells": {
             "fill": {
              "color": "#EBF0F8"
             },
             "line": {
              "color": "white"
             }
            },
            "header": {
             "fill": {
              "color": "#C8D4E3"
             },
             "line": {
              "color": "white"
             }
            },
            "type": "table"
           }
          ]
         },
         "layout": {
          "annotationdefaults": {
           "arrowcolor": "#2a3f5f",
           "arrowhead": 0,
           "arrowwidth": 1
          },
          "autotypenumbers": "strict",
          "coloraxis": {
           "colorbar": {
            "outlinewidth": 0,
            "ticks": ""
           }
          },
          "colorscale": {
           "diverging": [
            [
             0,
             "#8e0152"
            ],
            [
             0.1,
             "#c51b7d"
            ],
            [
             0.2,
             "#de77ae"
            ],
            [
             0.3,
             "#f1b6da"
            ],
            [
             0.4,
             "#fde0ef"
            ],
            [
             0.5,
             "#f7f7f7"
            ],
            [
             0.6,
             "#e6f5d0"
            ],
            [
             0.7,
             "#b8e186"
            ],
            [
             0.8,
             "#7fbc41"
            ],
            [
             0.9,
             "#4d9221"
            ],
            [
             1,
             "#276419"
            ]
           ],
           "sequential": [
            [
             0,
             "#0d0887"
            ],
            [
             0.1111111111111111,
             "#46039f"
            ],
            [
             0.2222222222222222,
             "#7201a8"
            ],
            [
             0.3333333333333333,
             "#9c179e"
            ],
            [
             0.4444444444444444,
             "#bd3786"
            ],
            [
             0.5555555555555556,
             "#d8576b"
            ],
            [
             0.6666666666666666,
             "#ed7953"
            ],
            [
             0.7777777777777778,
             "#fb9f3a"
            ],
            [
             0.8888888888888888,
             "#fdca26"
            ],
            [
             1,
             "#f0f921"
            ]
           ],
           "sequentialminus": [
            [
             0,
             "#0d0887"
            ],
            [
             0.1111111111111111,
             "#46039f"
            ],
            [
             0.2222222222222222,
             "#7201a8"
            ],
            [
             0.3333333333333333,
             "#9c179e"
            ],
            [
             0.4444444444444444,
             "#bd3786"
            ],
            [
             0.5555555555555556,
             "#d8576b"
            ],
            [
             0.6666666666666666,
             "#ed7953"
            ],
            [
             0.7777777777777778,
             "#fb9f3a"
            ],
            [
             0.8888888888888888,
             "#fdca26"
            ],
            [
             1,
             "#f0f921"
            ]
           ]
          },
          "colorway": [
           "#636efa",
           "#EF553B",
           "#00cc96",
           "#ab63fa",
           "#FFA15A",
           "#19d3f3",
           "#FF6692",
           "#B6E880",
           "#FF97FF",
           "#FECB52"
          ],
          "font": {
           "color": "#2a3f5f"
          },
          "geo": {
           "bgcolor": "white",
           "lakecolor": "white",
           "landcolor": "#E5ECF6",
           "showlakes": true,
           "showland": true,
           "subunitcolor": "white"
          },
          "hoverlabel": {
           "align": "left"
          },
          "hovermode": "closest",
          "mapbox": {
           "style": "light"
          },
          "paper_bgcolor": "white",
          "plot_bgcolor": "#E5ECF6",
          "polar": {
           "angularaxis": {
            "gridcolor": "white",
            "linecolor": "white",
            "ticks": ""
           },
           "bgcolor": "#E5ECF6",
           "radialaxis": {
            "gridcolor": "white",
            "linecolor": "white",
            "ticks": ""
           }
          },
          "scene": {
           "xaxis": {
            "backgroundcolor": "#E5ECF6",
            "gridcolor": "white",
            "gridwidth": 2,
            "linecolor": "white",
            "showbackground": true,
            "ticks": "",
            "zerolinecolor": "white"
           },
           "yaxis": {
            "backgroundcolor": "#E5ECF6",
            "gridcolor": "white",
            "gridwidth": 2,
            "linecolor": "white",
            "showbackground": true,
            "ticks": "",
            "zerolinecolor": "white"
           },
           "zaxis": {
            "backgroundcolor": "#E5ECF6",
            "gridcolor": "white",
            "gridwidth": 2,
            "linecolor": "white",
            "showbackground": true,
            "ticks": "",
            "zerolinecolor": "white"
           }
          },
          "shapedefaults": {
           "line": {
            "color": "#2a3f5f"
           }
          },
          "ternary": {
           "aaxis": {
            "gridcolor": "white",
            "linecolor": "white",
            "ticks": ""
           },
           "baxis": {
            "gridcolor": "white",
            "linecolor": "white",
            "ticks": ""
           },
           "bgcolor": "#E5ECF6",
           "caxis": {
            "gridcolor": "white",
            "linecolor": "white",
            "ticks": ""
           }
          },
          "title": {
           "x": 0.05
          },
          "xaxis": {
           "automargin": true,
           "gridcolor": "white",
           "linecolor": "white",
           "ticks": "",
           "title": {
            "standoff": 15
           },
           "zerolinecolor": "white",
           "zerolinewidth": 2
          },
          "yaxis": {
           "automargin": true,
           "gridcolor": "white",
           "linecolor": "white",
           "ticks": "",
           "title": {
            "standoff": 15
           },
           "zerolinecolor": "white",
           "zerolinewidth": 2
          }
         }
        }
       }
      }
     },
     "metadata": {},
     "output_type": "display_data"
    }
   ],
   "source": [
    "pos = nx.random_layout(ng, dim=3)\n",
    "# nx.draw(ng, pos, with_labels=True, font_weight='bold')\n",
    "plot(pos, vertices, m, fitting)"
   ]
  },
  {
   "cell_type": "code",
   "execution_count": 162,
   "metadata": {},
   "outputs": [
    {
     "data": {
      "application/vnd.plotly.v1+json": {
       "config": {
        "plotlyServerURL": "https://plot.ly"
       },
       "data": [
        {
         "hoverinfo": "none",
         "line": {
          "color": "rgb(125,125,125)",
          "width": 1
         },
         "mode": "lines",
         "name": "edges",
         "type": "scatter3d",
         "x": [
          1,
          0.5000000000000001,
          null,
          1,
          -0.5000000000000004,
          null,
          1,
          1,
          null,
          0.5000000000000001,
          1,
          null,
          0.5000000000000001,
          -0.49999999999999983,
          null,
          0.5000000000000001,
          2,
          null,
          -0.5000000000000004,
          1,
          null,
          -0.5000000000000004,
          -1,
          null,
          -0.5000000000000004,
          1,
          null,
          1,
          1,
          null,
          1,
          1,
          null,
          1,
          2,
          null,
          -0.49999999999999983,
          0.5000000000000001,
          null,
          -0.49999999999999983,
          -1,
          null,
          -0.49999999999999983,
          1,
          null,
          2,
          0.5000000000000001,
          null,
          2,
          1,
          null,
          2,
          2,
          null,
          -1,
          -0.5000000000000004,
          null,
          -1,
          -0.49999999999999983,
          null,
          -1,
          2,
          null,
          1,
          -0.5000000000000004,
          null,
          1,
          2,
          null,
          1,
          1,
          null,
          1,
          1,
          null,
          1,
          -0.49999999999999983,
          null,
          1,
          1,
          null,
          2,
          1,
          null,
          2,
          2,
          null,
          2,
          -1,
          null
         ],
         "y": [
          0,
          0.8660254037844386,
          null,
          0,
          -0.8660254037844384,
          null,
          0,
          4,
          null,
          0.8660254037844386,
          0,
          null,
          0.8660254037844386,
          0.8660254037844387,
          null,
          0.8660254037844386,
          3,
          null,
          -0.8660254037844384,
          0,
          null,
          -0.8660254037844384,
          1.2246467991473532e-16,
          null,
          -0.8660254037844384,
          2,
          null,
          4,
          0,
          null,
          4,
          3,
          null,
          4,
          2,
          null,
          0.8660254037844387,
          0.8660254037844386,
          null,
          0.8660254037844387,
          1.2246467991473532e-16,
          null,
          0.8660254037844387,
          3,
          null,
          3,
          0.8660254037844386,
          null,
          3,
          2,
          null,
          3,
          2,
          null,
          1.2246467991473532e-16,
          -0.8660254037844384,
          null,
          1.2246467991473532e-16,
          0.8660254037844387,
          null,
          1.2246467991473532e-16,
          2,
          null,
          2,
          -0.8660254037844384,
          null,
          2,
          3,
          null,
          2,
          3,
          null,
          3,
          4,
          null,
          3,
          0.8660254037844387,
          null,
          3,
          2,
          null,
          2,
          4,
          null,
          2,
          3,
          null,
          2,
          1.2246467991473532e-16,
          null
         ],
         "z": [
          0,
          0,
          null,
          0,
          0,
          null,
          0,
          4,
          null,
          0,
          0,
          null,
          0,
          0,
          null,
          0,
          6,
          null,
          0,
          0,
          null,
          0,
          0,
          null,
          0,
          2,
          null,
          4,
          0,
          null,
          4,
          3,
          null,
          4,
          4,
          null,
          0,
          0,
          null,
          0,
          0,
          null,
          0,
          3,
          null,
          6,
          0,
          null,
          6,
          2,
          null,
          6,
          4,
          null,
          0,
          0,
          null,
          0,
          0,
          null,
          0,
          4,
          null,
          2,
          0,
          null,
          2,
          6,
          null,
          2,
          3,
          null,
          3,
          4,
          null,
          3,
          0,
          null,
          3,
          2,
          null,
          4,
          4,
          null,
          4,
          6,
          null,
          4,
          0,
          null
         ]
        },
        {
         "hoverinfo": "text",
         "marker": {
          "color": "blue",
          "line": {
           "color": "rgb(50,50,50)",
           "width": 0.5
          },
          "size": 6,
          "symbol": "circle"
         },
         "mode": "markers",
         "name": "vertices",
         "text": [
          "0",
          "1",
          "2",
          "3",
          "4",
          "5",
          "6",
          "7",
          "8",
          "9"
         ],
         "type": "scatter3d",
         "x": [
          1,
          0.5000000000000001,
          -0.5000000000000004,
          1,
          -0.49999999999999983,
          2,
          -1,
          1,
          1,
          2
         ],
         "y": [
          0,
          0.8660254037844386,
          -0.8660254037844384,
          4,
          0.8660254037844387,
          3,
          1.2246467991473532e-16,
          2,
          3,
          2
         ],
         "z": [
          0,
          0,
          0,
          4,
          0,
          6,
          0,
          2,
          3,
          4
         ]
        },
        {
         "color": "rgb(0, 0, 0)",
         "hoverinfo": "name",
         "name": "cycle 0",
         "opacity": 1,
         "type": "mesh3d",
         "x": [
          1,
          0.5000000000000001,
          -0.49999999999999983,
          -1,
          -0.5000000000000004,
          1
         ],
         "y": [
          0,
          0.8660254037844386,
          0.8660254037844387,
          1.2246467991473532e-16,
          -0.8660254037844384,
          0
         ],
         "z": [
          0,
          0,
          0,
          0,
          0,
          0
         ]
        },
        {
         "color": "rgb(50, 100, 150)",
         "hoverinfo": "name",
         "name": "cycle 1",
         "opacity": 1,
         "type": "mesh3d",
         "x": [
          1,
          -0.5000000000000004,
          1,
          1,
          1,
          1
         ],
         "y": [
          0,
          -0.8660254037844384,
          2,
          3,
          4,
          0
         ],
         "z": [
          0,
          0,
          2,
          3,
          4,
          0
         ]
        },
        {
         "color": "rgb(100, 200, 45)",
         "hoverinfo": "name",
         "name": "cycle 2",
         "opacity": 1,
         "type": "mesh3d",
         "x": [
          1,
          1,
          2,
          2,
          0.5000000000000001,
          1
         ],
         "y": [
          0,
          4,
          2,
          3,
          0.8660254037844386,
          0
         ],
         "z": [
          0,
          4,
          4,
          6,
          0,
          0
         ]
        },
        {
         "color": "rgb(150, 45, 195)",
         "hoverinfo": "name",
         "name": "cycle 3",
         "opacity": 1,
         "type": "mesh3d",
         "x": [
          0.5000000000000001,
          2,
          1,
          -0.5000000000000004,
          -1,
          2,
          1,
          1,
          -0.49999999999999983,
          0.5000000000000001
         ],
         "y": [
          0.8660254037844386,
          3,
          2,
          -0.8660254037844384,
          1.2246467991473532e-16,
          2,
          4,
          3,
          0.8660254037844387,
          0.8660254037844386
         ],
         "z": [
          0,
          6,
          2,
          0,
          0,
          4,
          4,
          3,
          0,
          0
         ]
        }
       ],
       "layout": {
        "scene": {
         "xaxis": {
          "visible": false
         },
         "yaxis": {
          "visible": false
         },
         "zaxis": {
          "visible": false
         }
        },
        "showlegend": false,
        "template": {
         "data": {
          "bar": [
           {
            "error_x": {
             "color": "#2a3f5f"
            },
            "error_y": {
             "color": "#2a3f5f"
            },
            "marker": {
             "line": {
              "color": "#E5ECF6",
              "width": 0.5
             },
             "pattern": {
              "fillmode": "overlay",
              "size": 10,
              "solidity": 0.2
             }
            },
            "type": "bar"
           }
          ],
          "barpolar": [
           {
            "marker": {
             "line": {
              "color": "#E5ECF6",
              "width": 0.5
             },
             "pattern": {
              "fillmode": "overlay",
              "size": 10,
              "solidity": 0.2
             }
            },
            "type": "barpolar"
           }
          ],
          "carpet": [
           {
            "aaxis": {
             "endlinecolor": "#2a3f5f",
             "gridcolor": "white",
             "linecolor": "white",
             "minorgridcolor": "white",
             "startlinecolor": "#2a3f5f"
            },
            "baxis": {
             "endlinecolor": "#2a3f5f",
             "gridcolor": "white",
             "linecolor": "white",
             "minorgridcolor": "white",
             "startlinecolor": "#2a3f5f"
            },
            "type": "carpet"
           }
          ],
          "choropleth": [
           {
            "colorbar": {
             "outlinewidth": 0,
             "ticks": ""
            },
            "type": "choropleth"
           }
          ],
          "contour": [
           {
            "colorbar": {
             "outlinewidth": 0,
             "ticks": ""
            },
            "colorscale": [
             [
              0,
              "#0d0887"
             ],
             [
              0.1111111111111111,
              "#46039f"
             ],
             [
              0.2222222222222222,
              "#7201a8"
             ],
             [
              0.3333333333333333,
              "#9c179e"
             ],
             [
              0.4444444444444444,
              "#bd3786"
             ],
             [
              0.5555555555555556,
              "#d8576b"
             ],
             [
              0.6666666666666666,
              "#ed7953"
             ],
             [
              0.7777777777777778,
              "#fb9f3a"
             ],
             [
              0.8888888888888888,
              "#fdca26"
             ],
             [
              1,
              "#f0f921"
             ]
            ],
            "type": "contour"
           }
          ],
          "contourcarpet": [
           {
            "colorbar": {
             "outlinewidth": 0,
             "ticks": ""
            },
            "type": "contourcarpet"
           }
          ],
          "heatmap": [
           {
            "colorbar": {
             "outlinewidth": 0,
             "ticks": ""
            },
            "colorscale": [
             [
              0,
              "#0d0887"
             ],
             [
              0.1111111111111111,
              "#46039f"
             ],
             [
              0.2222222222222222,
              "#7201a8"
             ],
             [
              0.3333333333333333,
              "#9c179e"
             ],
             [
              0.4444444444444444,
              "#bd3786"
             ],
             [
              0.5555555555555556,
              "#d8576b"
             ],
             [
              0.6666666666666666,
              "#ed7953"
             ],
             [
              0.7777777777777778,
              "#fb9f3a"
             ],
             [
              0.8888888888888888,
              "#fdca26"
             ],
             [
              1,
              "#f0f921"
             ]
            ],
            "type": "heatmap"
           }
          ],
          "heatmapgl": [
           {
            "colorbar": {
             "outlinewidth": 0,
             "ticks": ""
            },
            "colorscale": [
             [
              0,
              "#0d0887"
             ],
             [
              0.1111111111111111,
              "#46039f"
             ],
             [
              0.2222222222222222,
              "#7201a8"
             ],
             [
              0.3333333333333333,
              "#9c179e"
             ],
             [
              0.4444444444444444,
              "#bd3786"
             ],
             [
              0.5555555555555556,
              "#d8576b"
             ],
             [
              0.6666666666666666,
              "#ed7953"
             ],
             [
              0.7777777777777778,
              "#fb9f3a"
             ],
             [
              0.8888888888888888,
              "#fdca26"
             ],
             [
              1,
              "#f0f921"
             ]
            ],
            "type": "heatmapgl"
           }
          ],
          "histogram": [
           {
            "marker": {
             "pattern": {
              "fillmode": "overlay",
              "size": 10,
              "solidity": 0.2
             }
            },
            "type": "histogram"
           }
          ],
          "histogram2d": [
           {
            "colorbar": {
             "outlinewidth": 0,
             "ticks": ""
            },
            "colorscale": [
             [
              0,
              "#0d0887"
             ],
             [
              0.1111111111111111,
              "#46039f"
             ],
             [
              0.2222222222222222,
              "#7201a8"
             ],
             [
              0.3333333333333333,
              "#9c179e"
             ],
             [
              0.4444444444444444,
              "#bd3786"
             ],
             [
              0.5555555555555556,
              "#d8576b"
             ],
             [
              0.6666666666666666,
              "#ed7953"
             ],
             [
              0.7777777777777778,
              "#fb9f3a"
             ],
             [
              0.8888888888888888,
              "#fdca26"
             ],
             [
              1,
              "#f0f921"
             ]
            ],
            "type": "histogram2d"
           }
          ],
          "histogram2dcontour": [
           {
            "colorbar": {
             "outlinewidth": 0,
             "ticks": ""
            },
            "colorscale": [
             [
              0,
              "#0d0887"
             ],
             [
              0.1111111111111111,
              "#46039f"
             ],
             [
              0.2222222222222222,
              "#7201a8"
             ],
             [
              0.3333333333333333,
              "#9c179e"
             ],
             [
              0.4444444444444444,
              "#bd3786"
             ],
             [
              0.5555555555555556,
              "#d8576b"
             ],
             [
              0.6666666666666666,
              "#ed7953"
             ],
             [
              0.7777777777777778,
              "#fb9f3a"
             ],
             [
              0.8888888888888888,
              "#fdca26"
             ],
             [
              1,
              "#f0f921"
             ]
            ],
            "type": "histogram2dcontour"
           }
          ],
          "mesh3d": [
           {
            "colorbar": {
             "outlinewidth": 0,
             "ticks": ""
            },
            "type": "mesh3d"
           }
          ],
          "parcoords": [
           {
            "line": {
             "colorbar": {
              "outlinewidth": 0,
              "ticks": ""
             }
            },
            "type": "parcoords"
           }
          ],
          "pie": [
           {
            "automargin": true,
            "type": "pie"
           }
          ],
          "scatter": [
           {
            "fillpattern": {
             "fillmode": "overlay",
             "size": 10,
             "solidity": 0.2
            },
            "type": "scatter"
           }
          ],
          "scatter3d": [
           {
            "line": {
             "colorbar": {
              "outlinewidth": 0,
              "ticks": ""
             }
            },
            "marker": {
             "colorbar": {
              "outlinewidth": 0,
              "ticks": ""
             }
            },
            "type": "scatter3d"
           }
          ],
          "scattercarpet": [
           {
            "marker": {
             "colorbar": {
              "outlinewidth": 0,
              "ticks": ""
             }
            },
            "type": "scattercarpet"
           }
          ],
          "scattergeo": [
           {
            "marker": {
             "colorbar": {
              "outlinewidth": 0,
              "ticks": ""
             }
            },
            "type": "scattergeo"
           }
          ],
          "scattergl": [
           {
            "marker": {
             "colorbar": {
              "outlinewidth": 0,
              "ticks": ""
             }
            },
            "type": "scattergl"
           }
          ],
          "scattermapbox": [
           {
            "marker": {
             "colorbar": {
              "outlinewidth": 0,
              "ticks": ""
             }
            },
            "type": "scattermapbox"
           }
          ],
          "scatterpolar": [
           {
            "marker": {
             "colorbar": {
              "outlinewidth": 0,
              "ticks": ""
             }
            },
            "type": "scatterpolar"
           }
          ],
          "scatterpolargl": [
           {
            "marker": {
             "colorbar": {
              "outlinewidth": 0,
              "ticks": ""
             }
            },
            "type": "scatterpolargl"
           }
          ],
          "scatterternary": [
           {
            "marker": {
             "colorbar": {
              "outlinewidth": 0,
              "ticks": ""
             }
            },
            "type": "scatterternary"
           }
          ],
          "surface": [
           {
            "colorbar": {
             "outlinewidth": 0,
             "ticks": ""
            },
            "colorscale": [
             [
              0,
              "#0d0887"
             ],
             [
              0.1111111111111111,
              "#46039f"
             ],
             [
              0.2222222222222222,
              "#7201a8"
             ],
             [
              0.3333333333333333,
              "#9c179e"
             ],
             [
              0.4444444444444444,
              "#bd3786"
             ],
             [
              0.5555555555555556,
              "#d8576b"
             ],
             [
              0.6666666666666666,
              "#ed7953"
             ],
             [
              0.7777777777777778,
              "#fb9f3a"
             ],
             [
              0.8888888888888888,
              "#fdca26"
             ],
             [
              1,
              "#f0f921"
             ]
            ],
            "type": "surface"
           }
          ],
          "table": [
           {
            "cells": {
             "fill": {
              "color": "#EBF0F8"
             },
             "line": {
              "color": "white"
             }
            },
            "header": {
             "fill": {
              "color": "#C8D4E3"
             },
             "line": {
              "color": "white"
             }
            },
            "type": "table"
           }
          ]
         },
         "layout": {
          "annotationdefaults": {
           "arrowcolor": "#2a3f5f",
           "arrowhead": 0,
           "arrowwidth": 1
          },
          "autotypenumbers": "strict",
          "coloraxis": {
           "colorbar": {
            "outlinewidth": 0,
            "ticks": ""
           }
          },
          "colorscale": {
           "diverging": [
            [
             0,
             "#8e0152"
            ],
            [
             0.1,
             "#c51b7d"
            ],
            [
             0.2,
             "#de77ae"
            ],
            [
             0.3,
             "#f1b6da"
            ],
            [
             0.4,
             "#fde0ef"
            ],
            [
             0.5,
             "#f7f7f7"
            ],
            [
             0.6,
             "#e6f5d0"
            ],
            [
             0.7,
             "#b8e186"
            ],
            [
             0.8,
             "#7fbc41"
            ],
            [
             0.9,
             "#4d9221"
            ],
            [
             1,
             "#276419"
            ]
           ],
           "sequential": [
            [
             0,
             "#0d0887"
            ],
            [
             0.1111111111111111,
             "#46039f"
            ],
            [
             0.2222222222222222,
             "#7201a8"
            ],
            [
             0.3333333333333333,
             "#9c179e"
            ],
            [
             0.4444444444444444,
             "#bd3786"
            ],
            [
             0.5555555555555556,
             "#d8576b"
            ],
            [
             0.6666666666666666,
             "#ed7953"
            ],
            [
             0.7777777777777778,
             "#fb9f3a"
            ],
            [
             0.8888888888888888,
             "#fdca26"
            ],
            [
             1,
             "#f0f921"
            ]
           ],
           "sequentialminus": [
            [
             0,
             "#0d0887"
            ],
            [
             0.1111111111111111,
             "#46039f"
            ],
            [
             0.2222222222222222,
             "#7201a8"
            ],
            [
             0.3333333333333333,
             "#9c179e"
            ],
            [
             0.4444444444444444,
             "#bd3786"
            ],
            [
             0.5555555555555556,
             "#d8576b"
            ],
            [
             0.6666666666666666,
             "#ed7953"
            ],
            [
             0.7777777777777778,
             "#fb9f3a"
            ],
            [
             0.8888888888888888,
             "#fdca26"
            ],
            [
             1,
             "#f0f921"
            ]
           ]
          },
          "colorway": [
           "#636efa",
           "#EF553B",
           "#00cc96",
           "#ab63fa",
           "#FFA15A",
           "#19d3f3",
           "#FF6692",
           "#B6E880",
           "#FF97FF",
           "#FECB52"
          ],
          "font": {
           "color": "#2a3f5f"
          },
          "geo": {
           "bgcolor": "white",
           "lakecolor": "white",
           "landcolor": "#E5ECF6",
           "showlakes": true,
           "showland": true,
           "subunitcolor": "white"
          },
          "hoverlabel": {
           "align": "left"
          },
          "hovermode": "closest",
          "mapbox": {
           "style": "light"
          },
          "paper_bgcolor": "white",
          "plot_bgcolor": "#E5ECF6",
          "polar": {
           "angularaxis": {
            "gridcolor": "white",
            "linecolor": "white",
            "ticks": ""
           },
           "bgcolor": "#E5ECF6",
           "radialaxis": {
            "gridcolor": "white",
            "linecolor": "white",
            "ticks": ""
           }
          },
          "scene": {
           "xaxis": {
            "backgroundcolor": "#E5ECF6",
            "gridcolor": "white",
            "gridwidth": 2,
            "linecolor": "white",
            "showbackground": true,
            "ticks": "",
            "zerolinecolor": "white"
           },
           "yaxis": {
            "backgroundcolor": "#E5ECF6",
            "gridcolor": "white",
            "gridwidth": 2,
            "linecolor": "white",
            "showbackground": true,
            "ticks": "",
            "zerolinecolor": "white"
           },
           "zaxis": {
            "backgroundcolor": "#E5ECF6",
            "gridcolor": "white",
            "gridwidth": 2,
            "linecolor": "white",
            "showbackground": true,
            "ticks": "",
            "zerolinecolor": "white"
           }
          },
          "shapedefaults": {
           "line": {
            "color": "#2a3f5f"
           }
          },
          "ternary": {
           "aaxis": {
            "gridcolor": "white",
            "linecolor": "white",
            "ticks": ""
           },
           "baxis": {
            "gridcolor": "white",
            "linecolor": "white",
            "ticks": ""
           },
           "bgcolor": "#E5ECF6",
           "caxis": {
            "gridcolor": "white",
            "linecolor": "white",
            "ticks": ""
           }
          },
          "title": {
           "x": 0.05
          },
          "xaxis": {
           "automargin": true,
           "gridcolor": "white",
           "linecolor": "white",
           "ticks": "",
           "title": {
            "standoff": 15
           },
           "zerolinecolor": "white",
           "zerolinewidth": 2
          },
          "yaxis": {
           "automargin": true,
           "gridcolor": "white",
           "linecolor": "white",
           "ticks": "",
           "title": {
            "standoff": 15
           },
           "zerolinecolor": "white",
           "zerolinewidth": 2
          }
         }
        }
       }
      }
     },
     "metadata": {},
     "output_type": "display_data"
    }
   ],
   "source": [
    "# position based on the fitting\n",
    "pos = {}\n",
    "\n",
    "# layout the first cycle in a circle\n",
    "cycle = fitting[0]\n",
    "num_vertices = len(cycle)\n",
    "for i, v in enumerate(cycle):\n",
    "    if v not in pos:\n",
    "        pos[v] = [np.cos(2 * np.pi * i / num_vertices), np.sin(2 * np.pi * i / num_vertices), 0]\n",
    "\n",
    "for i, cycle in enumerate(fitting):\n",
    "    for j, v in enumerate(cycle[:-1]):\n",
    "        if v not in pos:\n",
    "            pos[v] = [i, j, i * j]\n",
    "plot(pos, vertices, m, fitting)"
   ]
  },
  {
   "cell_type": "code",
   "execution_count": 163,
   "metadata": {},
   "outputs": [
    {
     "data": {
      "application/vnd.plotly.v1+json": {
       "config": {
        "plotlyServerURL": "https://plot.ly"
       },
       "data": [
        {
         "hoverinfo": "none",
         "line": {
          "color": "rgb(125,125,125)",
          "width": 1
         },
         "mode": "lines",
         "name": "edges",
         "type": "scatter3d",
         "x": [
          0.8500603989401252,
          0.2619335391793965,
          null,
          0.8500603989401252,
          0.41298306692809494,
          null,
          0.8500603989401252,
          0.0388269258818835,
          null,
          0.2619335391793965,
          0.8500603989401252,
          null,
          0.2619335391793965,
          -0.7094249786760962,
          null,
          0.2619335391793965,
          0.1254306913385771,
          null,
          0.41298306692809494,
          0.8500603989401252,
          null,
          0.41298306692809494,
          -0.7130481361418962,
          null,
          0.41298306692809494,
          0.37142749335303027,
          null,
          0.0388269258818835,
          0.8500603989401252,
          null,
          0.0388269258818835,
          -0.04934037704969239,
          null,
          0.0388269258818835,
          -0.5888486237534225,
          null,
          -0.7094249786760962,
          0.2619335391793965,
          null,
          -0.7094249786760962,
          -0.7130481361418962,
          null,
          -0.7094249786760962,
          -0.04934037704969239,
          null,
          0.1254306913385771,
          0.2619335391793965,
          null,
          0.1254306913385771,
          0.37142749335303027,
          null,
          0.1254306913385771,
          -0.5888486237534225,
          null,
          -0.7130481361418962,
          0.41298306692809494,
          null,
          -0.7130481361418962,
          -0.7094249786760962,
          null,
          -0.7130481361418962,
          -0.5888486237534225,
          null,
          0.37142749335303027,
          0.41298306692809494,
          null,
          0.37142749335303027,
          0.1254306913385771,
          null,
          0.37142749335303027,
          -0.04934037704969239,
          null,
          -0.04934037704969239,
          0.0388269258818835,
          null,
          -0.04934037704969239,
          -0.7094249786760962,
          null,
          -0.04934037704969239,
          0.37142749335303027,
          null,
          -0.5888486237534225,
          0.0388269258818835,
          null,
          -0.5888486237534225,
          0.1254306913385771,
          null,
          -0.5888486237534225,
          -0.7130481361418962,
          null
         ],
         "y": [
          0.12891467743794946,
          0.6205269601025044,
          null,
          0.12891467743794946,
          -0.8773260679059133,
          null,
          0.12891467743794946,
          0.6735537354062174,
          null,
          0.6205269601025044,
          0.12891467743794946,
          null,
          0.6205269601025044,
          0.1602899259520461,
          null,
          0.6205269601025044,
          0.2786217653332603,
          null,
          -0.8773260679059133,
          0.12891467743794946,
          null,
          -0.8773260679059133,
          -0.5736875161671398,
          null,
          -0.8773260679059133,
          -0.5656830052245049,
          null,
          0.6735537354062174,
          0.12891467743794946,
          null,
          0.6735537354062174,
          -0.2607348064654373,
          null,
          0.6735537354062174,
          0.4155243315310201,
          null,
          0.1602899259520461,
          0.6205269601025044,
          null,
          0.1602899259520461,
          -0.5736875161671398,
          null,
          0.1602899259520461,
          -0.2607348064654373,
          null,
          0.2786217653332603,
          0.6205269601025044,
          null,
          0.2786217653332603,
          -0.5656830052245049,
          null,
          0.2786217653332603,
          0.4155243315310201,
          null,
          -0.5736875161671398,
          -0.8773260679059133,
          null,
          -0.5736875161671398,
          0.1602899259520461,
          null,
          -0.5736875161671398,
          0.4155243315310201,
          null,
          -0.5656830052245049,
          -0.8773260679059133,
          null,
          -0.5656830052245049,
          0.2786217653332603,
          null,
          -0.5656830052245049,
          -0.2607348064654373,
          null,
          -0.2607348064654373,
          0.6735537354062174,
          null,
          -0.2607348064654373,
          0.1602899259520461,
          null,
          -0.2607348064654373,
          -0.5656830052245049,
          null,
          0.4155243315310201,
          0.6735537354062174,
          null,
          0.4155243315310201,
          0.2786217653332603,
          null,
          0.4155243315310201,
          -0.5736875161671398,
          null
         ],
         "z": [
          -0.46485859897986015,
          0.21091752760510538,
          null,
          -0.46485859897986015,
          -0.13310700164948386,
          null,
          -0.46485859897986015,
          -0.595783934170391,
          null,
          0.21091752760510538,
          -0.46485859897986015,
          null,
          0.21091752760510538,
          -0.37083651887041597,
          null,
          0.21091752760510538,
          1,
          null,
          -0.13310700164948386,
          -0.46485859897986015,
          null,
          -0.13310700164948386,
          0.09638570857012042,
          null,
          -0.13310700164948386,
          0.44689678566910024,
          null,
          -0.595783934170391,
          -0.46485859897986015,
          null,
          -0.595783934170391,
          -0.6012278179423852,
          null,
          -0.595783934170391,
          0.4116138497682171,
          null,
          -0.37083651887041597,
          0.21091752760510538,
          null,
          -0.37083651887041597,
          0.09638570857012042,
          null,
          -0.37083651887041597,
          -0.6012278179423852,
          null,
          1,
          0.21091752760510538,
          null,
          1,
          0.44689678566910024,
          null,
          1,
          0.4116138497682171,
          null,
          0.09638570857012042,
          -0.13310700164948386,
          null,
          0.09638570857012042,
          -0.37083651887041597,
          null,
          0.09638570857012042,
          0.4116138497682171,
          null,
          0.44689678566910024,
          -0.13310700164948386,
          null,
          0.44689678566910024,
          1,
          null,
          0.44689678566910024,
          -0.6012278179423852,
          null,
          -0.6012278179423852,
          -0.595783934170391,
          null,
          -0.6012278179423852,
          -0.37083651887041597,
          null,
          -0.6012278179423852,
          0.44689678566910024,
          null,
          0.4116138497682171,
          -0.595783934170391,
          null,
          0.4116138497682171,
          1,
          null,
          0.4116138497682171,
          0.09638570857012042,
          null
         ]
        },
        {
         "hoverinfo": "text",
         "marker": {
          "color": "blue",
          "line": {
           "color": "rgb(50,50,50)",
           "width": 0.5
          },
          "size": 6,
          "symbol": "circle"
         },
         "mode": "markers",
         "name": "vertices",
         "text": [
          "0",
          "1",
          "2",
          "3",
          "4",
          "5",
          "6",
          "7",
          "8",
          "9"
         ],
         "type": "scatter3d",
         "x": [
          0.8500603989401252,
          0.2619335391793965,
          0.41298306692809494,
          0.0388269258818835,
          -0.7094249786760962,
          0.1254306913385771,
          -0.7130481361418962,
          0.37142749335303027,
          -0.04934037704969239,
          -0.5888486237534225
         ],
         "y": [
          0.12891467743794946,
          0.6205269601025044,
          -0.8773260679059133,
          0.6735537354062174,
          0.1602899259520461,
          0.2786217653332603,
          -0.5736875161671398,
          -0.5656830052245049,
          -0.2607348064654373,
          0.4155243315310201
         ],
         "z": [
          -0.46485859897986015,
          0.21091752760510538,
          -0.13310700164948386,
          -0.595783934170391,
          -0.37083651887041597,
          1,
          0.09638570857012042,
          0.44689678566910024,
          -0.6012278179423852,
          0.4116138497682171
         ]
        },
        {
         "color": "rgb(0, 0, 0)",
         "hoverinfo": "name",
         "name": "cycle 0",
         "opacity": 1,
         "type": "mesh3d",
         "x": [
          0.8500603989401252,
          0.2619335391793965,
          -0.7094249786760962,
          -0.7130481361418962,
          0.41298306692809494,
          0.8500603989401252
         ],
         "y": [
          0.12891467743794946,
          0.6205269601025044,
          0.1602899259520461,
          -0.5736875161671398,
          -0.8773260679059133,
          0.12891467743794946
         ],
         "z": [
          -0.46485859897986015,
          0.21091752760510538,
          -0.37083651887041597,
          0.09638570857012042,
          -0.13310700164948386,
          -0.46485859897986015
         ]
        },
        {
         "color": "rgb(50, 100, 150)",
         "hoverinfo": "name",
         "name": "cycle 1",
         "opacity": 1,
         "type": "mesh3d",
         "x": [
          0.8500603989401252,
          0.41298306692809494,
          0.37142749335303027,
          -0.04934037704969239,
          0.0388269258818835,
          0.8500603989401252
         ],
         "y": [
          0.12891467743794946,
          -0.8773260679059133,
          -0.5656830052245049,
          -0.2607348064654373,
          0.6735537354062174,
          0.12891467743794946
         ],
         "z": [
          -0.46485859897986015,
          -0.13310700164948386,
          0.44689678566910024,
          -0.6012278179423852,
          -0.595783934170391,
          -0.46485859897986015
         ]
        },
        {
         "color": "rgb(100, 200, 45)",
         "hoverinfo": "name",
         "name": "cycle 2",
         "opacity": 1,
         "type": "mesh3d",
         "x": [
          0.8500603989401252,
          0.0388269258818835,
          -0.5888486237534225,
          0.1254306913385771,
          0.2619335391793965,
          0.8500603989401252
         ],
         "y": [
          0.12891467743794946,
          0.6735537354062174,
          0.4155243315310201,
          0.2786217653332603,
          0.6205269601025044,
          0.12891467743794946
         ],
         "z": [
          -0.46485859897986015,
          -0.595783934170391,
          0.4116138497682171,
          1,
          0.21091752760510538,
          -0.46485859897986015
         ]
        },
        {
         "color": "rgb(150, 45, 195)",
         "hoverinfo": "name",
         "name": "cycle 3",
         "opacity": 1,
         "type": "mesh3d",
         "x": [
          0.2619335391793965,
          0.1254306913385771,
          0.37142749335303027,
          0.41298306692809494,
          -0.7130481361418962,
          -0.5888486237534225,
          0.0388269258818835,
          -0.04934037704969239,
          -0.7094249786760962,
          0.2619335391793965
         ],
         "y": [
          0.6205269601025044,
          0.2786217653332603,
          -0.5656830052245049,
          -0.8773260679059133,
          -0.5736875161671398,
          0.4155243315310201,
          0.6735537354062174,
          -0.2607348064654373,
          0.1602899259520461,
          0.6205269601025044
         ],
         "z": [
          0.21091752760510538,
          1,
          0.44689678566910024,
          -0.13310700164948386,
          0.09638570857012042,
          0.4116138497682171,
          -0.595783934170391,
          -0.6012278179423852,
          -0.37083651887041597,
          0.21091752760510538
         ]
        }
       ],
       "layout": {
        "scene": {
         "xaxis": {
          "visible": false
         },
         "yaxis": {
          "visible": false
         },
         "zaxis": {
          "visible": false
         }
        },
        "showlegend": false,
        "template": {
         "data": {
          "bar": [
           {
            "error_x": {
             "color": "#2a3f5f"
            },
            "error_y": {
             "color": "#2a3f5f"
            },
            "marker": {
             "line": {
              "color": "#E5ECF6",
              "width": 0.5
             },
             "pattern": {
              "fillmode": "overlay",
              "size": 10,
              "solidity": 0.2
             }
            },
            "type": "bar"
           }
          ],
          "barpolar": [
           {
            "marker": {
             "line": {
              "color": "#E5ECF6",
              "width": 0.5
             },
             "pattern": {
              "fillmode": "overlay",
              "size": 10,
              "solidity": 0.2
             }
            },
            "type": "barpolar"
           }
          ],
          "carpet": [
           {
            "aaxis": {
             "endlinecolor": "#2a3f5f",
             "gridcolor": "white",
             "linecolor": "white",
             "minorgridcolor": "white",
             "startlinecolor": "#2a3f5f"
            },
            "baxis": {
             "endlinecolor": "#2a3f5f",
             "gridcolor": "white",
             "linecolor": "white",
             "minorgridcolor": "white",
             "startlinecolor": "#2a3f5f"
            },
            "type": "carpet"
           }
          ],
          "choropleth": [
           {
            "colorbar": {
             "outlinewidth": 0,
             "ticks": ""
            },
            "type": "choropleth"
           }
          ],
          "contour": [
           {
            "colorbar": {
             "outlinewidth": 0,
             "ticks": ""
            },
            "colorscale": [
             [
              0,
              "#0d0887"
             ],
             [
              0.1111111111111111,
              "#46039f"
             ],
             [
              0.2222222222222222,
              "#7201a8"
             ],
             [
              0.3333333333333333,
              "#9c179e"
             ],
             [
              0.4444444444444444,
              "#bd3786"
             ],
             [
              0.5555555555555556,
              "#d8576b"
             ],
             [
              0.6666666666666666,
              "#ed7953"
             ],
             [
              0.7777777777777778,
              "#fb9f3a"
             ],
             [
              0.8888888888888888,
              "#fdca26"
             ],
             [
              1,
              "#f0f921"
             ]
            ],
            "type": "contour"
           }
          ],
          "contourcarpet": [
           {
            "colorbar": {
             "outlinewidth": 0,
             "ticks": ""
            },
            "type": "contourcarpet"
           }
          ],
          "heatmap": [
           {
            "colorbar": {
             "outlinewidth": 0,
             "ticks": ""
            },
            "colorscale": [
             [
              0,
              "#0d0887"
             ],
             [
              0.1111111111111111,
              "#46039f"
             ],
             [
              0.2222222222222222,
              "#7201a8"
             ],
             [
              0.3333333333333333,
              "#9c179e"
             ],
             [
              0.4444444444444444,
              "#bd3786"
             ],
             [
              0.5555555555555556,
              "#d8576b"
             ],
             [
              0.6666666666666666,
              "#ed7953"
             ],
             [
              0.7777777777777778,
              "#fb9f3a"
             ],
             [
              0.8888888888888888,
              "#fdca26"
             ],
             [
              1,
              "#f0f921"
             ]
            ],
            "type": "heatmap"
           }
          ],
          "heatmapgl": [
           {
            "colorbar": {
             "outlinewidth": 0,
             "ticks": ""
            },
            "colorscale": [
             [
              0,
              "#0d0887"
             ],
             [
              0.1111111111111111,
              "#46039f"
             ],
             [
              0.2222222222222222,
              "#7201a8"
             ],
             [
              0.3333333333333333,
              "#9c179e"
             ],
             [
              0.4444444444444444,
              "#bd3786"
             ],
             [
              0.5555555555555556,
              "#d8576b"
             ],
             [
              0.6666666666666666,
              "#ed7953"
             ],
             [
              0.7777777777777778,
              "#fb9f3a"
             ],
             [
              0.8888888888888888,
              "#fdca26"
             ],
             [
              1,
              "#f0f921"
             ]
            ],
            "type": "heatmapgl"
           }
          ],
          "histogram": [
           {
            "marker": {
             "pattern": {
              "fillmode": "overlay",
              "size": 10,
              "solidity": 0.2
             }
            },
            "type": "histogram"
           }
          ],
          "histogram2d": [
           {
            "colorbar": {
             "outlinewidth": 0,
             "ticks": ""
            },
            "colorscale": [
             [
              0,
              "#0d0887"
             ],
             [
              0.1111111111111111,
              "#46039f"
             ],
             [
              0.2222222222222222,
              "#7201a8"
             ],
             [
              0.3333333333333333,
              "#9c179e"
             ],
             [
              0.4444444444444444,
              "#bd3786"
             ],
             [
              0.5555555555555556,
              "#d8576b"
             ],
             [
              0.6666666666666666,
              "#ed7953"
             ],
             [
              0.7777777777777778,
              "#fb9f3a"
             ],
             [
              0.8888888888888888,
              "#fdca26"
             ],
             [
              1,
              "#f0f921"
             ]
            ],
            "type": "histogram2d"
           }
          ],
          "histogram2dcontour": [
           {
            "colorbar": {
             "outlinewidth": 0,
             "ticks": ""
            },
            "colorscale": [
             [
              0,
              "#0d0887"
             ],
             [
              0.1111111111111111,
              "#46039f"
             ],
             [
              0.2222222222222222,
              "#7201a8"
             ],
             [
              0.3333333333333333,
              "#9c179e"
             ],
             [
              0.4444444444444444,
              "#bd3786"
             ],
             [
              0.5555555555555556,
              "#d8576b"
             ],
             [
              0.6666666666666666,
              "#ed7953"
             ],
             [
              0.7777777777777778,
              "#fb9f3a"
             ],
             [
              0.8888888888888888,
              "#fdca26"
             ],
             [
              1,
              "#f0f921"
             ]
            ],
            "type": "histogram2dcontour"
           }
          ],
          "mesh3d": [
           {
            "colorbar": {
             "outlinewidth": 0,
             "ticks": ""
            },
            "type": "mesh3d"
           }
          ],
          "parcoords": [
           {
            "line": {
             "colorbar": {
              "outlinewidth": 0,
              "ticks": ""
             }
            },
            "type": "parcoords"
           }
          ],
          "pie": [
           {
            "automargin": true,
            "type": "pie"
           }
          ],
          "scatter": [
           {
            "fillpattern": {
             "fillmode": "overlay",
             "size": 10,
             "solidity": 0.2
            },
            "type": "scatter"
           }
          ],
          "scatter3d": [
           {
            "line": {
             "colorbar": {
              "outlinewidth": 0,
              "ticks": ""
             }
            },
            "marker": {
             "colorbar": {
              "outlinewidth": 0,
              "ticks": ""
             }
            },
            "type": "scatter3d"
           }
          ],
          "scattercarpet": [
           {
            "marker": {
             "colorbar": {
              "outlinewidth": 0,
              "ticks": ""
             }
            },
            "type": "scattercarpet"
           }
          ],
          "scattergeo": [
           {
            "marker": {
             "colorbar": {
              "outlinewidth": 0,
              "ticks": ""
             }
            },
            "type": "scattergeo"
           }
          ],
          "scattergl": [
           {
            "marker": {
             "colorbar": {
              "outlinewidth": 0,
              "ticks": ""
             }
            },
            "type": "scattergl"
           }
          ],
          "scattermapbox": [
           {
            "marker": {
             "colorbar": {
              "outlinewidth": 0,
              "ticks": ""
             }
            },
            "type": "scattermapbox"
           }
          ],
          "scatterpolar": [
           {
            "marker": {
             "colorbar": {
              "outlinewidth": 0,
              "ticks": ""
             }
            },
            "type": "scatterpolar"
           }
          ],
          "scatterpolargl": [
           {
            "marker": {
             "colorbar": {
              "outlinewidth": 0,
              "ticks": ""
             }
            },
            "type": "scatterpolargl"
           }
          ],
          "scatterternary": [
           {
            "marker": {
             "colorbar": {
              "outlinewidth": 0,
              "ticks": ""
             }
            },
            "type": "scatterternary"
           }
          ],
          "surface": [
           {
            "colorbar": {
             "outlinewidth": 0,
             "ticks": ""
            },
            "colorscale": [
             [
              0,
              "#0d0887"
             ],
             [
              0.1111111111111111,
              "#46039f"
             ],
             [
              0.2222222222222222,
              "#7201a8"
             ],
             [
              0.3333333333333333,
              "#9c179e"
             ],
             [
              0.4444444444444444,
              "#bd3786"
             ],
             [
              0.5555555555555556,
              "#d8576b"
             ],
             [
              0.6666666666666666,
              "#ed7953"
             ],
             [
              0.7777777777777778,
              "#fb9f3a"
             ],
             [
              0.8888888888888888,
              "#fdca26"
             ],
             [
              1,
              "#f0f921"
             ]
            ],
            "type": "surface"
           }
          ],
          "table": [
           {
            "cells": {
             "fill": {
              "color": "#EBF0F8"
             },
             "line": {
              "color": "white"
             }
            },
            "header": {
             "fill": {
              "color": "#C8D4E3"
             },
             "line": {
              "color": "white"
             }
            },
            "type": "table"
           }
          ]
         },
         "layout": {
          "annotationdefaults": {
           "arrowcolor": "#2a3f5f",
           "arrowhead": 0,
           "arrowwidth": 1
          },
          "autotypenumbers": "strict",
          "coloraxis": {
           "colorbar": {
            "outlinewidth": 0,
            "ticks": ""
           }
          },
          "colorscale": {
           "diverging": [
            [
             0,
             "#8e0152"
            ],
            [
             0.1,
             "#c51b7d"
            ],
            [
             0.2,
             "#de77ae"
            ],
            [
             0.3,
             "#f1b6da"
            ],
            [
             0.4,
             "#fde0ef"
            ],
            [
             0.5,
             "#f7f7f7"
            ],
            [
             0.6,
             "#e6f5d0"
            ],
            [
             0.7,
             "#b8e186"
            ],
            [
             0.8,
             "#7fbc41"
            ],
            [
             0.9,
             "#4d9221"
            ],
            [
             1,
             "#276419"
            ]
           ],
           "sequential": [
            [
             0,
             "#0d0887"
            ],
            [
             0.1111111111111111,
             "#46039f"
            ],
            [
             0.2222222222222222,
             "#7201a8"
            ],
            [
             0.3333333333333333,
             "#9c179e"
            ],
            [
             0.4444444444444444,
             "#bd3786"
            ],
            [
             0.5555555555555556,
             "#d8576b"
            ],
            [
             0.6666666666666666,
             "#ed7953"
            ],
            [
             0.7777777777777778,
             "#fb9f3a"
            ],
            [
             0.8888888888888888,
             "#fdca26"
            ],
            [
             1,
             "#f0f921"
            ]
           ],
           "sequentialminus": [
            [
             0,
             "#0d0887"
            ],
            [
             0.1111111111111111,
             "#46039f"
            ],
            [
             0.2222222222222222,
             "#7201a8"
            ],
            [
             0.3333333333333333,
             "#9c179e"
            ],
            [
             0.4444444444444444,
             "#bd3786"
            ],
            [
             0.5555555555555556,
             "#d8576b"
            ],
            [
             0.6666666666666666,
             "#ed7953"
            ],
            [
             0.7777777777777778,
             "#fb9f3a"
            ],
            [
             0.8888888888888888,
             "#fdca26"
            ],
            [
             1,
             "#f0f921"
            ]
           ]
          },
          "colorway": [
           "#636efa",
           "#EF553B",
           "#00cc96",
           "#ab63fa",
           "#FFA15A",
           "#19d3f3",
           "#FF6692",
           "#B6E880",
           "#FF97FF",
           "#FECB52"
          ],
          "font": {
           "color": "#2a3f5f"
          },
          "geo": {
           "bgcolor": "white",
           "lakecolor": "white",
           "landcolor": "#E5ECF6",
           "showlakes": true,
           "showland": true,
           "subunitcolor": "white"
          },
          "hoverlabel": {
           "align": "left"
          },
          "hovermode": "closest",
          "mapbox": {
           "style": "light"
          },
          "paper_bgcolor": "white",
          "plot_bgcolor": "#E5ECF6",
          "polar": {
           "angularaxis": {
            "gridcolor": "white",
            "linecolor": "white",
            "ticks": ""
           },
           "bgcolor": "#E5ECF6",
           "radialaxis": {
            "gridcolor": "white",
            "linecolor": "white",
            "ticks": ""
           }
          },
          "scene": {
           "xaxis": {
            "backgroundcolor": "#E5ECF6",
            "gridcolor": "white",
            "gridwidth": 2,
            "linecolor": "white",
            "showbackground": true,
            "ticks": "",
            "zerolinecolor": "white"
           },
           "yaxis": {
            "backgroundcolor": "#E5ECF6",
            "gridcolor": "white",
            "gridwidth": 2,
            "linecolor": "white",
            "showbackground": true,
            "ticks": "",
            "zerolinecolor": "white"
           },
           "zaxis": {
            "backgroundcolor": "#E5ECF6",
            "gridcolor": "white",
            "gridwidth": 2,
            "linecolor": "white",
            "showbackground": true,
            "ticks": "",
            "zerolinecolor": "white"
           }
          },
          "shapedefaults": {
           "line": {
            "color": "#2a3f5f"
           }
          },
          "ternary": {
           "aaxis": {
            "gridcolor": "white",
            "linecolor": "white",
            "ticks": ""
           },
           "baxis": {
            "gridcolor": "white",
            "linecolor": "white",
            "ticks": ""
           },
           "bgcolor": "#E5ECF6",
           "caxis": {
            "gridcolor": "white",
            "linecolor": "white",
            "ticks": ""
           }
          },
          "title": {
           "x": 0.05
          },
          "xaxis": {
           "automargin": true,
           "gridcolor": "white",
           "linecolor": "white",
           "ticks": "",
           "title": {
            "standoff": 15
           },
           "zerolinecolor": "white",
           "zerolinewidth": 2
          },
          "yaxis": {
           "automargin": true,
           "gridcolor": "white",
           "linecolor": "white",
           "ticks": "",
           "title": {
            "standoff": 15
           },
           "zerolinecolor": "white",
           "zerolinewidth": 2
          }
         }
        }
       }
      }
     },
     "metadata": {},
     "output_type": "display_data"
    }
   ],
   "source": [
    "pos = nx.spring_layout(ng, dim=3, pos=pos)\n",
    "# nx.draw(ng, pos, with_labels=True, font_weight='bold')\n",
    "plot(pos, vertices, m, fitting)"
   ]
  }
 ],
 "metadata": {
  "kernelspec": {
   "display_name": "SageMath 10.3",
   "language": "sage",
   "name": "SageMath-10.3"
  },
  "language_info": {
   "codemirror_mode": {
    "name": "ipython",
    "version": 3
   },
   "file_extension": ".py",
   "mimetype": "text/x-python",
   "name": "python",
   "nbconvert_exporter": "python",
   "pygments_lexer": "ipython3",
   "version": "3.11.8"
  }
 },
 "nbformat": 4,
 "nbformat_minor": 2
}
