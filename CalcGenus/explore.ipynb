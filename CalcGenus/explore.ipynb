{
 "cells": [
  {
   "cell_type": "code",
   "execution_count": 3,
   "metadata": {},
   "outputs": [],
   "source": [
    "import networkx as nx\n",
    "import matplotlib.pyplot as plt\n",
    "from sage.all import *"
   ]
  },
  {
   "cell_type": "code",
   "execution_count": 5,
   "metadata": {},
   "outputs": [],
   "source": [
    "g = graphs.Balaban10Cage(embedding=1)"
   ]
  },
  {
   "cell_type": "code",
   "execution_count": 6,
   "metadata": {},
   "outputs": [],
   "source": [
    "NUM_VERTICES = g.num_verts()\n",
    "NUM_EDGES = g.size()\n",
    "VERTEX_DEGREE = g.degree()[0]"
   ]
  },
  {
   "cell_type": "code",
   "execution_count": 8,
   "metadata": {},
   "outputs": [],
   "source": [
    "adjacency_matrix = g.adjacency_matrix()\n",
    "adjacency_list = [ [0 for i in range(VERTEX_DEGREE)] for j in range(NUM_VERTICES)]\n",
    "for i in range(NUM_VERTICES):\n",
    "    d = 0\n",
    "    for j in range(NUM_VERTICES):\n",
    "        if adjacency_matrix[i][j] == 1:\n",
    "            adjacency_list[i][d] = j\n",
    "            d += 1"
   ]
  },
  {
   "cell_type": "code",
   "execution_count": 9,
   "metadata": {},
   "outputs": [],
   "source": [
    "# find the number of cycles of length k\n",
    "\n",
    "# https://ieeexplore.ieee.org/stamp/stamp.jsp?tp=&arnumber=1602189\n",
    "# We use a FIFO queue to store the open paths and a register to \n",
    "# record the length of the path. The register is not necessary, \n",
    "# because you can always get the length from the open path directly.\n",
    "# The algorithm starts with all vertices of the graph. First,\n",
    "# put all vertices into the queue and set the register to 0.\n",
    "# Then the iteration of main loop of the algorithm starts.\n",
    "# Fetch an open path from the queue. Its length is k which\n",
    "# is indicated by the register.\n",
    "# Verify if there is an edge which links the tail to the head\n",
    "# of the open path. If it is true, a cycle is enumerated, and\n",
    "# then output the cycle. When the register is 0 in such case, it\n",
    "# means the cycle is a selfloop.\n",
    "# Then get an adjacent edge of the tail whose end does not\n",
    "# occur in the open path and the order of its end is greater than\n",
    "# the order of the head. This edge and the k length open path\n",
    "# construct a new k + 1 length open path. Put this new open\n",
    "# path into the queue.\n",
    "# After having generated all the k + 1 length open paths\n",
    "# from the k length open path, if this open path is the last k\n",
    "# length open path of the queue, set register to k + 1.\n",
    "# If the queue is empty, the algorithm finishes, else jumps\n",
    "# to where the main loop starts.\n",
    "\n",
    "def find_cycles(k):\n",
    "    cycles = []\n",
    "    queue = []\n",
    "    for i in range(NUM_VERTICES):\n",
    "        queue.append([i])\n",
    "    while len(queue) > 0:\n",
    "        path = queue.pop(0)\n",
    "        if len(path) == k:\n",
    "            if path[0] in adjacency_list[path[-1]]:\n",
    "                cycle = path + [path[0]]\n",
    "                cycles.append(cycle)\n",
    "            continue\n",
    "        for i in adjacency_list[path[-1]]:\n",
    "            if i not in path and i > path[0]:\n",
    "                queue.append(path + [i])\n",
    "    return cycles"
   ]
  },
  {
   "cell_type": "code",
   "execution_count": null,
   "metadata": {},
   "outputs": [],
   "source": [
    "assert len(find_cycles(9)) == 0\n",
    "assert len(find_cycles(10)) == 528\n",
    "assert len(find_cycles(11)) == len([ c for c in g.to_directed().all_simple_cycles(max_length=11) if len(c) == 11 + 1 ])\n",
    "assert len(find_cycles(12)) == len([ c for c in g.to_directed().all_simple_cycles(max_length=12) if len(c) == 12 + 1 ])\n",
    "assert len(find_cycles(13)) == len([ c for c in g.to_directed().all_simple_cycles(max_length=13) if len(c) == 13 + 1 ])\n",
    "assert len(find_cycles(14)) == len([ c for c in g.to_directed().all_simple_cycles(max_length=14) if len(c) == 14 + 1 ])\n",
    "assert len(find_cycles(15)) == len([ c for c in g.to_directed().all_simple_cycles(max_length=15) if len(c) == 15 + 1 ])\n",
    "assert len(find_cycles(16)) == len([ c for c in g.to_directed().all_simple_cycles(max_length=16) if len(c) == 16 + 1 ])\n",
    "assert len(find_cycles(17)) == len([ c for c in g.to_directed().all_simple_cycles(max_length=17) if len(c) == 17 + 1 ])"
   ]
  },
  {
   "cell_type": "code",
   "execution_count": 11,
   "metadata": {},
   "outputs": [
    {
     "data": {
      "text/plain": [
       "2160"
      ]
     },
     "execution_count": 11,
     "metadata": {},
     "output_type": "execute_result"
    }
   ],
   "source": [
    "len(find_cycles(14))"
   ]
  },
  {
   "cell_type": "code",
   "execution_count": 17,
   "metadata": {},
   "outputs": [
    {
     "data": {
      "text/plain": [
       "2160"
      ]
     },
     "execution_count": 17,
     "metadata": {},
     "output_type": "execute_result"
    }
   ],
   "source": [
    "len([ c for c in g.to_directed().all_simple_cycles(max_length=14) if len(c) == 14 + 1 ])"
   ]
  },
  {
   "cell_type": "code",
   "execution_count": 18,
   "metadata": {},
   "outputs": [
    {
     "data": {
      "text/plain": [
       "4200"
      ]
     },
     "execution_count": 18,
     "metadata": {},
     "output_type": "execute_result"
    }
   ],
   "source": [
    "(14 + 13 + 12 + 11 + 10) * 70"
   ]
  },
  {
   "cell_type": "code",
   "execution_count": 12,
   "metadata": {},
   "outputs": [
    {
     "data": {
      "text/plain": [
       "640"
      ]
     },
     "execution_count": 12,
     "metadata": {},
     "output_type": "execute_result"
    }
   ],
   "source": [
    "len([ c for c in g.to_directed().all_simple_cycles(max_length=12) if len(c) == 12 + 1 ])"
   ]
  },
  {
   "cell_type": "code",
   "execution_count": 13,
   "metadata": {},
   "outputs": [
    {
     "data": {
      "text/plain": [
       "0"
      ]
     },
     "execution_count": 13,
     "metadata": {},
     "output_type": "execute_result"
    }
   ],
   "source": [
    "len([ c for c in g.to_directed().all_simple_cycles(max_length=13) if len(c) == 13 + 1 ])"
   ]
  },
  {
   "cell_type": "code",
   "execution_count": 14,
   "metadata": {},
   "outputs": [
    {
     "data": {
      "text/plain": [
       "7800"
      ]
     },
     "execution_count": 14,
     "metadata": {},
     "output_type": "execute_result"
    }
   ],
   "source": [
    "len([ c for c in g.to_directed().all_simple_cycles(max_length=16) if len(c) == 16 + 1 ])"
   ]
  },
  {
   "cell_type": "code",
   "execution_count": 15,
   "metadata": {},
   "outputs": [
    {
     "data": {
      "text/plain": [
       "0"
      ]
     },
     "execution_count": 15,
     "metadata": {},
     "output_type": "execute_result"
    }
   ],
   "source": [
    "len([ c for c in g.to_directed().all_simple_cycles(max_length=17) if len(c) == 17 + 1 ])"
   ]
  },
  {
   "cell_type": "code",
   "execution_count": 28,
   "metadata": {},
   "outputs": [],
   "source": [
    "g = graphs.TutteCoxeterGraph()\n",
    "adjacency_list = [ [] for j in range(len(g.vertices()))]\n",
    "for e in g.edges():\n",
    "    adjacency_list[e[0]].append(e[1])\n",
    "    adjacency_list[e[1]].append(e[0])"
   ]
  },
  {
   "cell_type": "code",
   "execution_count": 29,
   "metadata": {},
   "outputs": [],
   "source": [
    "# save to tutte_coxeter_graph.txt\n",
    "with open('adjacency_lists/tutte_coxeter_graph.txt', 'w') as f:\n",
    "    f.write(f'{len(g.vertices())} {len(g.edges())}\\n')\n",
    "    for i in range(len(g.vertices())):\n",
    "        f.write(f'{\" \".join(map(str, adjacency_list[i]))}\\n')"
   ]
  },
  {
   "cell_type": "code",
   "execution_count": 30,
   "metadata": {},
   "outputs": [],
   "source": [
    "g = graphs.HarriesGraph()\n",
    "adjacency_list = [ [] for j in range(len(g.vertices()))]\n",
    "for e in g.edges():\n",
    "    adjacency_list[e[0]].append(e[1])\n",
    "    adjacency_list[e[1]].append(e[0])\n",
    "\n",
    "with open('adjacency_lists/harries_10_cage.txt', 'w') as f:\n",
    "    f.write(f'{len(g.vertices())} {len(g.edges())}\\n')\n",
    "    for i in range(len(g.vertices())):\n",
    "        f.write(f'{\" \".join(map(str, adjacency_list[i]))}\\n')"
   ]
  },
  {
   "cell_type": "code",
   "execution_count": 33,
   "metadata": {},
   "outputs": [],
   "source": [
    "g = graphs.HarriesWongGraph()\n",
    "adjacency_list = [ [] for j in range(len(g.vertices()))]\n",
    "for e in g.edges():\n",
    "    adjacency_list[e[0]].append(e[1])\n",
    "    adjacency_list[e[1]].append(e[0])\n",
    "\n",
    "with open('adjacency_lists/harries_wong_10_cage.txt', 'w') as f:\n",
    "    f.write(f'{len(g.vertices())} {len(g.edges())}\\n')\n",
    "    for i in range(len(g.vertices())):\n",
    "        f.write(f'{\" \".join(map(str, adjacency_list[i]))}\\n')"
   ]
  },
  {
   "cell_type": "code",
   "execution_count": 34,
   "metadata": {},
   "outputs": [],
   "source": [
    "g = graphs.CompleteBipartiteGraph(3, 3)\n",
    "adjacency_list = [ [] for j in range(len(g.vertices()))]\n",
    "for e in g.edges():\n",
    "    adjacency_list[e[0]].append(e[1])\n",
    "    adjacency_list[e[1]].append(e[0])\n",
    "\n",
    "with open('adjacency_lists/k33.txt', 'w') as f:\n",
    "    f.write(f'{len(g.vertices())} {len(g.edges())}\\n')\n",
    "    for i in range(len(g.vertices())):\n",
    "        f.write(f'{\" \".join(map(str, adjacency_list[i]))}\\n')"
   ]
  },
  {
   "cell_type": "code",
   "execution_count": 35,
   "metadata": {},
   "outputs": [],
   "source": [
    "g = graphs.Tutte12Cage()\n",
    "adjacency_list = [ [] for j in range(len(g.vertices()))]\n",
    "for e in g.edges():\n",
    "    adjacency_list[e[0]].append(e[1])\n",
    "    adjacency_list[e[1]].append(e[0])\n",
    "\n",
    "with open('adjacency_lists/tutte12.txt', 'w') as f:\n",
    "    f.write(f'{len(g.vertices())} {len(g.edges())}\\n')\n",
    "    for i in range(len(g.vertices())):\n",
    "        f.write(f'{\" \".join(map(str, adjacency_list[i]))}\\n')"
   ]
  },
  {
   "cell_type": "code",
   "execution_count": 34,
   "metadata": {},
   "outputs": [],
   "source": [
    "g = graphs.Balaban11Cage()\n",
    "# relabel vertices from 0 to num verts\n",
    "g.relabel()\n",
    "adjacency_list = [ [] for j in range(len(g.vertices()))]\n",
    "for e in g.edges():\n",
    "    u, v = int(e[0]), int(e[1])\n",
    "    adjacency_list[u].append(v)\n",
    "    adjacency_list[v].append(u)\n",
    "\n",
    "with open('adjacency_lists/balaban11.txt', 'w') as f:\n",
    "    f.write(f'{len(g.vertices())} {len(g.edges())}\\n')\n",
    "    for i in range(len(g.vertices())):\n",
    "        f.write(f'{\" \".join(map(str, adjacency_list[i]))}\\n')"
   ]
  },
  {
   "cell_type": "code",
   "execution_count": 91,
   "metadata": {},
   "outputs": [],
   "source": [
    "# convert from https://www.win.tue.nl/~aeb/graphs/cages/cages.html format to own format\n",
    "new_content = ''\n",
    "file = 'adjacency_lists/7-6-cage.txt'\n",
    "with open(file, 'r') as f:\n",
    "    lines = f.readlines()\n",
    "    num_vertices = int(lines[0].strip()[1:])\n",
    "    adjacency_matrix = [ [0 for i in range(num_vertices)] for j in range(num_vertices)]\n",
    "    for i in range(1, len(lines)):\n",
    "        line = lines[i].strip()[:-1]\n",
    "        for j in line.split(','):\n",
    "            adjacency_matrix[i - 1][int(j)] = 1\n",
    "    num_edges = sum([ sum(row) for row in adjacency_matrix ]) // 2\n",
    "\n",
    "    new_content = f'{num_vertices} {num_edges}\\n'\n",
    "    for i in range(1, len(lines)):\n",
    "        line = lines[i].strip()[:-1].replace(',', ' ')\n",
    "        new_content += f'{line}\\n'\n",
    "\n",
    "with open(file, 'w') as f:\n",
    "    f.write(new_content)"
   ]
  }
 ],
 "metadata": {
  "kernelspec": {
   "display_name": "SageMath 10.3",
   "language": "sage",
   "name": "SageMath-10.3"
  },
  "language_info": {
   "codemirror_mode": {
    "name": "ipython",
    "version": 3
   },
   "file_extension": ".py",
   "mimetype": "text/x-python",
   "name": "python",
   "nbconvert_exporter": "python",
   "pygments_lexer": "ipython3",
   "version": "3.11.8"
  }
 },
 "nbformat": 4,
 "nbformat_minor": 2
}
