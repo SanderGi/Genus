{
 "cells": [
  {
   "cell_type": "code",
   "execution_count": 32,
   "id": "db56cc",
   "metadata": {
    "collapsed": false,
    "vscode": {
     "languageId": "python"
    }
   },
   "outputs": [],
   "source": [
    "from sage.all import *\n",
    "from find_obstructions import is_obstruction, is_minor_obstruction\n",
    "from adj_format import from_upper_tri, from_adj_list, to_upper_tri\n",
    "from genus_algos import run_algorithm"
   ]
  },
  {
   "cell_type": "markdown",
   "id": "e6abfd",
   "metadata": {
    "collapsed": false
   },
   "source": [
    "## Check if graphs are minor order obstructions"
   ]
  },
  {
   "cell_type": "code",
   "execution_count": 33,
   "id": "1b1a0f",
   "metadata": {
    "collapsed": false,
    "vscode": {
     "languageId": "python"
    }
   },
   "outputs": [
    {
     "name": "stdout",
     "output_type": "stream",
     "text": [
      "Graph on 10 vertices is minor order obstruction: False\n"
     ]
    }
   ],
   "source": [
    "# Graph 1\n",
    "adj_list = [\n",
    "    [2, 3, 4, 5, 6, 7], \n",
    "    [1, 3, 4, 5, 6, 7], \n",
    "    [1, 2, 4, 5, 6, 7], \n",
    "    [1, 2, 3, 8, 9, 10], \n",
    "    [1, 2, 3, 8, 9, 10], \n",
    "    [1, 2, 3, 8, 9, 10], \n",
    "    [1, 2, 3, 8, 9, 10], \n",
    "    [4, 5, 6, 7, 9, 10], \n",
    "    [4, 5, 6, 7, 8, 10], \n",
    "    [4, 5, 6, 7, 8, 9], \n",
    "]\n",
    "G = from_adj_list(adj_list)\n",
    "\n",
    "print(f\"{G} is minor order obstruction: {run_algorithm(G) == 2 and is_obstruction(G, 2, 'MULTI') and is_minor_obstruction(G, 2, 'MULTI')}\")"
   ]
  },
  {
   "cell_type": "code",
   "execution_count": 34,
   "id": "d662ba",
   "metadata": {
    "collapsed": false,
    "vscode": {
     "languageId": "python"
    }
   },
   "outputs": [
    {
     "name": "stdout",
     "output_type": "stream",
     "text": [
      "Graph on 10 vertices is minor order obstruction: False\n"
     ]
    }
   ],
   "source": [
    "# Graph 2\n",
    "adj_list = [\n",
    "    [2, 3, 4, 5, 6, 7], \n",
    "    [1, 3, 4, 5, 6, 7], \n",
    "    [1, 2, 4, 5, 6, 8], \n",
    "    [1, 2, 3, 7, 9, 10], \n",
    "    [1, 2, 3, 8, 9, 10], \n",
    "    [1, 2, 3, 8, 9, 10], \n",
    "    [1, 2, 4, 8, 9, 10], \n",
    "    [3, 5, 6, 7, 9, 10], \n",
    "    [4, 5, 6, 7, 8, 10], \n",
    "    [4, 5, 6, 7, 8, 9], \n",
    "]\n",
    "G = from_adj_list(adj_list)\n",
    "\n",
    "print(f\"{G} is minor order obstruction: {run_algorithm(G) == 2 and is_obstruction(G, 2, 'MULTI') and is_minor_obstruction(G, 2, 'MULTI')}\")"
   ]
  },
  {
   "cell_type": "code",
   "execution_count": 35,
   "id": "e7f749",
   "metadata": {
    "collapsed": false,
    "vscode": {
     "languageId": "python"
    }
   },
   "outputs": [
    {
     "name": "stdout",
     "output_type": "stream",
     "text": [
      "Graph on 10 vertices is minor order obstruction: False\n"
     ]
    }
   ],
   "source": [
    "# Graph 3\n",
    "adj_list = [\n",
    "    [2, 3, 4, 5, 6, 7], \n",
    "    [1, 3, 4, 5, 6, 7], \n",
    "    [1, 2, 4, 5, 8, 9], \n",
    "    [1, 2, 3, 5, 8, 10], \n",
    "    [1, 2, 3, 4, 9, 10], \n",
    "    [1, 2, 7, 8, 9, 10], \n",
    "    [1, 2, 6, 8, 9, 10], \n",
    "    [3, 4, 6, 7, 9, 10], \n",
    "    [3, 5, 6, 7, 8, 10], \n",
    "    [4, 5, 6, 7, 8, 9], \n",
    "]\n",
    "G = from_adj_list(adj_list)\n",
    "\n",
    "print(f\"{G} is minor order obstruction: {run_algorithm(G) == 2 and is_obstruction(G, 2, 'MULTI') and is_minor_obstruction(G, 2, 'MULTI')}\")"
   ]
  },
  {
   "cell_type": "code",
   "execution_count": 36,
   "id": "4be2db",
   "metadata": {
    "collapsed": false,
    "vscode": {
     "languageId": "python"
    }
   },
   "outputs": [
    {
     "name": "stdout",
     "output_type": "stream",
     "text": [
      "Graph on 10 vertices is minor order obstruction: False\n"
     ]
    }
   ],
   "source": [
    "# Graph 4\n",
    "adj_list = [\n",
    "    [2, 3, 4, 5, 6, 7], \n",
    "    [1, 3, 4, 5, 6, 7], \n",
    "    [1, 2, 4, 5, 8, 9], \n",
    "    [1, 2, 3, 6, 8, 10], \n",
    "    [1, 2, 3, 7, 9, 10], \n",
    "    [1, 2, 4, 8, 9, 10], \n",
    "    [1, 2, 5, 8, 9, 10], \n",
    "    [3, 4, 6, 7, 9, 10], \n",
    "    [3, 5, 6, 7, 8, 10], \n",
    "    [4, 5, 6, 7, 8, 9],    \n",
    "]\n",
    "G = from_adj_list(adj_list)\n",
    "\n",
    "print(f\"{G} is minor order obstruction: {run_algorithm(G) == 2 and is_obstruction(G, 2, 'MULTI') and is_minor_obstruction(G, 2, 'MULTI')}\")"
   ]
  },
  {
   "cell_type": "code",
   "execution_count": 37,
   "id": "7a40ff",
   "metadata": {
    "collapsed": false,
    "vscode": {
     "languageId": "python"
    }
   },
   "outputs": [
    {
     "name": "stdout",
     "output_type": "stream",
     "text": [
      "Graph on 10 vertices is minor order obstruction: False\n"
     ]
    }
   ],
   "source": [
    "# Graph 5\n",
    "adj_list = [\n",
    "    [2, 3, 4, 5, 6, 7], \n",
    "    [1, 3, 4, 5, 6, 7], \n",
    "    [1, 2, 4, 5, 8, 9], \n",
    "    [1, 2, 3, 8, 9, 10], \n",
    "    [1, 2, 3, 8, 9, 10], \n",
    "    [1, 2, 7, 8, 9, 10], \n",
    "    [1, 2, 6, 8, 9, 10], \n",
    "    [3, 4, 5, 6, 7, 10], \n",
    "    [3, 4, 5, 6, 7, 10], \n",
    "    [4, 5, 6, 7, 8, 9], \n",
    "]\n",
    "G = from_adj_list(adj_list)\n",
    "\n",
    "print(f\"{G} is minor order obstruction: {run_algorithm(G) == 2 and is_obstruction(G, 2, 'MULTI') and is_minor_obstruction(G, 2, 'MULTI')}\")"
   ]
  },
  {
   "cell_type": "code",
   "execution_count": 38,
   "id": "a8c846",
   "metadata": {
    "collapsed": false,
    "vscode": {
     "languageId": "python"
    }
   },
   "outputs": [
    {
     "name": "stdout",
     "output_type": "stream",
     "text": [
      "Graph on 10 vertices is minor order obstruction: False\n"
     ]
    }
   ],
   "source": [
    "# Graph 6\n",
    "adj_list = [\n",
    "    [2, 3, 4, 5, 6, 7], \n",
    "    [1, 3, 4, 5, 6, 8], \n",
    "    [1, 2, 4, 5, 6, 9], \n",
    "    [1, 2, 3, 7, 8, 10], \n",
    "    [1, 2, 3, 7, 9, 10], \n",
    "    [1, 2, 3, 8, 9, 10], \n",
    "    [1, 4, 5, 8, 9, 10], \n",
    "    [2, 4, 6, 7, 9, 10], \n",
    "    [3, 5, 6, 7, 8, 10], \n",
    "    [4, 5, 6, 7, 8, 9], \n",
    "]\n",
    "G = from_adj_list(adj_list)\n",
    "\n",
    "print(f\"{G} is minor order obstruction: {run_algorithm(G) == 2 and is_obstruction(G, 2, 'MULTI') and is_minor_obstruction(G, 2, 'MULTI')}\")"
   ]
  },
  {
   "cell_type": "code",
   "execution_count": 39,
   "id": "26e7b2",
   "metadata": {
    "collapsed": false,
    "vscode": {
     "languageId": "python"
    }
   },
   "outputs": [
    {
     "name": "stdout",
     "output_type": "stream",
     "text": [
      "Graph on 10 vertices is minor order obstruction: False\n"
     ]
    }
   ],
   "source": [
    "# Graph 7\n",
    "adj_list = [\n",
    "    [2, 3, 4, 5, 6, 7], \n",
    "    [1, 3, 4, 5, 6, 8], \n",
    "    [1, 2, 4, 5, 7, 9], \n",
    "    [1, 2, 3, 5, 8, 10], \n",
    "    [1, 2, 3, 4, 9, 10], \n",
    "    [1, 2, 7, 8, 9, 10], \n",
    "    [1, 3, 6, 8, 9, 10], \n",
    "    [2, 4, 6, 7, 9, 10], \n",
    "    [3, 5, 6, 7, 8, 10], \n",
    "    [4, 5, 6, 7, 8, 9],     \n",
    "]\n",
    "G = from_adj_list(adj_list)\n",
    "\n",
    "print(f\"{G} is minor order obstruction: {run_algorithm(G) == 2 and is_obstruction(G, 2, 'MULTI') and is_minor_obstruction(G, 2, 'MULTI')}\")"
   ]
  },
  {
   "cell_type": "code",
   "execution_count": 40,
   "id": "3fdbf1",
   "metadata": {
    "collapsed": false,
    "vscode": {
     "languageId": "python"
    }
   },
   "outputs": [
    {
     "name": "stdout",
     "output_type": "stream",
     "text": [
      "Graph on 10 vertices is minor order obstruction: False\n"
     ]
    }
   ],
   "source": [
    "# Graph 8\n",
    "adj_list = [\n",
    "    [2, 3, 4, 5, 6, 7], \n",
    "    [1, 3, 4, 5, 6, 8], \n",
    "    [1, 2, 4, 5, 7, 9], \n",
    "    [1, 2, 3, 6, 8, 10], \n",
    "    [1, 2, 3, 7, 9, 10], \n",
    "    [1, 2, 4, 8, 9, 10], \n",
    "    [1, 3, 5, 8, 9, 10], \n",
    "    [2, 4, 6, 7, 9, 10], \n",
    "    [3, 5, 6, 7, 8, 10], \n",
    "    [4, 5, 6, 7, 8, 9], \n",
    "]\n",
    "G8 = from_adj_list(adj_list)\n",
    "\n",
    "print(f\"{G8} is minor order obstruction: {run_algorithm(G8) == 2 and is_obstruction(G8, 2, 'MULTI') and is_minor_obstruction(G8, 2, 'MULTI')}\")"
   ]
  },
  {
   "cell_type": "code",
   "execution_count": 41,
   "id": "d30e96",
   "metadata": {
    "collapsed": false,
    "vscode": {
     "languageId": "python"
    }
   },
   "outputs": [
    {
     "name": "stdout",
     "output_type": "stream",
     "text": [
      "Graph on 10 vertices is minor order obstruction: False\n"
     ]
    }
   ],
   "source": [
    "# Graph 9\n",
    "adj_list = [\n",
    "    [2, 3, 4, 5, 6, 7], \n",
    "    [1, 3, 4, 5, 6, 8], \n",
    "    [1, 2, 4, 5, 7, 9], \n",
    "    [1, 2, 3, 6, 8, 10], \n",
    "    [1, 2, 3, 8, 9, 10], \n",
    "    [1, 2, 4, 7, 9, 10], \n",
    "    [1, 3, 6, 8, 9, 10], \n",
    "    [2, 4, 5, 7, 9, 10], \n",
    "    [3, 5, 6, 7, 8, 10], \n",
    "    [4, 5, 6, 7, 8, 9], \n",
    "]\n",
    "G = from_adj_list(adj_list)\n",
    "\n",
    "print(f\"{G} is minor order obstruction: {run_algorithm(G) == 2 and is_obstruction(G, 2, 'MULTI') and is_minor_obstruction(G, 2, 'MULTI')}\")"
   ]
  },
  {
   "cell_type": "code",
   "execution_count": 42,
   "id": "a9d7b3",
   "metadata": {
    "collapsed": false,
    "vscode": {
     "languageId": "python"
    }
   },
   "outputs": [
    {
     "name": "stdout",
     "output_type": "stream",
     "text": [
      "Graph on 10 vertices is minor order obstruction: False\n"
     ]
    }
   ],
   "source": [
    "# Graph 10\n",
    "adj_list = [\n",
    "    [2, 3, 4, 5, 6, 7], \n",
    "    [1, 3, 4, 5, 6, 8], \n",
    "    [1, 2, 4, 5, 7, 9], \n",
    "    [1, 2, 3, 6, 9, 10], \n",
    "    [1, 2, 3, 7, 8, 10], \n",
    "    [1, 2, 4, 8, 9, 10], \n",
    "    [1, 3, 5, 8, 9, 10], \n",
    "    [2, 5, 6, 7, 9, 10], \n",
    "    [3, 4, 6, 7, 8, 10], \n",
    "    [4, 5, 6, 7, 8, 9], \n",
    "]\n",
    "G = from_adj_list(adj_list)\n",
    "\n",
    "print(f\"{G} is minor order obstruction: {run_algorithm(G) == 2 and is_obstruction(G, 2, 'MULTI') and is_minor_obstruction(G, 2, 'MULTI')}\")"
   ]
  },
  {
   "cell_type": "code",
   "execution_count": 43,
   "id": "820351",
   "metadata": {
    "collapsed": false,
    "vscode": {
     "languageId": "python"
    }
   },
   "outputs": [
    {
     "name": "stdout",
     "output_type": "stream",
     "text": [
      "Graph on 10 vertices is minor order obstruction: False\n"
     ]
    }
   ],
   "source": [
    "# Graph 11\n",
    "adj_list = [\n",
    "    [2, 3, 4, 5, 6, 7], \n",
    "    [1, 3, 4, 5, 6, 8], \n",
    "    [1, 2, 4, 5, 7, 9], \n",
    "    [1, 2, 3, 6, 9, 10], \n",
    "    [1, 2, 3, 8, 9, 10], \n",
    "    [1, 2, 4, 7, 8, 10], \n",
    "    [1, 3, 6, 8, 9, 10], \n",
    "    [2, 5, 6, 7, 9, 10], \n",
    "    [3, 4, 5, 7, 8, 10], \n",
    "    [4, 5, 6, 7, 8, 9], \n",
    "]\n",
    "G = from_adj_list(adj_list)\n",
    "\n",
    "print(f\"{G} is minor order obstruction: {run_algorithm(G) == 2 and is_obstruction(G, 2, 'MULTI') and is_minor_obstruction(G, 2, 'MULTI')}\")"
   ]
  },
  {
   "cell_type": "code",
   "execution_count": 44,
   "id": "e64e40",
   "metadata": {
    "collapsed": false,
    "vscode": {
     "languageId": "python"
    }
   },
   "outputs": [
    {
     "name": "stdout",
     "output_type": "stream",
     "text": [
      "Graph on 10 vertices is minor order obstruction: False\n"
     ]
    }
   ],
   "source": [
    "# Graph 12\n",
    "adj_list = [\n",
    "    [2, 3, 4, 5, 6, 7], \n",
    "    [1, 3, 4, 5, 6, 8], \n",
    "    [1, 2, 4, 5, 7, 9], \n",
    "    [1, 2, 3, 8, 9, 10], \n",
    "    [1, 2, 3, 8, 9, 10], \n",
    "    [1, 2, 7, 8, 9, 10], \n",
    "    [1, 3, 6, 8, 9, 10], \n",
    "    [2, 4, 5, 6, 7, 10], \n",
    "    [3, 4, 5, 6, 7, 10], \n",
    "    [4, 5, 6, 7, 8, 9], \n",
    "]\n",
    "G = from_adj_list(adj_list)\n",
    "\n",
    "print(f\"{G} is minor order obstruction: {run_algorithm(G) == 2 and is_obstruction(G, 2, 'MULTI') and is_minor_obstruction(G, 2, 'MULTI')}\")"
   ]
  },
  {
   "cell_type": "code",
   "execution_count": 45,
   "id": "1d129e",
   "metadata": {
    "collapsed": false,
    "vscode": {
     "languageId": "python"
    }
   },
   "outputs": [
    {
     "name": "stdout",
     "output_type": "stream",
     "text": [
      "Graph on 10 vertices is minor order obstruction: False\n"
     ]
    }
   ],
   "source": [
    "# Graph 13\n",
    "adj_list = [\n",
    "    [2, 3, 4, 5, 6, 7], \n",
    "    [1, 3, 4, 5, 6, 8], \n",
    "    [1, 2, 4, 5, 9, 10], \n",
    "    [1, 2, 3, 6, 9, 10], \n",
    "    [1, 2, 3, 7, 8, 9], \n",
    "    [1, 2, 4, 7, 8, 10], \n",
    "    [1, 5, 6, 8, 9, 10], \n",
    "    [2, 5, 6, 7, 9, 10], \n",
    "    [3, 4, 5, 7, 8, 10], \n",
    "    [3, 4, 6, 7, 8, 9], \n",
    "]\n",
    "G = from_adj_list(adj_list)\n",
    "\n",
    "print(f\"{G} is minor order obstruction: {run_algorithm(G) == 2 and is_obstruction(G, 2, 'MULTI') and is_minor_obstruction(G, 2, 'MULTI')}\")"
   ]
  },
  {
   "cell_type": "code",
   "execution_count": 46,
   "id": "687678",
   "metadata": {
    "collapsed": false,
    "vscode": {
     "languageId": "python"
    }
   },
   "outputs": [
    {
     "name": "stdout",
     "output_type": "stream",
     "text": [
      "Graph on 10 vertices is minor order obstruction: False\n"
     ]
    }
   ],
   "source": [
    "# Graph 14\n",
    "adj_list = [\n",
    "    [2, 3, 4, 5, 6, 7], \n",
    "    [1, 3, 4, 5, 6, 8], \n",
    "    [1, 2, 4, 5, 9, 10], \n",
    "    [1, 2, 3, 7, 8, 9], \n",
    "    [1, 2, 3, 7, 8, 10], \n",
    "    [1, 2, 7, 8, 9, 10], \n",
    "    [1, 4, 5, 6, 9, 10], \n",
    "    [2, 4, 5, 6, 9, 10], \n",
    "    [3, 4, 6, 7, 8, 10], \n",
    "    [3, 5, 6, 7, 8, 9], \n",
    "]\n",
    "G = from_adj_list(adj_list)\n",
    "\n",
    "print(f\"{G} is minor order obstruction: {run_algorithm(G) == 2 and is_obstruction(G, 2, 'MULTI') and is_minor_obstruction(G, 2, 'MULTI')}\")"
   ]
  },
  {
   "cell_type": "code",
   "execution_count": 47,
   "id": "3fa608",
   "metadata": {
    "collapsed": false,
    "vscode": {
     "languageId": "python"
    }
   },
   "outputs": [
    {
     "name": "stdout",
     "output_type": "stream",
     "text": [
      "Graph on 10 vertices is minor order obstruction: False\n"
     ]
    }
   ],
   "source": [
    "# Graph 15\n",
    "adj_list = [\n",
    "    [2, 3, 4, 5, 6, 7], \n",
    "    [1, 3, 4, 5, 6, 8], \n",
    "    [1, 2, 4, 5, 9, 10], \n",
    "    [1, 2, 3, 7, 8, 9], \n",
    "    [1, 2, 3, 7, 9, 10], \n",
    "    [1, 2, 7, 8, 9, 10], \n",
    "    [1, 4, 5, 6, 8, 10], \n",
    "    [2, 4, 6, 7, 9, 10], \n",
    "    [3, 4, 5, 6, 8, 10], \n",
    "    [3, 5, 6, 7, 8, 9], \n",
    "]\n",
    "G = from_adj_list(adj_list)\n",
    "\n",
    "print(f\"{G} is minor order obstruction: {run_algorithm(G) == 2 and is_obstruction(G, 2, 'MULTI') and is_minor_obstruction(G, 2, 'MULTI')}\")"
   ]
  },
  {
   "cell_type": "code",
   "execution_count": 48,
   "id": "67d954",
   "metadata": {
    "collapsed": false,
    "vscode": {
     "languageId": "python"
    }
   },
   "outputs": [
    {
     "name": "stdout",
     "output_type": "stream",
     "text": [
      "Graph on 10 vertices is minor order obstruction: False\n"
     ]
    }
   ],
   "source": [
    "# Graph 16\n",
    "adj_list = [\n",
    "    [2, 3, 4, 5, 6, 7], \n",
    "    [1, 3, 4, 5, 6, 8], \n",
    "    [1, 2, 4, 7, 9, 10], \n",
    "    [1, 2, 3, 8, 9, 10], \n",
    "    [1, 2, 6, 7, 9, 10], \n",
    "    [1, 2, 5, 8, 9, 10], \n",
    "    [1, 3, 5, 8, 9, 10], \n",
    "    [2, 4, 6, 7, 9, 10], \n",
    "    [3, 4, 5, 6, 7, 8], \n",
    "    [3, 4, 5, 6, 7, 8], \n",
    "]\n",
    "G = from_adj_list(adj_list)\n",
    "\n",
    "print(f\"{G} is minor order obstruction: {run_algorithm(G) == 2 and is_obstruction(G, 2, 'MULTI') and is_minor_obstruction(G, 2, 'MULTI')}\")"
   ]
  },
  {
   "cell_type": "code",
   "execution_count": 49,
   "id": "be6bb1",
   "metadata": {
    "collapsed": false,
    "vscode": {
     "languageId": "python"
    }
   },
   "outputs": [
    {
     "name": "stdout",
     "output_type": "stream",
     "text": [
      "Graph on 10 vertices is minor order obstruction: False\n"
     ]
    }
   ],
   "source": [
    "# Graph 17\n",
    "adj_list = [\n",
    "    [2, 3, 4, 5, 6, 7], \n",
    "    [1, 3, 4, 5, 6, 8], \n",
    "    [1, 2, 4, 7, 9, 10], \n",
    "    [1, 2, 3, 8, 9, 10], \n",
    "    [1, 2, 7, 8, 9, 10], \n",
    "    [1, 2, 7, 8, 9, 10], \n",
    "    [1, 3, 5, 6, 9, 10], \n",
    "    [2, 4, 5, 6, 9, 10], \n",
    "    [3, 4, 5, 6, 7, 8], \n",
    "    [3, 4, 5, 6, 7, 8], \n",
    "]\n",
    "G = from_adj_list(adj_list)\n",
    "\n",
    "print(f\"{G} is minor order obstruction: {run_algorithm(G) == 2 and is_obstruction(G, 2, 'MULTI') and is_minor_obstruction(G, 2, 'MULTI')}\")"
   ]
  },
  {
   "cell_type": "code",
   "execution_count": 50,
   "id": "c68968",
   "metadata": {
    "collapsed": false,
    "vscode": {
     "languageId": "python"
    }
   },
   "outputs": [
    {
     "name": "stdout",
     "output_type": "stream",
     "text": [
      "Graph on 10 vertices is minor order obstruction: False\n"
     ]
    }
   ],
   "source": [
    "# Graph 18\n",
    "adj_list = [\n",
    "    [2, 3, 4, 5, 6, 7], \n",
    "    [1, 3, 4, 5, 6, 8], \n",
    "    [1, 2, 7, 8, 9, 10], \n",
    "    [1, 2, 7, 8, 9, 10], \n",
    "    [1, 2, 7, 8, 9, 10], \n",
    "    [1, 2, 7, 8, 9, 10], \n",
    "    [1, 3, 4, 5, 6, 9], \n",
    "    [2, 3, 4, 5, 6, 10], \n",
    "    [3, 4, 5, 6, 7, 10], \n",
    "    [3, 4, 5, 6, 8, 9], \n",
    "]\n",
    "G = from_adj_list(adj_list)\n",
    "\n",
    "print(f\"{G} is minor order obstruction: {run_algorithm(G) == 2 and is_obstruction(G, 2, 'MULTI') and is_minor_obstruction(G, 2, 'MULTI')}\")"
   ]
  },
  {
   "cell_type": "code",
   "execution_count": 51,
   "id": "6af82a",
   "metadata": {
    "collapsed": false,
    "vscode": {
     "languageId": "python"
    }
   },
   "outputs": [
    {
     "name": "stdout",
     "output_type": "stream",
     "text": [
      "Graph on 10 vertices is minor order obstruction: True\n"
     ]
    }
   ],
   "source": [
    "# Graph 19\n",
    "adj_list = [\n",
    "    [2, 3, 4, 5, 6, 7], \n",
    "    [1, 3, 4, 5, 8, 9], \n",
    "    [1, 2, 4, 6, 8, 10], \n",
    "    [1, 2, 3, 7, 9, 10], \n",
    "    [1, 2, 6, 7, 8, 9], \n",
    "    [1, 3, 5, 7, 8, 10], \n",
    "    [1, 4, 5, 6, 9, 10], \n",
    "    [2, 3, 5, 6, 9, 10], \n",
    "    [2, 4, 5, 7, 8, 10], \n",
    "    [3, 4, 6, 7, 8, 9],\n",
    "]\n",
    "G19 = from_adj_list(adj_list)\n",
    "\n",
    "print(f\"{G19} is minor order obstruction: {run_algorithm(G19) == 2 and is_obstruction(G19, 2, 'MULTI') and is_minor_obstruction(G19, 2, 'MULTI')}\")"
   ]
  },
  {
   "cell_type": "code",
   "execution_count": 52,
   "id": "f92050",
   "metadata": {
    "collapsed": false,
    "vscode": {
     "languageId": "python"
    }
   },
   "outputs": [
    {
     "name": "stdout",
     "output_type": "stream",
     "text": [
      "Graph on 10 vertices is minor order obstruction: False\n"
     ]
    }
   ],
   "source": [
    "# Graph 20\n",
    "adj_list = [\n",
    "    [2, 3, 4, 5, 6, 7], \n",
    "    [1, 3, 4, 5, 8, 9], \n",
    "    [1, 2, 4, 6, 8, 10], \n",
    "    [1, 2, 3, 7, 9, 10], \n",
    "    [1, 2, 6, 7, 8, 9], \n",
    "    [1, 3, 5, 7, 9, 10], \n",
    "    [1, 4, 5, 6, 8, 10], \n",
    "    [2, 3, 5, 7, 9, 10], \n",
    "    [2, 4, 5, 6, 8, 10], \n",
    "    [3, 4, 6, 7, 8, 9],     \n",
    "]\n",
    "G = from_adj_list(adj_list)\n",
    "\n",
    "print(f\"{G} is minor order obstruction: {run_algorithm(G) == 2 and is_obstruction(G, 2, 'MULTI') and is_minor_obstruction(G, 2, 'MULTI')}\")"
   ]
  },
  {
   "cell_type": "code",
   "execution_count": 53,
   "id": "80239e",
   "metadata": {
    "collapsed": false,
    "vscode": {
     "languageId": "python"
    }
   },
   "outputs": [
    {
     "name": "stdout",
     "output_type": "stream",
     "text": [
      "Graph on 10 vertices is minor order obstruction: False\n"
     ]
    }
   ],
   "source": [
    "# Graph 21\n",
    "adj_list = [\n",
    "    [2, 3, 4, 5, 6, 7], \n",
    "    [1, 3, 4, 5, 8, 9], \n",
    "    [1, 2, 4, 6, 8, 10], \n",
    "    [1, 2, 3, 7, 9, 10], \n",
    "    [1, 2, 6, 7, 8, 10], \n",
    "    [1, 3, 5, 7, 9, 10], \n",
    "    [1, 4, 5, 6, 8, 9], \n",
    "    [2, 3, 5, 7, 9, 10], \n",
    "    [2, 4, 6, 7, 8, 10], \n",
    "    [3, 4, 5, 6, 8, 9], \n",
    "]\n",
    "G = from_adj_list(adj_list)\n",
    "\n",
    "print(f\"{G} is minor order obstruction: {run_algorithm(G) == 2 and is_obstruction(G, 2, 'MULTI') and is_minor_obstruction(G, 2, 'MULTI')}\")"
   ]
  },
  {
   "cell_type": "markdown",
   "id": "311182",
   "metadata": {
    "collapsed": false
   },
   "source": [
    "## For the Minor Order Obstructions, Check if They are on Myrvold's List\n",
    "\n"
   ]
  },
  {
   "cell_type": "code",
   "execution_count": 54,
   "id": "eeeb69",
   "metadata": {
    "collapsed": false,
    "vscode": {
     "languageId": "python"
    }
   },
   "outputs": [],
   "source": [
    "with open(\"myrvold_minor_obs.txt\", \"r\") as f:\n",
    "        minor_obs = [from_upper_tri(l) for l in f.readlines()]\n",
    "\n",
    "def find_tri_format(g):\n",
    "    for m in minor_obs:\n",
    "        if g.is_isomorphic(m):\n",
    "            return to_upper_tri(m)\n",
    "    return None"
   ]
  },
  {
   "cell_type": "code",
   "execution_count": 56,
   "id": "8e3d8d",
   "metadata": {
    "collapsed": false,
    "vscode": {
     "languageId": "python"
    }
   },
   "outputs": [
    {
     "data": {
      "image/png": "[encoded data removed]",
      "text/plain": [
       "Graphics object consisting of 41 graphics primitives"
      ]
     },
     "metadata": {},
     "output_type": "display_data"
    },
    {
     "name": "stdout",
     "output_type": "stream",
     "text": [
      "Match in Myrvold's List: 10 111111000111001101010101001011111101101011111\n"
     ]
    }
   ],
   "source": [
    "G19.show(layout='circular')\n",
    "print(\"Match in Myrvold's List:\", find_tri_format(G19))"
   ]
  }
 ],
 "metadata": {
  "kernelspec": {
   "argv": [
    "sage-10.6",
    "--python",
    "-m",
    "sage.repl.ipython_kernel",
    "--matplotlib=inline",
    "-f",
    "{connection_file}"
   ],
   "display_name": "SageMath 10.3",
   "env": {},
   "language": "sage",
   "name": "SageMath-10.3",
   "resource_dir": "/ext/jupyter/kernels/sage-10.6"
  },
  "language_info": {
   "codemirror_mode": {
    "name": "ipython",
    "version": 3
   },
   "file_extension": ".py",
   "mimetype": "text/x-python",
   "name": "sage",
   "nbconvert_exporter": "python",
   "pygments_lexer": "ipython3",
   "version": "3.11.8"
  }
 },
 "nbformat": 4,
 "nbformat_minor": 4
}
